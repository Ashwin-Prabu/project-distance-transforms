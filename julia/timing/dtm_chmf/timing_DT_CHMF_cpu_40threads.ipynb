{
  "nbformat": 4,
  "nbformat_minor": 0,
  "metadata": {
    "colab": {
      "name": "timing_DT_CHMF_cpu_40threads.ipynb",
      "provenance": [],
      "collapsed_sections": [],
      "toc_visible": true,
      "machine_shape": "hm"
    },
    "kernelspec": {
      "display_name": "Julia",
      "language": "julia",
      "name": "julia"
    },
    "language_info": {
      "file_extension": ".jl",
      "mimetype": "application/julia",
      "name": "julia"
    }
  },
  "cells": [
    {
      "cell_type": "markdown",
      "metadata": {
        "id": "tQ1r1bbb0yBv"
      },
      "source": [
        "## Julia on Colab Instructions\n",
        "1. Work on a copy of this notebook: _File_ > _Save a copy in Drive_ (you will need a Google account). Alternatively, you can download the notebook using _File_ > _Download .ipynb_, then upload it to [Colab](https://colab.research.google.com/).\n",
        "2. If you need a GPU: _Runtime_ > _Change runtime type_ > _Harware accelerator_ = _GPU_.\n",
        "3. Execute the following cell (click on it and press Ctrl+Enter) to install Julia, IJulia and other packages (if needed, update `JULIA_VERSION` and the other parameters). This takes a couple of minutes.\n",
        "4. Reload this page (press Ctrl+R, or ⌘+R, or the F5 key) and continue to the next section.\n",
        "\n",
        "_Notes_:\n",
        "* If your Colab Runtime gets reset (e.g., due to inactivity), repeat steps 2, 3 and 4.\n",
        "* After installation, if you want to change the Julia version or activate/deactivate the GPU, you will need to reset the Runtime: _Runtime_ > _Factory reset runtime_ and repeat steps 3 and 4."
      ]
    },
    {
      "cell_type": "code",
      "metadata": {
        "colab": {
          "base_uri": "https://localhost:8080/"
        },
        "id": "GIeFXS0F0zww",
        "outputId": "c126ee36-3779-4c72-8961-781dd8d5c43e"
      },
      "source": [
        "%%shell\n",
        "set -e\n",
        "\n",
        "#---------------------------------------------------#\n",
        "JULIA_VERSION=\"1.6.1\" # any version ≥ 0.7.0\n",
        "JULIA_PACKAGES=\"IJulia BenchmarkTools https://github.com/Dale-Black/DistanceTransforms.jl.git ImageMorphology\"\n",
        "JULIA_PACKAGES_IF_GPU=\"CUDA\" # or CuArrays for older Julia versions\n",
        "JULIA_NUM_THREADS=40\n",
        "#---------------------------------------------------#\n",
        "\n",
        "if [ -n \"$COLAB_GPU\" ] && [ -z `which julia` ]; then\n",
        "  # Install Julia\n",
        "  JULIA_VER=`cut -d '.' -f -2 <<< \"$JULIA_VERSION\"`\n",
        "  echo \"Installing Julia $JULIA_VERSION on the current Colab Runtime...\"\n",
        "  BASE_URL=\"https://julialang-s3.julialang.org/bin/linux/x64\"\n",
        "  URL=\"$BASE_URL/$JULIA_VER/julia-$JULIA_VERSION-linux-x86_64.tar.gz\"\n",
        "  wget -nv $URL -O /tmp/julia.tar.gz # -nv means \"not verbose\"\n",
        "  tar -x -f /tmp/julia.tar.gz -C /usr/local --strip-components 1\n",
        "  rm /tmp/julia.tar.gz\n",
        "\n",
        "  # Install Packages\n",
        "  if [ \"$COLAB_GPU\" = \"1\" ]; then\n",
        "      JULIA_PACKAGES=\"$JULIA_PACKAGES $JULIA_PACKAGES_IF_GPU\"\n",
        "  fi\n",
        "  for PKG in `echo $JULIA_PACKAGES`; do\n",
        "    echo \"Installing Julia package $PKG...\"\n",
        "    julia -e 'using Pkg; pkg\"add '$PKG'; precompile;\"' &> /dev/null\n",
        "  done\n",
        "\n",
        "  # Install kernel and rename it to \"julia\"\n",
        "  echo \"Installing IJulia kernel...\"\n",
        "  julia -e 'using IJulia; IJulia.installkernel(\"julia\", env=Dict(\n",
        "      \"JULIA_NUM_THREADS\"=>\"'\"$JULIA_NUM_THREADS\"'\"))'\n",
        "  KERNEL_DIR=`julia -e \"using IJulia; print(IJulia.kerneldir())\"`\n",
        "  KERNEL_NAME=`ls -d \"$KERNEL_DIR\"/julia*`\n",
        "  mv -f $KERNEL_NAME \"$KERNEL_DIR\"/julia  \n",
        "\n",
        "  echo ''\n",
        "  echo \"Success! Please reload this page and jump to the next section.\"\n",
        "fi"
      ],
      "execution_count": null,
      "outputs": [
        {
          "output_type": "stream",
          "text": [
            "Installing Julia 1.6.1 on the current Colab Runtime...\n",
            "2021-06-28 13:11:34 URL:https://storage.googleapis.com/julialang2/bin/linux/x64/1.6/julia-1.6.1-linux-x86_64.tar.gz [112784227/112784227] -> \"/tmp/julia.tar.gz\" [1]\n",
            "Installing Julia package IJulia...\n",
            "Installing Julia package BenchmarkTools...\n",
            "Installing Julia package https://github.com/Dale-Black/DistanceTransforms.jl.git...\n",
            "Installing Julia package ImageMorphology...\n",
            "Installing IJulia kernel...\n",
            "\u001b[36m\u001b[1m[ \u001b[22m\u001b[39m\u001b[36m\u001b[1mInfo: \u001b[22m\u001b[39mInstalling julia kernelspec in /root/.local/share/jupyter/kernels/julia-1.6\n",
            "\n",
            "Success! Please reload this page and jump to the next section.\n"
          ],
          "name": "stdout"
        },
        {
          "output_type": "execute_result",
          "data": {
            "text/plain": [
              ""
            ]
          },
          "metadata": {
            "tags": []
          },
          "execution_count": 1
        }
      ]
    },
    {
      "cell_type": "markdown",
      "metadata": {
        "id": "-OS3Ac017T1i"
      },
      "source": [
        "## Checking the Installation\n",
        "The `versioninfo()` function should print your Julia version and some other info about the system:"
      ]
    },
    {
      "cell_type": "code",
      "metadata": {
        "colab": {
          "base_uri": "https://localhost:8080/"
        },
        "id": "EEzvvzCl1i0F",
        "outputId": "e4483999-ebe5-420c-f780-c7cb3cb29612"
      },
      "source": [
        "versioninfo()"
      ],
      "execution_count": 1,
      "outputs": [
        {
          "output_type": "stream",
          "text": [
            "Julia Version 1.6.1\n",
            "Commit 6aaedecc44 (2021-04-23 05:59 UTC)\n",
            "Platform Info:\n",
            "  OS: Linux (x86_64-pc-linux-gnu)\n",
            "  CPU: Intel(R) Xeon(R) CPU @ 2.30GHz\n",
            "  WORD_SIZE: 64\n",
            "  LIBM: libopenlibm\n",
            "  LLVM: libLLVM-11.0.1 (ORCJIT, haswell)\n",
            "Environment:\n",
            "  JULIA_NUM_THREADS = 40\n"
          ],
          "name": "stdout"
        }
      ]
    },
    {
      "cell_type": "markdown",
      "metadata": {
        "id": "8KjaFYZ_ahVr"
      },
      "source": [
        "## Import Packages"
      ]
    },
    {
      "cell_type": "code",
      "metadata": {
        "id": "IA2XO47maiop"
      },
      "source": [
        "using BenchmarkTools\n",
        "using DistanceTransforms\n",
        "using ImageMorphology"
      ],
      "execution_count": 2,
      "outputs": []
    },
    {
      "cell_type": "markdown",
      "metadata": {
        "id": "yFFk2zKAM5ea"
      },
      "source": [
        "## Load test data"
      ]
    },
    {
      "cell_type": "code",
      "metadata": {
        "id": "GmWLkIa4Mc24"
      },
      "source": [
        "x = rand([0,1], (112, 112, 96, 1, 4));"
      ],
      "execution_count": 3,
      "outputs": []
    },
    {
      "cell_type": "markdown",
      "metadata": {
        "id": "FOpAO0u1lxMP"
      },
      "source": [
        "## Pure feature transform"
      ]
    },
    {
      "cell_type": "code",
      "metadata": {
        "id": "d5nwfBz4mLsP"
      },
      "source": [
        "x_ft = ImageMorphology.feature_transform(.!(Bool.(x)));"
      ],
      "execution_count": 4,
      "outputs": []
    },
    {
      "cell_type": "code",
      "metadata": {
        "colab": {
          "base_uri": "https://localhost:8080/"
        },
        "id": "m1-DBd8klwUh",
        "outputId": "a059fa41-a1c4-4c11-a728-40fc91b3d53e"
      },
      "source": [
        "@benchmark ImageMorphology.feature_transform(.!(Bool.($x)))"
      ],
      "execution_count": 5,
      "outputs": [
        {
          "output_type": "execute_result",
          "data": {
            "text/plain": [
              "BenchmarkTools.Trial: \n",
              "  memory estimate:  1.03 GiB\n",
              "  allocs estimate:  23124023\n",
              "  --------------\n",
              "  minimum time:     2.311 s (7.10% GC)\n",
              "  median time:      2.444 s (7.40% GC)\n",
              "  mean time:        2.422 s (8.93% GC)\n",
              "  maximum time:     2.510 s (12.11% GC)\n",
              "  --------------\n",
              "  samples:          3\n",
              "  evals/sample:     1"
            ]
          },
          "metadata": {
            "tags": []
          },
          "execution_count": 5
        }
      ]
    },
    {
      "cell_type": "markdown",
      "metadata": {
        "id": "9Hbg1NhomVq-"
      },
      "source": [
        "## Pure distance transform"
      ]
    },
    {
      "cell_type": "code",
      "metadata": {
        "id": "xAgurPZrl-S2"
      },
      "source": [
        "x_dt = ImageMorphology.distance_transform(x_ft);"
      ],
      "execution_count": 6,
      "outputs": []
    },
    {
      "cell_type": "code",
      "metadata": {
        "id": "5bFQV-H6meId",
        "colab": {
          "base_uri": "https://localhost:8080/"
        },
        "outputId": "9179b472-dd32-4904-822c-09eb16fdbd64"
      },
      "source": [
        "@benchmark ImageMorphology.distance_transform($x_ft)"
      ],
      "execution_count": 7,
      "outputs": [
        {
          "output_type": "execute_result",
          "data": {
            "text/plain": [
              "BenchmarkTools.Trial: \n",
              "  memory estimate:  36.75 MiB\n",
              "  allocs estimate:  3\n",
              "  --------------\n",
              "  minimum time:     54.824 ms (0.00% GC)\n",
              "  median time:      56.449 ms (0.00% GC)\n",
              "  mean time:        57.384 ms (1.89% GC)\n",
              "  maximum time:     66.064 ms (11.19% GC)\n",
              "  --------------\n",
              "  samples:          88\n",
              "  evals/sample:     1"
            ]
          },
          "metadata": {
            "tags": []
          },
          "execution_count": 7
        }
      ]
    },
    {
      "cell_type": "markdown",
      "metadata": {
        "id": "WaiQSKFEmseH"
      },
      "source": [
        "## Full `compute_dtm`"
      ]
    },
    {
      "cell_type": "code",
      "metadata": {
        "id": "_IITFSyUml3e"
      },
      "source": [
        "x_dtm = DistanceTransforms.compute_dtm(x);"
      ],
      "execution_count": 8,
      "outputs": []
    },
    {
      "cell_type": "code",
      "metadata": {
        "id": "VzO-YrF9m13k",
        "colab": {
          "base_uri": "https://localhost:8080/"
        },
        "outputId": "ff5adb17-b43b-427c-dce2-2fff3db83070"
      },
      "source": [
        "@benchmark DistanceTransforms.compute_dtm($x)"
      ],
      "execution_count": 9,
      "outputs": [
        {
          "output_type": "execute_result",
          "data": {
            "text/plain": [
              "BenchmarkTools.Trial: \n",
              "  memory estimate:  1.07 GiB\n",
              "  allocs estimate:  23124026\n",
              "  --------------\n",
              "  minimum time:     2.324 s (5.82% GC)\n",
              "  median time:      2.430 s (7.96% GC)\n",
              "  mean time:        2.524 s (11.63% GC)\n",
              "  maximum time:     2.818 s (19.60% GC)\n",
              "  --------------\n",
              "  samples:          3\n",
              "  evals/sample:     1"
            ]
          },
          "metadata": {
            "tags": []
          },
          "execution_count": 9
        }
      ]
    },
    {
      "cell_type": "markdown",
      "metadata": {
        "id": "Fu61sZuowME_"
      },
      "source": [
        "## Time `chamfer_distance`"
      ]
    },
    {
      "cell_type": "code",
      "metadata": {
        "colab": {
          "base_uri": "https://localhost:8080/"
        },
        "id": "wmomy-Wcx2w0",
        "outputId": "424edf89-397e-48d1-abc4-22d58fa22923"
      },
      "source": [
        "function chamfer_distance5D(x)\n",
        "\tdt = zeros(Int32, size(x))\n",
        "\tfor batch in 1:size(x)[5]\n",
        "\t\tfor channel in 1:size(x)[4]\n",
        "\t\t\tdt[:, :, :, channel, batch] = chamfer_distance3D(x[:, :, :, channel, batch])\n",
        "\t\tend\n",
        "\tend\n",
        "\treturn dt\n",
        "end"
      ],
      "execution_count": 10,
      "outputs": [
        {
          "output_type": "execute_result",
          "data": {
            "text/plain": [
              "chamfer_distance5D (generic function with 1 method)"
            ]
          },
          "metadata": {
            "tags": []
          },
          "execution_count": 10
        }
      ]
    },
    {
      "cell_type": "code",
      "metadata": {
        "id": "1qp1oTNwwYhn"
      },
      "source": [
        "x_chmf = chamfer_distance5D(x);"
      ],
      "execution_count": 11,
      "outputs": []
    },
    {
      "cell_type": "code",
      "metadata": {
        "colab": {
          "base_uri": "https://localhost:8080/"
        },
        "id": "mNs9QEeKwfXr",
        "outputId": "33fb0051-0045-4895-9df0-874532ae3f33"
      },
      "source": [
        "@benchmark chamfer_distance5D(x)"
      ],
      "execution_count": 12,
      "outputs": [
        {
          "output_type": "execute_result",
          "data": {
            "text/plain": [
              "BenchmarkTools.Trial: \n",
              "  memory estimate:  128.68 MiB\n",
              "  allocs estimate:  1559\n",
              "  --------------\n",
              "  minimum time:     130.572 ms (0.00% GC)\n",
              "  median time:      147.091 ms (9.63% GC)\n",
              "  mean time:        143.841 ms (7.14% GC)\n",
              "  maximum time:     161.384 ms (17.51% GC)\n",
              "  --------------\n",
              "  samples:          35\n",
              "  evals/sample:     1"
            ]
          },
          "metadata": {
            "tags": []
          },
          "execution_count": 12
        }
      ]
    },
    {
      "cell_type": "code",
      "metadata": {
        "id": "j1A6_phex4Wv"
      },
      "source": [
        ""
      ],
      "execution_count": null,
      "outputs": []
    }
  ]
}