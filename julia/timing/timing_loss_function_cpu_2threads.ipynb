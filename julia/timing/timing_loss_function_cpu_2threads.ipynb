{
  "nbformat": 4,
  "nbformat_minor": 0,
  "metadata": {
    "colab": {
      "name": "timing_loss_function_cpu_2threads.ipynb",
      "provenance": [],
      "collapsed_sections": [],
      "toc_visible": true,
      "machine_shape": "hm"
    },
    "kernelspec": {
      "display_name": "Julia",
      "language": "julia",
      "name": "julia"
    },
    "language_info": {
      "file_extension": ".jl",
      "mimetype": "application/julia",
      "name": "julia"
    }
  },
  "cells": [
    {
      "cell_type": "markdown",
      "metadata": {
        "id": "tQ1r1bbb0yBv"
      },
      "source": [
        "## Julia on Colab Instructions\n",
        "1. Work on a copy of this notebook: _File_ > _Save a copy in Drive_ (you will need a Google account). Alternatively, you can download the notebook using _File_ > _Download .ipynb_, then upload it to [Colab](https://colab.research.google.com/).\n",
        "2. If you need a GPU: _Runtime_ > _Change runtime type_ > _Harware accelerator_ = _GPU_.\n",
        "3. Execute the following cell (click on it and press Ctrl+Enter) to install Julia, IJulia and other packages (if needed, update `JULIA_VERSION` and the other parameters). This takes a couple of minutes.\n",
        "4. Reload this page (press Ctrl+R, or ⌘+R, or the F5 key) and continue to the next section.\n",
        "\n",
        "_Notes_:\n",
        "* If your Colab Runtime gets reset (e.g., due to inactivity), repeat steps 2, 3 and 4.\n",
        "* After installation, if you want to change the Julia version or activate/deactivate the GPU, you will need to reset the Runtime: _Runtime_ > _Factory reset runtime_ and repeat steps 3 and 4."
      ]
    },
    {
      "cell_type": "code",
      "metadata": {
        "colab": {
          "base_uri": "https://localhost:8080/"
        },
        "id": "GIeFXS0F0zww",
        "outputId": "2cef1d69-6265-445d-df68-3ce6144ee6b0"
      },
      "source": [
        "%%shell\n",
        "set -e\n",
        "\n",
        "#---------------------------------------------------#\n",
        "JULIA_VERSION=\"1.6.1\" # any version ≥ 0.7.0\n",
        "JULIA_PACKAGES=\"IJulia BenchmarkTools https://github.com/Dale-Black/DistanceTransforms.jl.git\"\n",
        "JULIA_PACKAGES_IF_GPU=\"CUDA\" # or CuArrays for older Julia versions\n",
        "JULIA_NUM_THREADS=2\n",
        "#---------------------------------------------------#\n",
        "\n",
        "if [ -n \"$COLAB_GPU\" ] && [ -z `which julia` ]; then\n",
        "  # Install Julia\n",
        "  JULIA_VER=`cut -d '.' -f -2 <<< \"$JULIA_VERSION\"`\n",
        "  echo \"Installing Julia $JULIA_VERSION on the current Colab Runtime...\"\n",
        "  BASE_URL=\"https://julialang-s3.julialang.org/bin/linux/x64\"\n",
        "  URL=\"$BASE_URL/$JULIA_VER/julia-$JULIA_VERSION-linux-x86_64.tar.gz\"\n",
        "  wget -nv $URL -O /tmp/julia.tar.gz # -nv means \"not verbose\"\n",
        "  tar -x -f /tmp/julia.tar.gz -C /usr/local --strip-components 1\n",
        "  rm /tmp/julia.tar.gz\n",
        "\n",
        "  # Install Packages\n",
        "  if [ \"$COLAB_GPU\" = \"1\" ]; then\n",
        "      JULIA_PACKAGES=\"$JULIA_PACKAGES $JULIA_PACKAGES_IF_GPU\"\n",
        "  fi\n",
        "  for PKG in `echo $JULIA_PACKAGES`; do\n",
        "    echo \"Installing Julia package $PKG...\"\n",
        "    julia -e 'using Pkg; pkg\"add '$PKG'; precompile;\"' &> /dev/null\n",
        "  done\n",
        "\n",
        "  # Install kernel and rename it to \"julia\"\n",
        "  echo \"Installing IJulia kernel...\"\n",
        "  julia -e 'using IJulia; IJulia.installkernel(\"julia\", env=Dict(\n",
        "      \"JULIA_NUM_THREADS\"=>\"'\"$JULIA_NUM_THREADS\"'\"))'\n",
        "  KERNEL_DIR=`julia -e \"using IJulia; print(IJulia.kerneldir())\"`\n",
        "  KERNEL_NAME=`ls -d \"$KERNEL_DIR\"/julia*`\n",
        "  mv -f $KERNEL_NAME \"$KERNEL_DIR\"/julia  \n",
        "\n",
        "  echo ''\n",
        "  echo \"Success! Please reload this page and jump to the next section.\"\n",
        "fi"
      ],
      "execution_count": null,
      "outputs": [
        {
          "output_type": "stream",
          "text": [
            "Installing Julia 1.6.1 on the current Colab Runtime...\n",
            "2021-06-22 23:59:14 URL:https://storage.googleapis.com/julialang2/bin/linux/x64/1.6/julia-1.6.1-linux-x86_64.tar.gz [112784227/112784227] -> \"/tmp/julia.tar.gz\" [1]\n",
            "Installing Julia package IJulia...\n",
            "Installing Julia package BenchmarkTools...\n",
            "Installing Julia package https://github.com/Dale-Black/DistanceTransforms.jl.git...\n",
            "Installing IJulia kernel...\n",
            "\u001b[36m\u001b[1m[ \u001b[22m\u001b[39m\u001b[36m\u001b[1mInfo: \u001b[22m\u001b[39mInstalling julia kernelspec in /root/.local/share/jupyter/kernels/julia-1.6\n",
            "\n",
            "Success! Please reload this page and jump to the next section.\n"
          ],
          "name": "stdout"
        },
        {
          "output_type": "execute_result",
          "data": {
            "text/plain": [
              ""
            ]
          },
          "metadata": {
            "tags": []
          },
          "execution_count": 1
        }
      ]
    },
    {
      "cell_type": "markdown",
      "metadata": {
        "id": "-OS3Ac017T1i"
      },
      "source": [
        "## Checking the Installation\n",
        "The `versioninfo()` function should print your Julia version and some other info about the system:"
      ]
    },
    {
      "cell_type": "code",
      "metadata": {
        "colab": {
          "base_uri": "https://localhost:8080/"
        },
        "id": "EEzvvzCl1i0F",
        "outputId": "c7cf796e-f8d5-41ab-f471-0a15c573da23"
      },
      "source": [
        "versioninfo()"
      ],
      "execution_count": 1,
      "outputs": [
        {
          "output_type": "stream",
          "text": [
            "Julia Version 1.6.1\n",
            "Commit 6aaedecc44 (2021-04-23 05:59 UTC)\n",
            "Platform Info:\n",
            "  OS: Linux (x86_64-pc-linux-gnu)\n",
            "  CPU: Intel(R) Xeon(R) CPU @ 2.30GHz\n",
            "  WORD_SIZE: 64\n",
            "  LIBM: libopenlibm\n",
            "  LLVM: libLLVM-11.0.1 (ORCJIT, haswell)\n",
            "Environment:\n",
            "  JULIA_NUM_THREADS = 2\n"
          ],
          "name": "stdout"
        }
      ]
    },
    {
      "cell_type": "markdown",
      "metadata": {
        "id": "8KjaFYZ_ahVr"
      },
      "source": [
        "## Import Packages"
      ]
    },
    {
      "cell_type": "code",
      "metadata": {
        "id": "IA2XO47maiop"
      },
      "source": [
        "using BenchmarkTools\n",
        "using DistanceTransforms"
      ],
      "execution_count": 2,
      "outputs": []
    },
    {
      "cell_type": "markdown",
      "metadata": {
        "id": "yFFk2zKAM5ea"
      },
      "source": [
        "## Load test data"
      ]
    },
    {
      "cell_type": "code",
      "metadata": {
        "id": "GmWLkIa4Mc24"
      },
      "source": [
        "x = rand([0,1], (112, 112, 96, 2, 1))\n",
        "y = rand([0,1], (112, 112, 96, 2, 1))\n",
        "\n",
        "x_dtm = DistanceTransforms.compute_dtm(x)\n",
        "y_dtm = DistanceTransforms.compute_dtm(y);"
      ],
      "execution_count": 3,
      "outputs": []
    },
    {
      "cell_type": "markdown",
      "metadata": {
        "id": "fJFq3OyHNLGx"
      },
      "source": [
        "## Vanilla dice loss"
      ]
    },
    {
      "cell_type": "code",
      "metadata": {
        "id": "QTBm5ECnNBzn",
        "colab": {
          "base_uri": "https://localhost:8080/"
        },
        "outputId": "2a6607fe-9bdc-4682-8d6d-77c29c28c20d"
      },
      "source": [
        "@benchmark DistanceTransforms.dice_loss($x, $y)"
      ],
      "execution_count": 4,
      "outputs": [
        {
          "output_type": "execute_result",
          "data": {
            "text/plain": [
              "BenchmarkTools.Trial: \n",
              "  memory estimate:  55.13 MiB\n",
              "  allocs estimate:  9\n",
              "  --------------\n",
              "  minimum time:     21.255 ms (0.00% GC)\n",
              "  median time:      23.975 ms (9.45% GC)\n",
              "  mean time:        23.417 ms (6.59% GC)\n",
              "  maximum time:     26.540 ms (11.59% GC)\n",
              "  --------------\n",
              "  samples:          214\n",
              "  evals/sample:     1"
            ]
          },
          "metadata": {
            "tags": []
          },
          "execution_count": 4
        }
      ]
    },
    {
      "cell_type": "markdown",
      "metadata": {
        "id": "R1xskpvfOpV1"
      },
      "source": [
        "## Vanilla Hausdorff loss"
      ]
    },
    {
      "cell_type": "code",
      "metadata": {
        "colab": {
          "base_uri": "https://localhost:8080/"
        },
        "id": "4nNBPZaSOUD0",
        "outputId": "df37f701-96d9-4429-b5d1-bfab068bd847"
      },
      "source": [
        "@benchmark DistanceTransforms.hd_loss($x, $y, $x_dtm, $y_dtm)"
      ],
      "execution_count": 5,
      "outputs": [
        {
          "output_type": "execute_result",
          "data": {
            "text/plain": [
              "BenchmarkTools.Trial: \n",
              "  memory estimate:  18.38 MiB\n",
              "  allocs estimate:  7\n",
              "  --------------\n",
              "  minimum time:     12.174 ms (0.00% GC)\n",
              "  median time:      12.824 ms (0.00% GC)\n",
              "  mean time:        13.402 ms (4.30% GC)\n",
              "  maximum time:     17.231 ms (17.67% GC)\n",
              "  --------------\n",
              "  samples:          373\n",
              "  evals/sample:     1"
            ]
          },
          "metadata": {
            "tags": []
          },
          "execution_count": 5
        }
      ]
    },
    {
      "cell_type": "code",
      "metadata": {
        "colab": {
          "base_uri": "https://localhost:8080/"
        },
        "id": "cZGEn_bRQRw6",
        "outputId": "d3ae449c-d77f-4e72-b3b3-1294df1182b2"
      },
      "source": [
        "@benchmark DistanceTransforms.hd_loss($x, $y, $DistanceTransforms.compute_dtm(x), $DistanceTransforms.compute_dtm(y))"
      ],
      "execution_count": 6,
      "outputs": [
        {
          "output_type": "execute_result",
          "data": {
            "text/plain": [
              "BenchmarkTools.Trial: \n",
              "  memory estimate:  1.36 GiB\n",
              "  allocs estimate:  24328272\n",
              "  --------------\n",
              "  minimum time:     2.586 s (12.90% GC)\n",
              "  median time:      2.633 s (13.15% GC)\n",
              "  mean time:        2.633 s (13.15% GC)\n",
              "  maximum time:     2.681 s (13.39% GC)\n",
              "  --------------\n",
              "  samples:          2\n",
              "  evals/sample:     1"
            ]
          },
          "metadata": {
            "tags": []
          },
          "execution_count": 6
        }
      ]
    },
    {
      "cell_type": "markdown",
      "metadata": {
        "id": "6Kc9Vn3mPVI1"
      },
      "source": [
        "## Parallelized dice loss"
      ]
    },
    {
      "cell_type": "code",
      "metadata": {
        "id": "1E8ncJ-aPXRS",
        "colab": {
          "base_uri": "https://localhost:8080/"
        },
        "outputId": "8eaccafb-14ba-49fe-ac11-b3d8b419e441"
      },
      "source": [
        "@benchmark DistanceTransforms.dice_lossP($x, $y)"
      ],
      "execution_count": 7,
      "outputs": [
        {
          "output_type": "execute_result",
          "data": {
            "text/plain": [
              "BenchmarkTools.Trial: \n",
              "  memory estimate:  2.12 KiB\n",
              "  allocs estimate:  42\n",
              "  --------------\n",
              "  minimum time:     5.198 ms (0.00% GC)\n",
              "  median time:      5.521 ms (0.00% GC)\n",
              "  mean time:        5.548 ms (0.00% GC)\n",
              "  maximum time:     9.679 ms (0.00% GC)\n",
              "  --------------\n",
              "  samples:          898\n",
              "  evals/sample:     1"
            ]
          },
          "metadata": {
            "tags": []
          },
          "execution_count": 7
        }
      ]
    },
    {
      "cell_type": "markdown",
      "metadata": {
        "id": "CGDwkyN7JgiH"
      },
      "source": [
        "## Parallelized Hausdorff loss"
      ]
    },
    {
      "cell_type": "code",
      "metadata": {
        "id": "nAKadSDOPaPS",
        "colab": {
          "base_uri": "https://localhost:8080/"
        },
        "outputId": "7d8ac791-7147-4687-9179-d882efd53a9a"
      },
      "source": [
        "@benchmark DistanceTransforms.hd_lossP($x, $y, $x_dtm, $y_dtm)"
      ],
      "execution_count": 8,
      "outputs": [
        {
          "output_type": "execute_result",
          "data": {
            "text/plain": [
              "BenchmarkTools.Trial: \n",
              "  memory estimate:  2.09 KiB\n",
              "  allocs estimate:  41\n",
              "  --------------\n",
              "  minimum time:     6.076 ms (0.00% GC)\n",
              "  median time:      6.365 ms (0.00% GC)\n",
              "  mean time:        6.377 ms (0.00% GC)\n",
              "  maximum time:     7.766 ms (0.00% GC)\n",
              "  --------------\n",
              "  samples:          782\n",
              "  evals/sample:     1"
            ]
          },
          "metadata": {
            "tags": []
          },
          "execution_count": 8
        }
      ]
    },
    {
      "cell_type": "code",
      "metadata": {
        "colab": {
          "base_uri": "https://localhost:8080/"
        },
        "id": "rz1jddrIJqDt",
        "outputId": "0050709c-818d-4ba9-d421-7258a734d48c"
      },
      "source": [
        "@benchmark DistanceTransforms.hd_lossP($x, $y, $DistanceTransforms.compute_dtm(x), $DistanceTransforms.compute_dtm(y))"
      ],
      "execution_count": 9,
      "outputs": [
        {
          "output_type": "execute_result",
          "data": {
            "text/plain": [
              "BenchmarkTools.Trial: \n",
              "  memory estimate:  1.34 GiB\n",
              "  allocs estimate:  24328308\n",
              "  --------------\n",
              "  minimum time:     2.676 s (13.55% GC)\n",
              "  median time:      2.682 s (13.79% GC)\n",
              "  mean time:        2.682 s (13.79% GC)\n",
              "  maximum time:     2.688 s (14.02% GC)\n",
              "  --------------\n",
              "  samples:          2\n",
              "  evals/sample:     1"
            ]
          },
          "metadata": {
            "tags": []
          },
          "execution_count": 9
        }
      ]
    },
    {
      "cell_type": "code",
      "metadata": {
        "id": "RnVosMu0JvJa"
      },
      "source": [
        ""
      ],
      "execution_count": null,
      "outputs": []
    }
  ]
}