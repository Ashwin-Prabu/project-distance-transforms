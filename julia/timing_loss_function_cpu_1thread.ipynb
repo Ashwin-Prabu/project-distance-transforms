{
  "nbformat": 4,
  "nbformat_minor": 0,
  "metadata": {
    "colab": {
      "name": "timing_loss_function_cpu_1thread.ipynb",
      "provenance": [],
      "collapsed_sections": [],
      "toc_visible": true,
      "machine_shape": "hm"
    },
    "kernelspec": {
      "display_name": "Julia",
      "language": "julia",
      "name": "julia"
    },
    "language_info": {
      "file_extension": ".jl",
      "mimetype": "application/julia",
      "name": "julia"
    }
  },
  "cells": [
    {
      "cell_type": "markdown",
      "metadata": {
        "id": "tQ1r1bbb0yBv"
      },
      "source": [
        "## Julia on Colab Instructions\n",
        "1. Work on a copy of this notebook: _File_ > _Save a copy in Drive_ (you will need a Google account). Alternatively, you can download the notebook using _File_ > _Download .ipynb_, then upload it to [Colab](https://colab.research.google.com/).\n",
        "2. If you need a GPU: _Runtime_ > _Change runtime type_ > _Harware accelerator_ = _GPU_.\n",
        "3. Execute the following cell (click on it and press Ctrl+Enter) to install Julia, IJulia and other packages (if needed, update `JULIA_VERSION` and the other parameters). This takes a couple of minutes.\n",
        "4. Reload this page (press Ctrl+R, or ⌘+R, or the F5 key) and continue to the next section.\n",
        "\n",
        "_Notes_:\n",
        "* If your Colab Runtime gets reset (e.g., due to inactivity), repeat steps 2, 3 and 4.\n",
        "* After installation, if you want to change the Julia version or activate/deactivate the GPU, you will need to reset the Runtime: _Runtime_ > _Factory reset runtime_ and repeat steps 3 and 4."
      ]
    },
    {
      "cell_type": "code",
      "metadata": {
        "colab": {
          "base_uri": "https://localhost:8080/"
        },
        "id": "GIeFXS0F0zww",
        "outputId": "7118e16e-6731-4d90-9bf6-45ff30fc936b"
      },
      "source": [
        "%%shell\n",
        "set -e\n",
        "\n",
        "#---------------------------------------------------#\n",
        "JULIA_VERSION=\"1.6.1\" # any version ≥ 0.7.0\n",
        "JULIA_PACKAGES=\"IJulia BenchmarkTools https://github.com/Dale-Black/DistanceTransforms.jl.git\"\n",
        "JULIA_PACKAGES_IF_GPU=\"CUDA\" # or CuArrays for older Julia versions\n",
        "JULIA_NUM_THREADS=1\n",
        "#---------------------------------------------------#\n",
        "\n",
        "if [ -n \"$COLAB_GPU\" ] && [ -z `which julia` ]; then\n",
        "  # Install Julia\n",
        "  JULIA_VER=`cut -d '.' -f -2 <<< \"$JULIA_VERSION\"`\n",
        "  echo \"Installing Julia $JULIA_VERSION on the current Colab Runtime...\"\n",
        "  BASE_URL=\"https://julialang-s3.julialang.org/bin/linux/x64\"\n",
        "  URL=\"$BASE_URL/$JULIA_VER/julia-$JULIA_VERSION-linux-x86_64.tar.gz\"\n",
        "  wget -nv $URL -O /tmp/julia.tar.gz # -nv means \"not verbose\"\n",
        "  tar -x -f /tmp/julia.tar.gz -C /usr/local --strip-components 1\n",
        "  rm /tmp/julia.tar.gz\n",
        "\n",
        "  # Install Packages\n",
        "  if [ \"$COLAB_GPU\" = \"1\" ]; then\n",
        "      JULIA_PACKAGES=\"$JULIA_PACKAGES $JULIA_PACKAGES_IF_GPU\"\n",
        "  fi\n",
        "  for PKG in `echo $JULIA_PACKAGES`; do\n",
        "    echo \"Installing Julia package $PKG...\"\n",
        "    julia -e 'using Pkg; pkg\"add '$PKG'; precompile;\"' &> /dev/null\n",
        "  done\n",
        "\n",
        "  # Install kernel and rename it to \"julia\"\n",
        "  echo \"Installing IJulia kernel...\"\n",
        "  julia -e 'using IJulia; IJulia.installkernel(\"julia\", env=Dict(\n",
        "      \"JULIA_NUM_THREADS\"=>\"'\"$JULIA_NUM_THREADS\"'\"))'\n",
        "  KERNEL_DIR=`julia -e \"using IJulia; print(IJulia.kerneldir())\"`\n",
        "  KERNEL_NAME=`ls -d \"$KERNEL_DIR\"/julia*`\n",
        "  mv -f $KERNEL_NAME \"$KERNEL_DIR\"/julia  \n",
        "\n",
        "  echo ''\n",
        "  echo \"Success! Please reload this page and jump to the next section.\"\n",
        "fi"
      ],
      "execution_count": null,
      "outputs": [
        {
          "output_type": "stream",
          "text": [
            "Installing Julia 1.6.1 on the current Colab Runtime...\n",
            "2021-06-22 23:51:05 URL:https://storage.googleapis.com/julialang2/bin/linux/x64/1.6/julia-1.6.1-linux-x86_64.tar.gz [112784227/112784227] -> \"/tmp/julia.tar.gz\" [1]\n",
            "Installing Julia package IJulia...\n",
            "Installing Julia package BenchmarkTools...\n",
            "Installing Julia package https://github.com/Dale-Black/DistanceTransforms.jl.git...\n",
            "Installing IJulia kernel...\n",
            "\u001b[36m\u001b[1m[ \u001b[22m\u001b[39m\u001b[36m\u001b[1mInfo: \u001b[22m\u001b[39mInstalling julia kernelspec in /root/.local/share/jupyter/kernels/julia-1.6\n",
            "\n",
            "Success! Please reload this page and jump to the next section.\n"
          ],
          "name": "stdout"
        },
        {
          "output_type": "execute_result",
          "data": {
            "text/plain": [
              ""
            ]
          },
          "metadata": {
            "tags": []
          },
          "execution_count": 1
        }
      ]
    },
    {
      "cell_type": "markdown",
      "metadata": {
        "id": "-OS3Ac017T1i"
      },
      "source": [
        "## Checking the Installation\n",
        "The `versioninfo()` function should print your Julia version and some other info about the system:"
      ]
    },
    {
      "cell_type": "code",
      "metadata": {
        "colab": {
          "base_uri": "https://localhost:8080/"
        },
        "id": "EEzvvzCl1i0F",
        "outputId": "d2fd1856-d004-4b0e-9eca-7b2c43ce8d4c"
      },
      "source": [
        "versioninfo()"
      ],
      "execution_count": 1,
      "outputs": [
        {
          "output_type": "stream",
          "text": [
            "Julia Version 1.6.1\n",
            "Commit 6aaedecc44 (2021-04-23 05:59 UTC)\n",
            "Platform Info:\n",
            "  OS: Linux (x86_64-pc-linux-gnu)\n",
            "  CPU: AMD EPYC 7B12\n",
            "  WORD_SIZE: 64\n",
            "  LIBM: libopenlibm\n",
            "  LLVM: libLLVM-11.0.1 (ORCJIT, znver2)\n",
            "Environment:\n",
            "  JULIA_NUM_THREADS = 1\n"
          ],
          "name": "stdout"
        }
      ]
    },
    {
      "cell_type": "markdown",
      "metadata": {
        "id": "8KjaFYZ_ahVr"
      },
      "source": [
        "## Import Packages"
      ]
    },
    {
      "cell_type": "code",
      "metadata": {
        "id": "IA2XO47maiop"
      },
      "source": [
        "using BenchmarkTools\n",
        "using DistanceTransforms"
      ],
      "execution_count": 2,
      "outputs": []
    },
    {
      "cell_type": "markdown",
      "metadata": {
        "id": "yFFk2zKAM5ea"
      },
      "source": [
        "## Load test data"
      ]
    },
    {
      "cell_type": "code",
      "metadata": {
        "id": "GmWLkIa4Mc24"
      },
      "source": [
        "x = rand([0,1], (112, 112, 96, 2, 1))\n",
        "y = rand([0,1], (112, 112, 96, 2, 1))\n",
        "\n",
        "x_dtm = DistanceTransforms.compute_dtm(x)\n",
        "y_dtm = DistanceTransforms.compute_dtm(y);"
      ],
      "execution_count": 4,
      "outputs": []
    },
    {
      "cell_type": "markdown",
      "metadata": {
        "id": "fJFq3OyHNLGx"
      },
      "source": [
        "## Vanilla dice loss"
      ]
    },
    {
      "cell_type": "code",
      "metadata": {
        "id": "QTBm5ECnNBzn",
        "colab": {
          "base_uri": "https://localhost:8080/"
        },
        "outputId": "f21713c8-a38d-4cdf-9804-85a56d990940"
      },
      "source": [
        "@benchmark DistanceTransforms.dice_loss($x, $y)"
      ],
      "execution_count": 5,
      "outputs": [
        {
          "output_type": "execute_result",
          "data": {
            "text/plain": [
              "BenchmarkTools.Trial: \n",
              "  memory estimate:  55.13 MiB\n",
              "  allocs estimate:  9\n",
              "  --------------\n",
              "  minimum time:     11.093 ms (0.00% GC)\n",
              "  median time:      13.144 ms (12.30% GC)\n",
              "  mean time:        12.996 ms (9.66% GC)\n",
              "  maximum time:     16.505 ms (25.68% GC)\n",
              "  --------------\n",
              "  samples:          384\n",
              "  evals/sample:     1"
            ]
          },
          "metadata": {
            "tags": []
          },
          "execution_count": 5
        }
      ]
    },
    {
      "cell_type": "markdown",
      "metadata": {
        "id": "R1xskpvfOpV1"
      },
      "source": [
        "## Vanilla Hausdorff loss"
      ]
    },
    {
      "cell_type": "code",
      "metadata": {
        "colab": {
          "base_uri": "https://localhost:8080/"
        },
        "id": "4nNBPZaSOUD0",
        "outputId": "f94563d1-10fc-429d-8238-8a317509bcee"
      },
      "source": [
        "@benchmark DistanceTransforms.hd_loss($x, $y, $x_dtm, $y_dtm)"
      ],
      "execution_count": 6,
      "outputs": [
        {
          "output_type": "execute_result",
          "data": {
            "text/plain": [
              "BenchmarkTools.Trial: \n",
              "  memory estimate:  18.38 MiB\n",
              "  allocs estimate:  7\n",
              "  --------------\n",
              "  minimum time:     7.078 ms (0.00% GC)\n",
              "  median time:      7.678 ms (0.00% GC)\n",
              "  mean time:        8.152 ms (6.11% GC)\n",
              "  maximum time:     11.066 ms (27.45% GC)\n",
              "  --------------\n",
              "  samples:          612\n",
              "  evals/sample:     1"
            ]
          },
          "metadata": {
            "tags": []
          },
          "execution_count": 6
        }
      ]
    },
    {
      "cell_type": "code",
      "metadata": {
        "colab": {
          "base_uri": "https://localhost:8080/"
        },
        "id": "cZGEn_bRQRw6",
        "outputId": "5d84c9c1-037d-465b-f8d7-16d89e4a4872"
      },
      "source": [
        "@benchmark DistanceTransforms.hd_loss($x, $y, $DistanceTransforms.compute_dtm(x), $DistanceTransforms.compute_dtm(y))"
      ],
      "execution_count": 7,
      "outputs": [
        {
          "output_type": "execute_result",
          "data": {
            "text/plain": [
              "BenchmarkTools.Trial: \n",
              "  memory estimate:  1.36 GiB\n",
              "  allocs estimate:  24328272\n",
              "  --------------\n",
              "  minimum time:     1.876 s (10.64% GC)\n",
              "  median time:      1.887 s (10.80% GC)\n",
              "  mean time:        1.893 s (10.85% GC)\n",
              "  maximum time:     1.917 s (11.10% GC)\n",
              "  --------------\n",
              "  samples:          3\n",
              "  evals/sample:     1"
            ]
          },
          "metadata": {
            "tags": []
          },
          "execution_count": 7
        }
      ]
    },
    {
      "cell_type": "markdown",
      "metadata": {
        "id": "6Kc9Vn3mPVI1"
      },
      "source": [
        "## Parallelized dice loss"
      ]
    },
    {
      "cell_type": "code",
      "metadata": {
        "id": "1E8ncJ-aPXRS",
        "colab": {
          "base_uri": "https://localhost:8080/"
        },
        "outputId": "a7f1676f-9760-400c-d07b-86f48f2b0f52"
      },
      "source": [
        "@benchmark DistanceTransforms.dice_lossP($x, $y)"
      ],
      "execution_count": 8,
      "outputs": [
        {
          "output_type": "execute_result",
          "data": {
            "text/plain": [
              "BenchmarkTools.Trial: \n",
              "  memory estimate:  48 bytes\n",
              "  allocs estimate:  2\n",
              "  --------------\n",
              "  minimum time:     6.872 ms (0.00% GC)\n",
              "  median time:      7.078 ms (0.00% GC)\n",
              "  mean time:        7.085 ms (0.00% GC)\n",
              "  maximum time:     7.866 ms (0.00% GC)\n",
              "  --------------\n",
              "  samples:          704\n",
              "  evals/sample:     1"
            ]
          },
          "metadata": {
            "tags": []
          },
          "execution_count": 8
        }
      ]
    },
    {
      "cell_type": "markdown",
      "metadata": {
        "id": "CGDwkyN7JgiH"
      },
      "source": [
        "## Parallelized Hausdorff loss"
      ]
    },
    {
      "cell_type": "code",
      "metadata": {
        "id": "nAKadSDOPaPS",
        "colab": {
          "base_uri": "https://localhost:8080/"
        },
        "outputId": "0ac969f7-0703-4a22-e26c-1ae59f1562c0"
      },
      "source": [
        "@benchmark DistanceTransforms.hd_lossP($x, $y, $x_dtm, $y_dtm)"
      ],
      "execution_count": 9,
      "outputs": [
        {
          "output_type": "execute_result",
          "data": {
            "text/plain": [
              "BenchmarkTools.Trial: \n",
              "  memory estimate:  16 bytes\n",
              "  allocs estimate:  1\n",
              "  --------------\n",
              "  minimum time:     3.295 ms (0.00% GC)\n",
              "  median time:      3.517 ms (0.00% GC)\n",
              "  mean time:        3.525 ms (0.00% GC)\n",
              "  maximum time:     4.110 ms (0.00% GC)\n",
              "  --------------\n",
              "  samples:          1409\n",
              "  evals/sample:     1"
            ]
          },
          "metadata": {
            "tags": []
          },
          "execution_count": 9
        }
      ]
    },
    {
      "cell_type": "code",
      "metadata": {
        "colab": {
          "base_uri": "https://localhost:8080/"
        },
        "id": "rz1jddrIJqDt",
        "outputId": "40060524-6813-4d74-dfac-af1005a15f4f"
      },
      "source": [
        "@benchmark DistanceTransforms.hd_lossP($x, $y, $DistanceTransforms.compute_dtm(x), $DistanceTransforms.compute_dtm(y))"
      ],
      "execution_count": 10,
      "outputs": [
        {
          "output_type": "execute_result",
          "data": {
            "text/plain": [
              "BenchmarkTools.Trial: \n",
              "  memory estimate:  1.34 GiB\n",
              "  allocs estimate:  24328266\n",
              "  --------------\n",
              "  minimum time:     1.860 s (10.75% GC)\n",
              "  median time:      1.890 s (10.96% GC)\n",
              "  mean time:        1.884 s (10.88% GC)\n",
              "  maximum time:     1.901 s (10.93% GC)\n",
              "  --------------\n",
              "  samples:          3\n",
              "  evals/sample:     1"
            ]
          },
          "metadata": {
            "tags": []
          },
          "execution_count": 10
        }
      ]
    },
    {
      "cell_type": "code",
      "metadata": {
        "id": "RnVosMu0JvJa"
      },
      "source": [
        ""
      ],
      "execution_count": null,
      "outputs": []
    }
  ]
}