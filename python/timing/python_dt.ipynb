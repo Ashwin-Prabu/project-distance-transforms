{
 "cells": [
  {
   "cell_type": "markdown",
   "metadata": {
    "id": "NMGznkMpqism"
   },
   "source": [
    "### Import Packages\n"
   ]
  },
  {
   "cell_type": "code",
   "execution_count": 87,
   "metadata": {
    "id": "gQXi0jGsqOHn"
   },
   "outputs": [],
   "source": [
    "import torch\n",
    "import numpy as np\n",
    "import time\n",
    "from scipy.ndimage import distance_transform_edt as distance\n",
    "from scipy.ndimage import _nd_image"
   ]
  },
  {
   "cell_type": "code",
   "execution_count": 88,
   "metadata": {
    "colab": {
     "base_uri": "https://localhost:8080/"
    },
    "id": "M3jq1u3SqmqC",
    "outputId": "0e3cb19d-0bb1-4327-be61-9a71586f79b4"
   },
   "outputs": [
    {
     "name": "stdout",
     "output_type": "stream",
     "text": [
      "cuda:0\n"
     ]
    }
   ],
   "source": [
    "device = torch.device(\"cuda:0\")\n",
    "print(device)"
   ]
  },
  {
   "cell_type": "markdown",
   "metadata": {
    "id": "HZORCpWdqpdX"
   },
   "source": [
    "## Benchmarks"
   ]
  },
  {
   "cell_type": "code",
   "execution_count": 89,
   "metadata": {
    "id": "7t4PRC4yqt5a"
   },
   "outputs": [],
   "source": [
    "# 2D\n",
    "dt_2D_mean = []\n",
    "dt_2D_std = []\n",
    "\t\n",
    "dt_2D_GPU_mean = []\n",
    "dt_2D_GPU_std = []\n",
    "\n",
    "dt_2D_times = []\n",
    "dt_2D_GPU_times = []"
   ]
  },
  {
   "cell_type": "code",
   "execution_count": 90,
   "metadata": {},
   "outputs": [],
   "source": [
    "# 2D on 3D image\n",
    "dt_2v3D_mean = []\n",
    "dt_2v3D_std = []\n",
    "\t\n",
    "dt_2v3D_GPU_mean = []\n",
    "dt_2v3D_GPU_std = []\n",
    "\n",
    "dt_2v3D_times = []\n",
    "dt_2v3D_GPU_times = []"
   ]
  },
  {
   "cell_type": "code",
   "execution_count": 91,
   "metadata": {},
   "outputs": [],
   "source": [
    "#3D\n",
    "dt_3D_mean = []\n",
    "dt_3D_std = []\n",
    "\t\n",
    "dt_3D_GPU_mean = []\n",
    "dt_3D_GPU_std = []\n",
    "\n",
    "dt_3D_times = []\n",
    "dt_3D_GPU_times = []"
   ]
  },
  {
   "cell_type": "code",
   "execution_count": 92,
   "metadata": {
    "id": "uarwNS8iqxi6"
   },
   "outputs": [],
   "source": [
    "#2D times\n",
    "for n in range(2,210,10):\n",
    "  # Euclidean Distance CPU\n",
    "  temp_dt_time = []\n",
    "  for i in range(100): #Samples\n",
    "    a = []\n",
    "    for j in range(10): #Evaluations\n",
    "      x1 = torch.randint(0,2,(n,n))\n",
    "      times1 = time.time()\n",
    "      tfm1 = torch.from_numpy(distance(x1))\n",
    "      a.append(time.time()-times1)\n",
    "    temp_dt_time.append(torch.mean(torch.FloatTensor(a)))\n",
    "  dt_2D_times.append(temp_dt_time)\n",
    "\n",
    "\n",
    "# for n in range(2,210,10):\n",
    "#   # Euclidean Distance GPU\n",
    "#   temp_dt_GPU_time = []\n",
    "#   for i in range(100): #Samples\n",
    "#     b = []\n",
    "#     for j in range(10): #Evaluations\n",
    "#       x2 = torch.randint(0,2,(n,n)).to(device)\n",
    "#       times2 = time.time()\n",
    "#       tfm2 = torch.from_numpy(distance(x2.cpu().numpy())).to(device)  \n",
    "#       b.append(time.time()-times2)\n",
    "#     temp_dt_GPU_time.append(torch.mean(torch.FloatTensor(b)))\n",
    "#   dt_2D_GPU_times.append(temp_dt_GPU_time)\n"
   ]
  },
  {
   "cell_type": "code",
   "execution_count": 93,
   "metadata": {},
   "outputs": [],
   "source": [
    "# 2D times on 3D image\n",
    "for n in range(2,210,10):\n",
    "  # Euclidean Distance CPU\n",
    "  temp_dt_time = []\n",
    "  for i in range(100): #Samples\n",
    "    a = []\n",
    "    for j in range(10): #Evaluations\n",
    "      x1 = torch.randint(0,2,(n,n,n))\n",
    "      times1 = time.time()\n",
    "      for k in range(n):\n",
    "        slice = x1[:,:,k]\n",
    "        tfm1 = torch.from_numpy(distance(slice))\n",
    "      a.append(time.time()-times1)\n",
    "    temp_dt_time.append(torch.mean(torch.FloatTensor(a)))\n",
    "  dt_2v3D_times.append(temp_dt_time)\n",
    "\n",
    "\n",
    "# for n in range(2,210,10):\n",
    "#   # Euclidean Distance GPU\n",
    "#   temp_dt_GPU_time = []\n",
    "#   for i in range(100): #Samples\n",
    "#     b = []\n",
    "#     for j in range(10): #Evaluations\n",
    "#       x2 = torch.randint(0,2,(n,n,n)).to(device)\n",
    "#       times2 = time.time()\n",
    "#       for k in range(n):\n",
    "#         slice = x2[:,:,k]\n",
    "#         tfm2 = torch.from_numpy(distance(slice.cpu().numpy())).to(device)  \n",
    "#       b.append(time.time()-times2)\n",
    "#     temp_dt_GPU_time.append(torch.mean(torch.FloatTensor(b)))\n",
    "#   dt_2v3D_GPU_times.append(temp_dt_GPU_time)\n"
   ]
  },
  {
   "cell_type": "code",
   "execution_count": 94,
   "metadata": {},
   "outputs": [],
   "source": [
    "#3D times\n",
    "for n in range(2,210,10):\n",
    "  # Euclidean Distance CPU\n",
    "  temp_dt_time = []\n",
    "  for i in range(100): #Samples\n",
    "    a = []\n",
    "    for j in range(10): #Evaluations\n",
    "      x1 = torch.randint(0,2,(n,n,n))\n",
    "      times1 = time.time()\n",
    "      tfm1 = torch.from_numpy(distance(x1))\n",
    "      a.append(time.time()-times1)\n",
    "    temp_dt_time.append(torch.mean(torch.FloatTensor(a)))\n",
    "  dt_3D_times.append(temp_dt_time)\n",
    "\n",
    "\n",
    "# for n in range(2,210,100):\n",
    "#   # Euclidean Distance GPU\n",
    "#   temp_dt_GPU_time = []\n",
    "#   for i in range(100): #Samples\n",
    "#     b = []\n",
    "#     for j in range(10): #Evaluations\n",
    "#       x2 = torch.randint(0,2,(n,n,n)).to(device)\n",
    "#       times2 = time.time()\n",
    "#       tfm2 = torch.from_numpy(distance(x2.cpu().numpy())).to(device)  \n",
    "#       b.append(time.time()-times2)\n",
    "#     temp_dt_GPU_time.append(torch.mean(torch.FloatTensor(b)))\n",
    "#   dt_3D_GPU_times.append(temp_dt_GPU_time)\n"
   ]
  },
  {
   "cell_type": "code",
   "execution_count": 95,
   "metadata": {
    "id": "byFKe1nlzFA8"
   },
   "outputs": [],
   "source": [
    "#2D means\n",
    "for i in dt_2D_times:\n",
    "  dt_2D_mean.append(torch.mean(torch.FloatTensor(i)).numpy().tolist())\n",
    "  dt_2D_std.append(torch.std(torch.FloatTensor(i), unbiased = False).numpy().tolist())"
   ]
  },
  {
   "cell_type": "code",
   "execution_count": 96,
   "metadata": {},
   "outputs": [],
   "source": [
    "#2D means on 3D image\n",
    "for i in dt_2v3D_times:\n",
    "  dt_2v3D_mean.append(torch.mean(torch.FloatTensor(i)).numpy().tolist())\n",
    "  dt_2v3D_std.append(torch.std(torch.FloatTensor(i), unbiased = False).numpy().tolist())"
   ]
  },
  {
   "cell_type": "code",
   "execution_count": 97,
   "metadata": {},
   "outputs": [],
   "source": [
    "#3D means\n",
    "for i in dt_3D_times:\n",
    "  dt_3D_mean.append(torch.mean(torch.FloatTensor(i)).numpy().tolist())\n",
    "  dt_3D_std.append(torch.std(torch.FloatTensor(i), unbiased = False).numpy().tolist())"
   ]
  },
  {
   "cell_type": "code",
   "execution_count": 98,
   "metadata": {
    "id": "J874jT4SzFDo"
   },
   "outputs": [],
   "source": [
    "#2D means GPU\n",
    "for i in dt_2D_GPU_times:\n",
    "  dt_2D_GPU_mean.append(torch.mean(torch.FloatTensor(i)).numpy().tolist())\n",
    "  dt_2D_GPU_std.append(torch.std(torch.FloatTensor(i), unbiased = False).numpy().tolist())"
   ]
  },
  {
   "cell_type": "code",
   "execution_count": 99,
   "metadata": {},
   "outputs": [],
   "source": [
    "#2D means 3D image GPU\n",
    "for i in dt_2v3D_GPU_times:\n",
    "  dt_2v3D_GPU_mean.append(torch.mean(torch.FloatTensor(i)).numpy().tolist())\n",
    "  dt_2v3D_GPU_std.append(torch.std(torch.FloatTensor(i), unbiased = False).numpy().tolist())"
   ]
  },
  {
   "cell_type": "code",
   "execution_count": 100,
   "metadata": {},
   "outputs": [],
   "source": [
    "#3D means GPU\n",
    "for i in dt_3D_GPU_times:\n",
    "  dt_3D_GPU_mean.append(torch.mean(torch.FloatTensor(i)).numpy().tolist())\n",
    "  dt_3D_GPU_std.append(torch.std(torch.FloatTensor(i), unbiased = False).numpy().tolist())"
   ]
  },
  {
   "cell_type": "markdown",
   "metadata": {
    "id": "gQJJzWlFzhIv"
   },
   "source": [
    "## Save"
   ]
  },
  {
   "cell_type": "code",
   "execution_count": 101,
   "metadata": {
    "id": "dEMka94uzfmf"
   },
   "outputs": [],
   "source": [
    "import pandas as pd"
   ]
  },
  {
   "cell_type": "code",
   "execution_count": 102,
   "metadata": {
    "id": "MgHczlpwzgmp"
   },
   "outputs": [],
   "source": [
    "dt_2D_mean = np.array(dt_2D_mean)\n",
    "dt_2D_GPU_mean = np.array(dt_2D_GPU_mean)\n",
    "dt_2D_std = np.array(dt_2D_std)\n",
    "dt_2D_GPU_std = np.array(dt_2D_GPU_std)\n",
    "dt_2v3D_mean = np.array(dt_2v3D_mean)\n",
    "dt_2v3D_GPU_mean = np.array(dt_2v3D_GPU_mean)\n",
    "dt_2v3D_std = np.array(dt_2v3D_std)\n",
    "dt_2v3D_GPU_std = np.array(dt_2v3D_GPU_std)\n",
    "dt_3D_mean = np.array(dt_3D_mean)\n",
    "dt_3D_GPU_mean = np.array(dt_3D_GPU_mean)\n",
    "dt_3D_std = np.array(dt_3D_std)\n",
    "dt_3D_GPU_std = np.array(dt_3D_GPU_std)"
   ]
  },
  {
   "cell_type": "code",
   "execution_count": 103,
   "metadata": {
    "id": "cOga857Hz0W4"
   },
   "outputs": [],
   "source": [
    "data2D = {'dt_mean_cpu_2D': dt_2D_mean, 'dt_std_cpu_2D': dt_2D_std}\n",
    "\n",
    "\n",
    "# data2D = {'dt_mean_cpu_2D': dt_2D_mean, 'dt_std_cpu_2D': dt_2D_std, 'dt_mean_2D': dt_2D_GPU_mean, 'dt_std_gpu_2D': dt_2D_GPU_std\n",
    "#  }"
   ]
  },
  {
   "cell_type": "code",
   "execution_count": 104,
   "metadata": {},
   "outputs": [],
   "source": [
    "data2v3D = {'dt_mean_cpu_2v3D': dt_2v3D_mean, 'dt_std_cpu_2v3D': dt_2v3D_std}\n",
    "\n",
    "# data2v3D = {'dt_mean_cpu_2v3D': dt_2v3D_mean, 'dt_std_cpu_2v3D': dt_2v3D_std, 'dt_mean_2v3D': dt_2v3D_GPU_mean, 'dt_std_gpu_2v3D': dt_2v3D_GPU_std}"
   ]
  },
  {
   "cell_type": "code",
   "execution_count": 105,
   "metadata": {},
   "outputs": [],
   "source": [
    "data3D = {'dt_mean_cpu_3D': dt_3D_mean, 'dt_std_cpu_3D': dt_3D_std}\n",
    "\n",
    "# data3D = {'dt_mean_cpu_3D': dt_3D_mean, 'dt_std_cpu_3D': dt_3D_std, 'dt_mean_3D': dt_3D_GPU_mean, 'dt_std_gpu_3D': dt_3D_GPU_std}"
   ]
  },
  {
   "cell_type": "code",
   "execution_count": 106,
   "metadata": {
    "id": "gGycv12z0EgE"
   },
   "outputs": [],
   "source": [
    "dataframe2D = pd.DataFrame(data2D)\n",
    "dataframe2v3D = pd.DataFrame(data2v3D)\n",
    "dataframe3D = pd.DataFrame(data3D)"
   ]
  },
  {
   "cell_type": "code",
   "execution_count": 107,
   "metadata": {
    "id": "PnZwI5im0F8K"
   },
   "outputs": [],
   "source": [
    "dataframe2D.to_csv(\"G:\\molloi-lab\\project-distance-transforms\\performance\\purePython_DT_May03_2D.csv\")\n",
    "dataframe2v3D.to_csv(\"G:\\molloi-lab\\project-distance-transforms\\performance\\purePython_DT_May03_2v3D.csv\")\n",
    "dataframe3D.to_csv(\"G:\\molloi-lab\\project-distance-transforms\\performance\\purePython_DT_May03_3D.csv\")"
   ]
  },
  {
   "cell_type": "code",
   "execution_count": 108,
   "metadata": {
    "colab": {
     "base_uri": "https://localhost:8080/",
     "height": 359
    },
    "id": "Le0p5TXZ0KoT",
    "outputId": "a08621b5-eff1-4a9b-bca3-8f067c94d441"
   },
   "outputs": [
    {
     "data": {
      "text/html": [
       "<div>\n",
       "<style scoped>\n",
       "    .dataframe tbody tr th:only-of-type {\n",
       "        vertical-align: middle;\n",
       "    }\n",
       "\n",
       "    .dataframe tbody tr th {\n",
       "        vertical-align: top;\n",
       "    }\n",
       "\n",
       "    .dataframe thead th {\n",
       "        text-align: right;\n",
       "    }\n",
       "</style>\n",
       "<table border=\"1\" class=\"dataframe\">\n",
       "  <thead>\n",
       "    <tr style=\"text-align: right;\">\n",
       "      <th></th>\n",
       "      <th>dt_mean_cpu_2v3D</th>\n",
       "      <th>dt_std_cpu_2v3D</th>\n",
       "    </tr>\n",
       "  </thead>\n",
       "  <tbody>\n",
       "    <tr>\n",
       "      <th>0</th>\n",
       "      <td>0.000070</td>\n",
       "      <td>0.000052</td>\n",
       "    </tr>\n",
       "    <tr>\n",
       "      <th>1</th>\n",
       "      <td>0.000500</td>\n",
       "      <td>0.000051</td>\n",
       "    </tr>\n",
       "    <tr>\n",
       "      <th>2</th>\n",
       "      <td>0.001321</td>\n",
       "      <td>0.000086</td>\n",
       "    </tr>\n",
       "    <tr>\n",
       "      <th>3</th>\n",
       "      <td>0.002877</td>\n",
       "      <td>0.000087</td>\n",
       "    </tr>\n",
       "    <tr>\n",
       "      <th>4</th>\n",
       "      <td>0.005544</td>\n",
       "      <td>0.000261</td>\n",
       "    </tr>\n",
       "    <tr>\n",
       "      <th>5</th>\n",
       "      <td>0.009868</td>\n",
       "      <td>0.000191</td>\n",
       "    </tr>\n",
       "    <tr>\n",
       "      <th>6</th>\n",
       "      <td>0.015548</td>\n",
       "      <td>0.000143</td>\n",
       "    </tr>\n",
       "    <tr>\n",
       "      <th>7</th>\n",
       "      <td>0.023501</td>\n",
       "      <td>0.000154</td>\n",
       "    </tr>\n",
       "    <tr>\n",
       "      <th>8</th>\n",
       "      <td>0.033934</td>\n",
       "      <td>0.000237</td>\n",
       "    </tr>\n",
       "    <tr>\n",
       "      <th>9</th>\n",
       "      <td>0.046775</td>\n",
       "      <td>0.000192</td>\n",
       "    </tr>\n",
       "    <tr>\n",
       "      <th>10</th>\n",
       "      <td>0.063613</td>\n",
       "      <td>0.000338</td>\n",
       "    </tr>\n",
       "    <tr>\n",
       "      <th>11</th>\n",
       "      <td>0.082828</td>\n",
       "      <td>0.000319</td>\n",
       "    </tr>\n",
       "    <tr>\n",
       "      <th>12</th>\n",
       "      <td>0.107053</td>\n",
       "      <td>0.000627</td>\n",
       "    </tr>\n",
       "    <tr>\n",
       "      <th>13</th>\n",
       "      <td>0.133928</td>\n",
       "      <td>0.000980</td>\n",
       "    </tr>\n",
       "    <tr>\n",
       "      <th>14</th>\n",
       "      <td>0.166357</td>\n",
       "      <td>0.001209</td>\n",
       "    </tr>\n",
       "    <tr>\n",
       "      <th>15</th>\n",
       "      <td>0.198784</td>\n",
       "      <td>0.000600</td>\n",
       "    </tr>\n",
       "    <tr>\n",
       "      <th>16</th>\n",
       "      <td>0.240615</td>\n",
       "      <td>0.001088</td>\n",
       "    </tr>\n",
       "    <tr>\n",
       "      <th>17</th>\n",
       "      <td>0.286304</td>\n",
       "      <td>0.001192</td>\n",
       "    </tr>\n",
       "    <tr>\n",
       "      <th>18</th>\n",
       "      <td>0.341442</td>\n",
       "      <td>0.000967</td>\n",
       "    </tr>\n",
       "    <tr>\n",
       "      <th>19</th>\n",
       "      <td>0.416450</td>\n",
       "      <td>0.002542</td>\n",
       "    </tr>\n",
       "    <tr>\n",
       "      <th>20</th>\n",
       "      <td>0.468217</td>\n",
       "      <td>0.001503</td>\n",
       "    </tr>\n",
       "  </tbody>\n",
       "</table>\n",
       "</div>"
      ],
      "text/plain": [
       "    dt_mean_cpu_2v3D  dt_std_cpu_2v3D\n",
       "0           0.000070         0.000052\n",
       "1           0.000500         0.000051\n",
       "2           0.001321         0.000086\n",
       "3           0.002877         0.000087\n",
       "4           0.005544         0.000261\n",
       "5           0.009868         0.000191\n",
       "6           0.015548         0.000143\n",
       "7           0.023501         0.000154\n",
       "8           0.033934         0.000237\n",
       "9           0.046775         0.000192\n",
       "10          0.063613         0.000338\n",
       "11          0.082828         0.000319\n",
       "12          0.107053         0.000627\n",
       "13          0.133928         0.000980\n",
       "14          0.166357         0.001209\n",
       "15          0.198784         0.000600\n",
       "16          0.240615         0.001088\n",
       "17          0.286304         0.001192\n",
       "18          0.341442         0.000967\n",
       "19          0.416450         0.002542\n",
       "20          0.468217         0.001503"
      ]
     },
     "execution_count": 108,
     "metadata": {},
     "output_type": "execute_result"
    }
   ],
   "source": [
    "dataframe2v3D"
   ]
  },
  {
   "cell_type": "code",
   "execution_count": 109,
   "metadata": {},
   "outputs": [
    {
     "data": {
      "text/html": [
       "<div>\n",
       "<style scoped>\n",
       "    .dataframe tbody tr th:only-of-type {\n",
       "        vertical-align: middle;\n",
       "    }\n",
       "\n",
       "    .dataframe tbody tr th {\n",
       "        vertical-align: top;\n",
       "    }\n",
       "\n",
       "    .dataframe thead th {\n",
       "        text-align: right;\n",
       "    }\n",
       "</style>\n",
       "<table border=\"1\" class=\"dataframe\">\n",
       "  <thead>\n",
       "    <tr style=\"text-align: right;\">\n",
       "      <th></th>\n",
       "      <th>dt_mean_cpu_3D</th>\n",
       "      <th>dt_std_cpu_3D</th>\n",
       "    </tr>\n",
       "  </thead>\n",
       "  <tbody>\n",
       "    <tr>\n",
       "      <th>0</th>\n",
       "      <td>0.000027</td>\n",
       "      <td>0.000044</td>\n",
       "    </tr>\n",
       "    <tr>\n",
       "      <th>1</th>\n",
       "      <td>0.000189</td>\n",
       "      <td>0.000049</td>\n",
       "    </tr>\n",
       "    <tr>\n",
       "      <th>2</th>\n",
       "      <td>0.001010</td>\n",
       "      <td>0.000036</td>\n",
       "    </tr>\n",
       "    <tr>\n",
       "      <th>3</th>\n",
       "      <td>0.003246</td>\n",
       "      <td>0.000137</td>\n",
       "    </tr>\n",
       "    <tr>\n",
       "      <th>4</th>\n",
       "      <td>0.007342</td>\n",
       "      <td>0.000196</td>\n",
       "    </tr>\n",
       "    <tr>\n",
       "      <th>5</th>\n",
       "      <td>0.015117</td>\n",
       "      <td>0.000205</td>\n",
       "    </tr>\n",
       "    <tr>\n",
       "      <th>6</th>\n",
       "      <td>0.025730</td>\n",
       "      <td>0.000926</td>\n",
       "    </tr>\n",
       "    <tr>\n",
       "      <th>7</th>\n",
       "      <td>0.041166</td>\n",
       "      <td>0.000457</td>\n",
       "    </tr>\n",
       "    <tr>\n",
       "      <th>8</th>\n",
       "      <td>0.060666</td>\n",
       "      <td>0.000407</td>\n",
       "    </tr>\n",
       "    <tr>\n",
       "      <th>9</th>\n",
       "      <td>0.086277</td>\n",
       "      <td>0.000456</td>\n",
       "    </tr>\n",
       "    <tr>\n",
       "      <th>10</th>\n",
       "      <td>0.118926</td>\n",
       "      <td>0.001149</td>\n",
       "    </tr>\n",
       "    <tr>\n",
       "      <th>11</th>\n",
       "      <td>0.159889</td>\n",
       "      <td>0.000772</td>\n",
       "    </tr>\n",
       "    <tr>\n",
       "      <th>12</th>\n",
       "      <td>0.204994</td>\n",
       "      <td>0.001383</td>\n",
       "    </tr>\n",
       "    <tr>\n",
       "      <th>13</th>\n",
       "      <td>0.261215</td>\n",
       "      <td>0.001509</td>\n",
       "    </tr>\n",
       "    <tr>\n",
       "      <th>14</th>\n",
       "      <td>0.358611</td>\n",
       "      <td>0.002835</td>\n",
       "    </tr>\n",
       "    <tr>\n",
       "      <th>15</th>\n",
       "      <td>0.401255</td>\n",
       "      <td>0.001711</td>\n",
       "    </tr>\n",
       "    <tr>\n",
       "      <th>16</th>\n",
       "      <td>0.488284</td>\n",
       "      <td>0.002726</td>\n",
       "    </tr>\n",
       "    <tr>\n",
       "      <th>17</th>\n",
       "      <td>0.588769</td>\n",
       "      <td>0.001926</td>\n",
       "    </tr>\n",
       "    <tr>\n",
       "      <th>18</th>\n",
       "      <td>0.741926</td>\n",
       "      <td>0.002497</td>\n",
       "    </tr>\n",
       "    <tr>\n",
       "      <th>19</th>\n",
       "      <td>1.044901</td>\n",
       "      <td>0.004981</td>\n",
       "    </tr>\n",
       "    <tr>\n",
       "      <th>20</th>\n",
       "      <td>1.013120</td>\n",
       "      <td>0.048232</td>\n",
       "    </tr>\n",
       "  </tbody>\n",
       "</table>\n",
       "</div>"
      ],
      "text/plain": [
       "    dt_mean_cpu_3D  dt_std_cpu_3D\n",
       "0         0.000027       0.000044\n",
       "1         0.000189       0.000049\n",
       "2         0.001010       0.000036\n",
       "3         0.003246       0.000137\n",
       "4         0.007342       0.000196\n",
       "5         0.015117       0.000205\n",
       "6         0.025730       0.000926\n",
       "7         0.041166       0.000457\n",
       "8         0.060666       0.000407\n",
       "9         0.086277       0.000456\n",
       "10        0.118926       0.001149\n",
       "11        0.159889       0.000772\n",
       "12        0.204994       0.001383\n",
       "13        0.261215       0.001509\n",
       "14        0.358611       0.002835\n",
       "15        0.401255       0.001711\n",
       "16        0.488284       0.002726\n",
       "17        0.588769       0.001926\n",
       "18        0.741926       0.002497\n",
       "19        1.044901       0.004981\n",
       "20        1.013120       0.048232"
      ]
     },
     "execution_count": 109,
     "metadata": {},
     "output_type": "execute_result"
    }
   ],
   "source": [
    "dataframe3D"
   ]
  },
  {
   "cell_type": "code",
   "execution_count": 110,
   "metadata": {
    "id": "axd9Qrlu0MED"
   },
   "outputs": [],
   "source": [
    "x = [i for i in range(1, 1000, 100)]"
   ]
  },
  {
   "cell_type": "code",
   "execution_count": 111,
   "metadata": {
    "id": "kWB634UX0P3v"
   },
   "outputs": [],
   "source": [
    "import matplotlib.pyplot as plt"
   ]
  },
  {
   "cell_type": "code",
   "execution_count": 112,
   "metadata": {
    "colab": {
     "base_uri": "https://localhost:8080/",
     "height": 769
    },
    "id": "wbaWF7tn0R3h",
    "outputId": "629e0afa-9357-4e06-f4a7-e7826ba0264a"
   },
   "outputs": [],
   "source": [
    "# plt.figure(figsize=(13, 13))\n",
    "# plt.plot(x, dataframe['dt_mean_cpu_3D'], label = 'dt_mean_cpu_3D')\n",
    "# plt.plot(x, dataframe['dt_mean_gpu_3D'], label = 'dt_mean_gpu_3D')\n",
    "# plt.xlabel('Array_Size')\n",
    "# plt.ylabel('Time (seconds)')\n",
    "# plt.legend()\n",
    "# plt.show()"
   ]
  }
 ],
 "metadata": {
  "accelerator": "GPU",
  "colab": {
   "name": "python_dt.ipynb",
   "provenance": []
  },
  "kernelspec": {
   "display_name": "Python 3",
   "language": "python",
   "name": "python3"
  },
  "language_info": {
   "codemirror_mode": {
    "name": "ipython",
    "version": 3
   },
   "file_extension": ".py",
   "mimetype": "text/x-python",
   "name": "python",
   "nbconvert_exporter": "python",
   "pygments_lexer": "ipython3",
   "version": "3.9.5"
  }
 },
 "nbformat": 4,
 "nbformat_minor": 1
}
