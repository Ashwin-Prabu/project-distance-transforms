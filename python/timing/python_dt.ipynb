{
 "cells": [
  {
   "cell_type": "markdown",
   "metadata": {
    "id": "NMGznkMpqism"
   },
   "source": [
    "### Import Packages\n"
   ]
  },
  {
   "cell_type": "code",
   "execution_count": 1,
   "metadata": {
    "id": "gQXi0jGsqOHn"
   },
   "outputs": [],
   "source": [
    "import torch\n",
    "import numpy as np\n",
    "import time\n",
    "from scipy.ndimage import distance_transform_edt as distance\n",
    "from scipy.ndimage import _nd_image"
   ]
  },
  {
   "cell_type": "code",
   "execution_count": 2,
   "metadata": {
    "colab": {
     "base_uri": "https://localhost:8080/"
    },
    "id": "M3jq1u3SqmqC",
    "outputId": "0e3cb19d-0bb1-4327-be61-9a71586f79b4"
   },
   "outputs": [
    {
     "name": "stdout",
     "output_type": "stream",
     "text": [
      "cuda:0\n"
     ]
    }
   ],
   "source": [
    "device = torch.device(\"cuda:0\")\n",
    "print(device)"
   ]
  },
  {
   "cell_type": "markdown",
   "metadata": {
    "id": "HZORCpWdqpdX"
   },
   "source": [
    "## Benchmarks"
   ]
  },
  {
   "cell_type": "code",
   "execution_count": 3,
   "metadata": {
    "id": "7t4PRC4yqt5a"
   },
   "outputs": [],
   "source": [
    "dt_mean = []\n",
    "dt_std = []\n",
    "\t\n",
    "dt_GPU_mean = []\n",
    "dt_GPU_std = []\n",
    "\n",
    "dt_times = []\n",
    "dt_GPU_times = []"
   ]
  },
  {
   "cell_type": "code",
   "execution_count": 4,
   "metadata": {
    "id": "uarwNS8iqxi6"
   },
   "outputs": [],
   "source": [
    "for n in range(2,1000,100):\n",
    "  # Euclidean Distance CPU\n",
    "  temp_dt_time = []\n",
    "  for i in range(100): #Samples\n",
    "    a = []\n",
    "    for j in range(10): #Evaluations\n",
    "      x1 = torch.randint(0,2,(n,n))\n",
    "      times1 = time.time()\n",
    "      tfm1 = torch.from_numpy(distance(x1))\n",
    "      a.append(time.time()-times1)\n",
    "    temp_dt_time.append(torch.mean(torch.FloatTensor(a)))\n",
    "  dt_times.append(temp_dt_time)\n",
    "\n",
    "\n",
    "for n in range(2,1000,100):\n",
    "  # Euclidean Distance GPU\n",
    "  temp_dt_GPU_time = []\n",
    "  for i in range(100): #Samples\n",
    "    b = []\n",
    "    for j in range(10): #Evaluations\n",
    "      x2 = torch.randint(0,2,(n,n)).to(device)\n",
    "      times2 = time.time()\n",
    "      tfm2 = torch.from_numpy(distance(x2.cpu().numpy())).to(device)  \n",
    "      b.append(time.time()-times2)\n",
    "    temp_dt_GPU_time.append(torch.mean(torch.FloatTensor(b)))\n",
    "  dt_GPU_times.append(temp_dt_GPU_time)\n"
   ]
  },
  {
   "cell_type": "code",
   "execution_count": 5,
   "metadata": {
    "id": "byFKe1nlzFA8"
   },
   "outputs": [],
   "source": [
    "for i in dt_times:\n",
    "  dt_mean.append(torch.mean(torch.FloatTensor(i)).numpy().tolist())\n",
    "  dt_std.append(torch.std(torch.FloatTensor(i), unbiased = False).numpy().tolist())"
   ]
  },
  {
   "cell_type": "code",
   "execution_count": 6,
   "metadata": {
    "id": "J874jT4SzFDo"
   },
   "outputs": [],
   "source": [
    "for i in dt_GPU_times:\n",
    "  dt_GPU_mean.append(torch.mean(torch.FloatTensor(i)).numpy().tolist())\n",
    "  dt_GPU_std.append(torch.std(torch.FloatTensor(i), unbiased = False).numpy().tolist())"
   ]
  },
  {
   "cell_type": "markdown",
   "metadata": {
    "id": "gQJJzWlFzhIv"
   },
   "source": [
    "## Save"
   ]
  },
  {
   "cell_type": "code",
   "execution_count": 7,
   "metadata": {
    "id": "dEMka94uzfmf"
   },
   "outputs": [],
   "source": [
    "import pandas as pd"
   ]
  },
  {
   "cell_type": "code",
   "execution_count": 8,
   "metadata": {
    "id": "MgHczlpwzgmp"
   },
   "outputs": [],
   "source": [
    "dt_mean = np.array(dt_mean)\n",
    "dt_GPU_mean = np.array(dt_GPU_mean)\n",
    "dt_std = np.array(dt_std)\n",
    "dt_GPU_std = np.array(dt_GPU_std)"
   ]
  },
  {
   "cell_type": "code",
   "execution_count": 9,
   "metadata": {
    "id": "cOga857Hz0W4"
   },
   "outputs": [],
   "source": [
    "data = {'dt_mean_cpu_purePython': dt_mean, 'dt_std_cpu_purePython': dt_std, 'dt_mean_gpu_purePython': dt_GPU_mean, 'dt_std_gpu_purePython': dt_GPU_std }"
   ]
  },
  {
   "cell_type": "code",
   "execution_count": 10,
   "metadata": {
    "id": "gGycv12z0EgE"
   },
   "outputs": [],
   "source": [
    "dataframe = pd.DataFrame(data)"
   ]
  },
  {
   "cell_type": "code",
   "execution_count": 11,
   "metadata": {
    "id": "PnZwI5im0F8K"
   },
   "outputs": [],
   "source": [
    "dataframe.to_csv(\"G:\\molloi-lab\\project-distance-transforms\\performance\\purePython_DT_ver2.csv\")"
   ]
  },
  {
   "cell_type": "code",
   "execution_count": 12,
   "metadata": {
    "colab": {
     "base_uri": "https://localhost:8080/",
     "height": 359
    },
    "id": "Le0p5TXZ0KoT",
    "outputId": "a08621b5-eff1-4a9b-bca3-8f067c94d441"
   },
   "outputs": [
    {
     "data": {
      "text/html": [
       "<div>\n",
       "<style scoped>\n",
       "    .dataframe tbody tr th:only-of-type {\n",
       "        vertical-align: middle;\n",
       "    }\n",
       "\n",
       "    .dataframe tbody tr th {\n",
       "        vertical-align: top;\n",
       "    }\n",
       "\n",
       "    .dataframe thead th {\n",
       "        text-align: right;\n",
       "    }\n",
       "</style>\n",
       "<table border=\"1\" class=\"dataframe\">\n",
       "  <thead>\n",
       "    <tr style=\"text-align: right;\">\n",
       "      <th></th>\n",
       "      <th>dt_mean_cpu_purePython</th>\n",
       "      <th>dt_std_cpu_purePython</th>\n",
       "      <th>dt_mean_gpu_purePython</th>\n",
       "      <th>dt_std_gpu_purePython</th>\n",
       "    </tr>\n",
       "  </thead>\n",
       "  <tbody>\n",
       "    <tr>\n",
       "      <th>0</th>\n",
       "      <td>0.000025</td>\n",
       "      <td>0.000043</td>\n",
       "      <td>0.000081</td>\n",
       "      <td>0.000056</td>\n",
       "    </tr>\n",
       "    <tr>\n",
       "      <th>1</th>\n",
       "      <td>0.000613</td>\n",
       "      <td>0.000082</td>\n",
       "      <td>0.000699</td>\n",
       "      <td>0.000085</td>\n",
       "    </tr>\n",
       "    <tr>\n",
       "      <th>2</th>\n",
       "      <td>0.002293</td>\n",
       "      <td>0.000107</td>\n",
       "      <td>0.002448</td>\n",
       "      <td>0.000112</td>\n",
       "    </tr>\n",
       "    <tr>\n",
       "      <th>3</th>\n",
       "      <td>0.005246</td>\n",
       "      <td>0.000202</td>\n",
       "      <td>0.005681</td>\n",
       "      <td>0.000128</td>\n",
       "    </tr>\n",
       "    <tr>\n",
       "      <th>4</th>\n",
       "      <td>0.010347</td>\n",
       "      <td>0.000187</td>\n",
       "      <td>0.011345</td>\n",
       "      <td>0.000235</td>\n",
       "    </tr>\n",
       "    <tr>\n",
       "      <th>5</th>\n",
       "      <td>0.015967</td>\n",
       "      <td>0.000232</td>\n",
       "      <td>0.017044</td>\n",
       "      <td>0.000244</td>\n",
       "    </tr>\n",
       "    <tr>\n",
       "      <th>6</th>\n",
       "      <td>0.023241</td>\n",
       "      <td>0.000251</td>\n",
       "      <td>0.024287</td>\n",
       "      <td>0.000198</td>\n",
       "    </tr>\n",
       "    <tr>\n",
       "      <th>7</th>\n",
       "      <td>0.031296</td>\n",
       "      <td>0.000205</td>\n",
       "      <td>0.032996</td>\n",
       "      <td>0.000195</td>\n",
       "    </tr>\n",
       "    <tr>\n",
       "      <th>8</th>\n",
       "      <td>0.041168</td>\n",
       "      <td>0.000202</td>\n",
       "      <td>0.043709</td>\n",
       "      <td>0.000413</td>\n",
       "    </tr>\n",
       "    <tr>\n",
       "      <th>9</th>\n",
       "      <td>0.052543</td>\n",
       "      <td>0.000438</td>\n",
       "      <td>0.055019</td>\n",
       "      <td>0.000230</td>\n",
       "    </tr>\n",
       "  </tbody>\n",
       "</table>\n",
       "</div>"
      ],
      "text/plain": [
       "   dt_mean_cpu_purePython  dt_std_cpu_purePython  dt_mean_gpu_purePython  \\\n",
       "0                0.000025               0.000043                0.000081   \n",
       "1                0.000613               0.000082                0.000699   \n",
       "2                0.002293               0.000107                0.002448   \n",
       "3                0.005246               0.000202                0.005681   \n",
       "4                0.010347               0.000187                0.011345   \n",
       "5                0.015967               0.000232                0.017044   \n",
       "6                0.023241               0.000251                0.024287   \n",
       "7                0.031296               0.000205                0.032996   \n",
       "8                0.041168               0.000202                0.043709   \n",
       "9                0.052543               0.000438                0.055019   \n",
       "\n",
       "   dt_std_gpu_purePython  \n",
       "0               0.000056  \n",
       "1               0.000085  \n",
       "2               0.000112  \n",
       "3               0.000128  \n",
       "4               0.000235  \n",
       "5               0.000244  \n",
       "6               0.000198  \n",
       "7               0.000195  \n",
       "8               0.000413  \n",
       "9               0.000230  "
      ]
     },
     "execution_count": 12,
     "metadata": {},
     "output_type": "execute_result"
    }
   ],
   "source": [
    "dataframe"
   ]
  },
  {
   "cell_type": "code",
   "execution_count": 13,
   "metadata": {
    "id": "axd9Qrlu0MED"
   },
   "outputs": [],
   "source": [
    "x = [i for i in range(1, 1000, 100)]"
   ]
  },
  {
   "cell_type": "code",
   "execution_count": 14,
   "metadata": {
    "id": "kWB634UX0P3v"
   },
   "outputs": [],
   "source": [
    "import matplotlib.pyplot as plt"
   ]
  },
  {
   "cell_type": "code",
   "execution_count": 16,
   "metadata": {
    "colab": {
     "base_uri": "https://localhost:8080/",
     "height": 769
    },
    "id": "wbaWF7tn0R3h",
    "outputId": "629e0afa-9357-4e06-f4a7-e7826ba0264a"
   },
   "outputs": [
    {
     "data": {
      "image/png": "[encoded data removed]",
      "text/plain": [
       "<Figure size 936x936 with 1 Axes>"
      ]
     },
     "metadata": {
      "needs_background": "light"
     },
     "output_type": "display_data"
    }
   ],
   "source": [
    "plt.figure(figsize=(13, 13))\n",
    "plt.plot(x, dataframe['dt_mean_cpu_purePython'], label = 'dt_mean_cpu_purePython')\n",
    "plt.plot(x, dataframe['dt_mean_gpu_purePython'], label = 'dt_mean_gpu_purePython')\n",
    "plt.xlabel('Array_Size')\n",
    "plt.ylabel('Time (seconds)')\n",
    "plt.legend()\n",
    "plt.show()"
   ]
  }
 ],
 "metadata": {
  "accelerator": "GPU",
  "colab": {
   "name": "python_dt.ipynb",
   "provenance": []
  },
  "kernelspec": {
   "display_name": "Python 3",
   "language": "python",
   "name": "python3"
  },
  "language_info": {
   "codemirror_mode": {
    "name": "ipython",
    "version": 3
   },
   "file_extension": ".py",
   "mimetype": "text/x-python",
   "name": "python",
   "nbconvert_exporter": "python",
   "pygments_lexer": "ipython3",
   "version": "3.9.5"
  }
 },
 "nbformat": 4,
 "nbformat_minor": 1
}
