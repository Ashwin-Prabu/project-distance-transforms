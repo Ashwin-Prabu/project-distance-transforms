{
  "cells": [
    {
      "cell_type": "markdown",
      "metadata": {
        "id": "c4YEcDwgizKu"
      },
      "source": [
        "## Import packages"
      ]
    },
    {
      "cell_type": "code",
      "execution_count": 1,
      "metadata": {
        "id": "FUeJ-AFNicKD"
      },
      "outputs": [],
      "source": [
        "import torch\n",
        "import numpy as np\n",
        "import time\n",
        "from scipy.ndimage import distance_transform_edt as distance\n",
        "from scipy.ndimage import _nd_image"
      ]
    },
    {
      "cell_type": "code",
      "execution_count": 2,
      "metadata": {
        "colab": {
          "base_uri": "https://localhost:8080/"
        },
        "id": "MnZ93kizphQ7",
        "outputId": "bd771e74-9e6f-49e9-f9e4-08c5dc158463"
      },
      "outputs": [
        {
          "name": "stdout",
          "output_type": "stream",
          "text": [
            "cuda:0\n"
          ]
        }
      ],
      "source": [
        "device = torch.device(\"cuda:0\")\n",
        "print(device)"
      ]
    },
    {
      "cell_type": "markdown",
      "metadata": {
        "id": "k-lqe75di1os"
      },
      "source": [
        "# Loss Functions"
      ]
    },
    {
      "cell_type": "code",
      "execution_count": 3,
      "metadata": {
        "id": "txD1IQYMEd1u"
      },
      "outputs": [],
      "source": [
        "def dice_loss(score, target):\n",
        "    target = target.float()\n",
        "    smooth = 1e-5\n",
        "    intersect = torch.sum(score * target)\n",
        "    y_sum = torch.sum(target * target)\n",
        "    z_sum = torch.sum(score * score)\n",
        "    loss = (2 * intersect + smooth) / (z_sum + y_sum + smooth)\n",
        "    loss = 1 - loss\n",
        "    return loss\n",
        "\n"
      ]
    },
    {
      "cell_type": "code",
      "execution_count": 4,
      "metadata": {
        "id": "VeuTs25pEgnK"
      },
      "outputs": [],
      "source": [
        "def hd_loss(seg_soft, gt, seg_dtm, gt_dtm):\n",
        "    \"\"\"\n",
        "    compute huasdorff distance loss for binary segmentation\n",
        "    input: seg_soft: softmax results,  shape=(b,2,x,y,z)\n",
        "           gt: ground truth, shape=(b,x,y,z)\n",
        "           seg_dtm: segmentation distance transform map; shape=(b,2,x,y,z)\n",
        "           gt_dtm: ground truth distance transform map; shape=(b,2,x,y,z)\n",
        "    output: boundary_loss; sclar\n",
        "    \"\"\"\n",
        "\n",
        "    delta_s = (seg_soft - gt) ** 2\n",
        "    s_dtm = seg_dtm ** 2\n",
        "    g_dtm = gt_dtm ** 2\n",
        "    dtm = s_dtm + g_dtm\n",
        "    multipled = torch.einsum('xy, xy->xy', delta_s, dtm)\n",
        "    hd_loss = multipled.mean()\n",
        "\n",
        "    return hd_loss"
      ]
    },
    {
      "cell_type": "markdown",
      "metadata": {
        "id": "VnODxVk4-ft0"
      },
      "source": [
        "# Benchmarks"
      ]
    },
    {
      "cell_type": "code",
      "execution_count": 5,
      "metadata": {
        "id": "RoxFJiEd-o21"
      },
      "outputs": [],
      "source": [
        "hd_mean = []\n",
        "hd_std = []\n",
        "\t\n",
        "dice_mean = []\n",
        "dice_std = []\n",
        "\t\n",
        "hd_GPU_mean = []\n",
        "hd_GPU_std = []\n",
        "\t\n",
        "dice_GPU_mean = []\n",
        "dice_GPU_std = []\n",
        "\n",
        "hd_times = []\n",
        "dice_times = []\n",
        "hd_GPU_times = []\n",
        "dice_GPU_times = []"
      ]
    },
    {
      "cell_type": "code",
      "execution_count": 6,
      "metadata": {
        "id": "zae9TGZDvHbY"
      },
      "outputs": [],
      "source": [
        "for n in range(2,1000,100):\n",
        "  # HD CPU\n",
        "  temp_hd_time = []\n",
        "  for i in range(100): #Samples\n",
        "    a = []\n",
        "    for j in range(10): #Evaluations\n",
        "      x1 = torch.randint(0,2,(n,n))\n",
        "      tfm1 = torch.from_numpy(distance(x1))\n",
        "      times1 = time.time()\n",
        "      hd = hd_loss(x1, x1, tfm1, tfm1)\n",
        "      a.append(time.time()-times1)\n",
        "    temp_hd_time.append(torch.mean(torch.FloatTensor(a)))\n",
        "  hd_times.append(temp_hd_time)\n",
        "\n",
        "for n in range(2,1000,100):\n",
        "  # Dice CPU\n",
        "  temp_dice_time = []\n",
        "  for i in range(100): #Samples\n",
        "    b = []\n",
        "    for j in range(10): #Evaluations\n",
        "      x2 = torch.randint(0,2,(n,n))\n",
        "      times2 = time.time()\n",
        "      dice = dice_loss(x2, x2)\n",
        "      b.append(time.time()-times2)\n",
        "    temp_dice_time.append(torch.mean(torch.FloatTensor(b)))\n",
        "  dice_times.append(temp_dice_time)\n",
        "  \n",
        "for n in range(2,1000,100):\n",
        "  # HD GPU\n",
        "  temp_hd_GPU_time = []\n",
        "  for i in range(100): #Samples\n",
        "    c = []\n",
        "    for j in range(10): #Evaluations\n",
        "      x3 = torch.randint(0,2,(n,n)).to(device)\n",
        "      tfm3 = torch.from_numpy(distance(x3.cpu().numpy())).to(device)\n",
        "      times3 = time.time()\n",
        "      hd_gpu = hd_loss(x3, x3, tfm3, tfm3)\n",
        "      c.append(time.time()-times3)\n",
        "    temp_hd_GPU_time.append(torch.mean(torch.FloatTensor(c)))\n",
        "  hd_GPU_times.append(temp_hd_GPU_time)\n",
        "\n",
        "for n in range(2,1000,100):\n",
        "  # Dice GPU\n",
        "  temp_dice_GPU_time = []\n",
        "  for i in range(100): #Samples\n",
        "    d = []\n",
        "    for j in range(10): #Evaluations\n",
        "      x4 = torch.randint(0,2,(n,n)).to(device)\n",
        "      times4 = time.time()\n",
        "      dice_gpu = dice_loss(x4, x4)\n",
        "      d.append(time.time()-times4)\n",
        "    temp_dice_GPU_time.append(torch.mean(torch.FloatTensor(d)))\n",
        "  dice_GPU_times.append(temp_dice_GPU_time)\n"
      ]
    },
    {
      "cell_type": "code",
      "execution_count": 7,
      "metadata": {
        "id": "v0UhJ1tdL0SZ"
      },
      "outputs": [],
      "source": [
        "for i in hd_times:\n",
        "  hd_mean.append(torch.mean(torch.FloatTensor(i)).numpy().tolist())\n",
        "  hd_std.append(torch.std(torch.FloatTensor(i), unbiased = False).numpy().tolist())"
      ]
    },
    {
      "cell_type": "code",
      "execution_count": 8,
      "metadata": {
        "id": "JcQMRi6uNA3h"
      },
      "outputs": [],
      "source": [
        "for i in dice_times:\n",
        "  dice_mean.append(torch.mean(torch.FloatTensor(i)).numpy().tolist())\n",
        "  dice_std.append(torch.std(torch.FloatTensor(i), unbiased = False).numpy().tolist())"
      ]
    },
    {
      "cell_type": "code",
      "execution_count": 9,
      "metadata": {
        "id": "ezT7RYDzWhnE"
      },
      "outputs": [],
      "source": [
        "for i in hd_GPU_times:\n",
        "  hd_GPU_mean.append(torch.mean(torch.FloatTensor(i)).numpy().tolist())\n",
        "  hd_GPU_std.append(torch.std(torch.FloatTensor(i), unbiased = False).numpy().tolist())"
      ]
    },
    {
      "cell_type": "code",
      "execution_count": 10,
      "metadata": {
        "id": "9X9hrQC7Whtc"
      },
      "outputs": [],
      "source": [
        "for i in dice_GPU_times:\n",
        "  dice_GPU_mean.append(torch.mean(torch.FloatTensor(i)).numpy().tolist())\n",
        "  dice_GPU_std.append(torch.std(torch.FloatTensor(i), unbiased = False).numpy().tolist())"
      ]
    },
    {
      "cell_type": "markdown",
      "metadata": {
        "id": "-6k2_Quvqa68"
      },
      "source": [
        "### Save"
      ]
    },
    {
      "cell_type": "code",
      "execution_count": 11,
      "metadata": {
        "id": "qimwNUfNY7sL"
      },
      "outputs": [],
      "source": [
        "import pandas as pd"
      ]
    },
    {
      "cell_type": "code",
      "execution_count": 12,
      "metadata": {
        "id": "FKC1D7OlY5hQ"
      },
      "outputs": [],
      "source": [
        "hd_mean = np.array(hd_mean)\n",
        "dice_mean = np.array(dice_mean)\n",
        "hd_GPU_mean = np.array(hd_GPU_mean)\n",
        "dice_GPU_mean = np.array(dice_GPU_mean)\n",
        "hd_std = np.array(hd_std)\n",
        "dice_std = np.array(dice_std)\n",
        "hd_GPU_std = np.array(hd_GPU_std)\n",
        "dice_GPU_std = np.array(dice_GPU_std)"
      ]
    },
    {
      "cell_type": "code",
      "execution_count": 13,
      "metadata": {
        "id": "bc1c3RM2qpoH"
      },
      "outputs": [],
      "source": [
        "data = {'hd_mean_cpu_purePython': hd_mean, 'dice_mean_cpu_purePython': dice_mean, 'hd_mean_gpu_purePython': hd_GPU_mean, 'dice_mean_gpu_purePython': dice_GPU_mean, 'hd_std_cpu_purePython': hd_std, 'dice_std_cpu_purePython': dice_std, 'hd_std_gpu_purePython': hd_GPU_std, 'dice_std_gpu_purePython':dice_GPU_std}"
      ]
    },
    {
      "cell_type": "code",
      "execution_count": 14,
      "metadata": {
        "id": "sJ3bkbTsrtZ8"
      },
      "outputs": [],
      "source": [
        "dataframe = pd.DataFrame(data)"
      ]
    },
    {
      "cell_type": "code",
      "execution_count": 15,
      "metadata": {
        "id": "tYfQkUZesARW"
      },
      "outputs": [],
      "source": [
        "dataframe.to_csv(\"G:\\molloi-lab\\project-distance-transforms\\performance\\purePython_Loss.csv\")"
      ]
    },
    {
      "cell_type": "code",
      "execution_count": 16,
      "metadata": {
        "colab": {
          "base_uri": "https://localhost:8080/",
          "height": 359
        },
        "id": "dzspsuWwUPRK",
        "outputId": "d737765c-1344-4e2b-bc8c-939a6d5de78a"
      },
      "outputs": [
        {
          "data": {
            "text/html": [
              "<div>\n",
              "<style scoped>\n",
              "    .dataframe tbody tr th:only-of-type {\n",
              "        vertical-align: middle;\n",
              "    }\n",
              "\n",
              "    .dataframe tbody tr th {\n",
              "        vertical-align: top;\n",
              "    }\n",
              "\n",
              "    .dataframe thead th {\n",
              "        text-align: right;\n",
              "    }\n",
              "</style>\n",
              "<table border=\"1\" class=\"dataframe\">\n",
              "  <thead>\n",
              "    <tr style=\"text-align: right;\">\n",
              "      <th></th>\n",
              "      <th>hd_mean_cpu_purePython</th>\n",
              "      <th>dice_mean_cpu_purePython</th>\n",
              "      <th>hd_mean_gpu_purePython</th>\n",
              "      <th>dice_mean_gpu_purePython</th>\n",
              "      <th>hd_std_cpu_purePython</th>\n",
              "      <th>dice_std_cpu_purePython</th>\n",
              "      <th>hd_std_gpu_purePython</th>\n",
              "      <th>dice_std_gpu_purePython</th>\n",
              "    </tr>\n",
              "  </thead>\n",
              "  <tbody>\n",
              "    <tr>\n",
              "      <th>0</th>\n",
              "      <td>0.000047</td>\n",
              "      <td>0.000050</td>\n",
              "      <td>0.001072</td>\n",
              "      <td>0.000191</td>\n",
              "      <td>0.000050</td>\n",
              "      <td>0.000050</td>\n",
              "      <td>0.009433</td>\n",
              "      <td>0.000060</td>\n",
              "    </tr>\n",
              "    <tr>\n",
              "      <th>1</th>\n",
              "      <td>0.000115</td>\n",
              "      <td>0.000094</td>\n",
              "      <td>0.000119</td>\n",
              "      <td>0.000189</td>\n",
              "      <td>0.000077</td>\n",
              "      <td>0.000066</td>\n",
              "      <td>0.000174</td>\n",
              "      <td>0.000113</td>\n",
              "    </tr>\n",
              "    <tr>\n",
              "      <th>2</th>\n",
              "      <td>0.000287</td>\n",
              "      <td>0.000213</td>\n",
              "      <td>0.000128</td>\n",
              "      <td>0.000177</td>\n",
              "      <td>0.000160</td>\n",
              "      <td>0.000125</td>\n",
              "      <td>0.000115</td>\n",
              "      <td>0.000051</td>\n",
              "    </tr>\n",
              "    <tr>\n",
              "      <th>3</th>\n",
              "      <td>0.000483</td>\n",
              "      <td>0.000265</td>\n",
              "      <td>0.000166</td>\n",
              "      <td>0.000171</td>\n",
              "      <td>0.000164</td>\n",
              "      <td>0.000235</td>\n",
              "      <td>0.000166</td>\n",
              "      <td>0.000121</td>\n",
              "    </tr>\n",
              "    <tr>\n",
              "      <th>4</th>\n",
              "      <td>0.001793</td>\n",
              "      <td>0.000481</td>\n",
              "      <td>0.000200</td>\n",
              "      <td>0.000233</td>\n",
              "      <td>0.000120</td>\n",
              "      <td>0.000200</td>\n",
              "      <td>0.000107</td>\n",
              "      <td>0.000079</td>\n",
              "    </tr>\n",
              "    <tr>\n",
              "      <th>5</th>\n",
              "      <td>0.002723</td>\n",
              "      <td>0.000642</td>\n",
              "      <td>0.000188</td>\n",
              "      <td>0.000238</td>\n",
              "      <td>0.000151</td>\n",
              "      <td>0.000163</td>\n",
              "      <td>0.000111</td>\n",
              "      <td>0.000089</td>\n",
              "    </tr>\n",
              "    <tr>\n",
              "      <th>6</th>\n",
              "      <td>0.003748</td>\n",
              "      <td>0.002141</td>\n",
              "      <td>0.000179</td>\n",
              "      <td>0.000251</td>\n",
              "      <td>0.000140</td>\n",
              "      <td>0.000118</td>\n",
              "      <td>0.000132</td>\n",
              "      <td>0.000101</td>\n",
              "    </tr>\n",
              "    <tr>\n",
              "      <th>7</th>\n",
              "      <td>0.005004</td>\n",
              "      <td>0.002833</td>\n",
              "      <td>0.000204</td>\n",
              "      <td>0.000241</td>\n",
              "      <td>0.000143</td>\n",
              "      <td>0.000166</td>\n",
              "      <td>0.000117</td>\n",
              "      <td>0.000152</td>\n",
              "    </tr>\n",
              "    <tr>\n",
              "      <th>8</th>\n",
              "      <td>0.005887</td>\n",
              "      <td>0.003356</td>\n",
              "      <td>0.000185</td>\n",
              "      <td>0.000238</td>\n",
              "      <td>0.000153</td>\n",
              "      <td>0.000160</td>\n",
              "      <td>0.000109</td>\n",
              "      <td>0.000137</td>\n",
              "    </tr>\n",
              "    <tr>\n",
              "      <th>9</th>\n",
              "      <td>0.006971</td>\n",
              "      <td>0.003730</td>\n",
              "      <td>0.000210</td>\n",
              "      <td>0.000277</td>\n",
              "      <td>0.000166</td>\n",
              "      <td>0.000112</td>\n",
              "      <td>0.000126</td>\n",
              "      <td>0.000109</td>\n",
              "    </tr>\n",
              "  </tbody>\n",
              "</table>\n",
              "</div>"
            ],
            "text/plain": [
              "   hd_mean_cpu_purePython  dice_mean_cpu_purePython  hd_mean_gpu_purePython  \\\n",
              "0                0.000047                  0.000050                0.001072   \n",
              "1                0.000115                  0.000094                0.000119   \n",
              "2                0.000287                  0.000213                0.000128   \n",
              "3                0.000483                  0.000265                0.000166   \n",
              "4                0.001793                  0.000481                0.000200   \n",
              "5                0.002723                  0.000642                0.000188   \n",
              "6                0.003748                  0.002141                0.000179   \n",
              "7                0.005004                  0.002833                0.000204   \n",
              "8                0.005887                  0.003356                0.000185   \n",
              "9                0.006971                  0.003730                0.000210   \n",
              "\n",
              "   dice_mean_gpu_purePython  hd_std_cpu_purePython  dice_std_cpu_purePython  \\\n",
              "0                  0.000191               0.000050                 0.000050   \n",
              "1                  0.000189               0.000077                 0.000066   \n",
              "2                  0.000177               0.000160                 0.000125   \n",
              "3                  0.000171               0.000164                 0.000235   \n",
              "4                  0.000233               0.000120                 0.000200   \n",
              "5                  0.000238               0.000151                 0.000163   \n",
              "6                  0.000251               0.000140                 0.000118   \n",
              "7                  0.000241               0.000143                 0.000166   \n",
              "8                  0.000238               0.000153                 0.000160   \n",
              "9                  0.000277               0.000166                 0.000112   \n",
              "\n",
              "   hd_std_gpu_purePython  dice_std_gpu_purePython  \n",
              "0               0.009433                 0.000060  \n",
              "1               0.000174                 0.000113  \n",
              "2               0.000115                 0.000051  \n",
              "3               0.000166                 0.000121  \n",
              "4               0.000107                 0.000079  \n",
              "5               0.000111                 0.000089  \n",
              "6               0.000132                 0.000101  \n",
              "7               0.000117                 0.000152  \n",
              "8               0.000109                 0.000137  \n",
              "9               0.000126                 0.000109  "
            ]
          },
          "execution_count": 16,
          "metadata": {},
          "output_type": "execute_result"
        }
      ],
      "source": [
        "dataframe"
      ]
    },
    {
      "cell_type": "code",
      "execution_count": 17,
      "metadata": {
        "id": "Gi6uQ_QxWyIP"
      },
      "outputs": [],
      "source": [
        "x = [i for i in range(1, 1000, 100)]"
      ]
    },
    {
      "cell_type": "code",
      "execution_count": 18,
      "metadata": {
        "id": "XnqfyU6b1f3r"
      },
      "outputs": [],
      "source": [
        "import matplotlib.pyplot as plt\n"
      ]
    },
    {
      "cell_type": "code",
      "execution_count": 20,
      "metadata": {
        "colab": {
          "base_uri": "https://localhost:8080/",
          "height": 769
        },
        "id": "I2XEifHG1sDd",
        "outputId": "54c687ab-7724-4ae4-d90f-819e9e73e46d"
      },
      "outputs": [
        {
          "data": {
            "image/png": "[encoded data removed]",
            "text/plain": [
              "<Figure size 936x936 with 1 Axes>"
            ]
          },
          "metadata": {
            "needs_background": "light"
          },
          "output_type": "display_data"
        }
      ],
      "source": [
        "plt.figure(figsize=(13, 13))\n",
        "plt.plot(x, dataframe['hd_mean_cpu_purePython'], label = 'hd_mean')\n",
        "plt.plot(x, dataframe['dice_mean_cpu_purePython'], label = 'dice_mean')\n",
        "plt.plot(x, dataframe['hd_mean_gpu_purePython'], label = 'hd_GPU_mean')\n",
        "plt.plot(x, dataframe['dice_mean_gpu_purePython'], label = 'dice_GPU_mean')\n",
        "plt.xlabel('Array_Size')\n",
        "plt.ylabel('Time (seconds)')\n",
        "plt.legend()\n",
        "plt.show()"
      ]
    },
    {
      "cell_type": "code",
      "execution_count": null,
      "metadata": {
        "id": "YIZoA-lU4mwa"
      },
      "outputs": [],
      "source": []
    }
  ],
  "metadata": {
    "accelerator": "GPU",
    "colab": {
      "collapsed_sections": [],
      "name": "python_loss_functions.ipynb",
      "provenance": []
    },
    "kernelspec": {
      "display_name": "Python 3",
      "name": "python3"
    },
    "language_info": {
      "codemirror_mode": {
        "name": "ipython",
        "version": 3
      },
      "file_extension": ".py",
      "mimetype": "text/x-python",
      "name": "python",
      "nbconvert_exporter": "python",
      "pygments_lexer": "ipython3",
      "version": "3.9.5"
    }
  },
  "nbformat": 4,
  "nbformat_minor": 0
}
