{
  "nbformat": 4,
  "nbformat_minor": 0,
  "metadata": {
    "colab": {
      "name": "loss_timing_python.ipynb",
      "provenance": [],
      "collapsed_sections": []
    },
    "kernelspec": {
      "name": "python3",
      "display_name": "Python 3"
    },
    "language_info": {
      "name": "python"
    },
    "accelerator": "GPU"
  },
  "cells": [
    {
      "cell_type": "markdown",
      "metadata": {
        "id": "c4YEcDwgizKu"
      },
      "source": [
        "## Import packages"
      ]
    },
    {
      "cell_type": "code",
      "metadata": {
        "id": "FUeJ-AFNicKD"
      },
      "source": [
        "import torch\n",
        "import numpy as np\n",
        "import time\n",
        "from scipy.ndimage import distance_transform_edt as distance\n",
        "from scipy.ndimage import _nd_image"
      ],
      "execution_count": null,
      "outputs": []
    },
    {
      "cell_type": "code",
      "metadata": {
        "id": "MnZ93kizphQ7",
        "colab": {
          "base_uri": "https://localhost:8080/"
        },
        "outputId": "619ddcf5-8ceb-4649-de00-51f85580bd0f"
      },
      "source": [
        "device = torch.device(\"cuda:0\")\n",
        "print(device)"
      ],
      "execution_count": null,
      "outputs": [
        {
          "output_type": "stream",
          "text": [
            "cuda:0\n"
          ],
          "name": "stdout"
        }
      ]
    },
    {
      "cell_type": "markdown",
      "metadata": {
        "id": "k-lqe75di1os"
      },
      "source": [
        "# Loss Functions"
      ]
    },
    {
      "cell_type": "code",
      "metadata": {
        "id": "txD1IQYMEd1u"
      },
      "source": [
        "def dice_loss(score, target):\n",
        "    target = target.float()\n",
        "    smooth = 1e-5\n",
        "    intersect = torch.sum(score * target)\n",
        "    y_sum = torch.sum(target * target)\n",
        "    z_sum = torch.sum(score * score)\n",
        "    loss = (2 * intersect + smooth) / (z_sum + y_sum + smooth)\n",
        "    loss = 1 - loss\n",
        "    return loss\n",
        "\n"
      ],
      "execution_count": null,
      "outputs": []
    },
    {
      "cell_type": "code",
      "metadata": {
        "id": "VeuTs25pEgnK"
      },
      "source": [
        "def hd_loss(seg_soft, gt, seg_dtm, gt_dtm):\n",
        "    \"\"\"\n",
        "    compute huasdorff distance loss for binary segmentation\n",
        "    input: seg_soft: softmax results,  shape=(b,2,x,y,z)\n",
        "           gt: ground truth, shape=(b,x,y,z)\n",
        "           seg_dtm: segmentation distance transform map; shape=(b,2,x,y,z)\n",
        "           gt_dtm: ground truth distance transform map; shape=(b,2,x,y,z)\n",
        "    output: boundary_loss; sclar\n",
        "    \"\"\"\n",
        "\n",
        "    delta_s = (seg_soft - gt) ** 2\n",
        "    s_dtm = seg_dtm ** 2\n",
        "    g_dtm = gt_dtm ** 2\n",
        "    dtm = s_dtm + g_dtm\n",
        "    multipled = torch.einsum('xy, xy->xy', delta_s, dtm)\n",
        "    hd_loss = multipled.mean()\n",
        "\n",
        "    return hd_loss"
      ],
      "execution_count": null,
      "outputs": []
    },
    {
      "cell_type": "markdown",
      "metadata": {
        "id": "VnODxVk4-ft0"
      },
      "source": [
        "# Benchmarks"
      ]
    },
    {
      "cell_type": "code",
      "metadata": {
        "id": "RoxFJiEd-o21"
      },
      "source": [
        "hd_mean = []\n",
        "hd_std = []\n",
        "\t\n",
        "dice_mean = []\n",
        "dice_std = []\n",
        "\t\n",
        "hd_GPU_mean = []\n",
        "hd_GPU_std = []\n",
        "\t\n",
        "dice_GPU_mean = []\n",
        "dice_GPU_std = []\n",
        "\n",
        "hd_times = []\n",
        "dice_times = []\n",
        "hd_GPU_times = []\n",
        "dice_GPU_times = []"
      ],
      "execution_count": null,
      "outputs": []
    },
    {
      "cell_type": "code",
      "metadata": {
        "id": "zae9TGZDvHbY"
      },
      "source": [
        "for n in range(1,1000,100):\n",
        "  # HD CPU\n",
        "  temp_hd_time = []\n",
        "  for i in range(100): #Samples\n",
        "    a = []\n",
        "    for j in range(10): #Evaluations\n",
        "      times1 = time.time()\n",
        "      x1 = torch.randint(0,1,(n,n))\n",
        "      tfm1 = torch.from_numpy(distance(x1))\n",
        "      hd = hd_loss(x1, x1, tfm1, tfm1)\n",
        "      a.append(time.time()-times1)\n",
        "    temp_hd_time.append(torch.mean(torch.FloatTensor(a)))\n",
        "  hd_times.append(temp_hd_time)\n",
        "\n",
        "for n in range(1,1000,100):\n",
        "  # Dice CPU\n",
        "  temp_dice_time = []\n",
        "  for i in range(100): #Samples\n",
        "    b = []\n",
        "    for j in range(10): #Evaluations\n",
        "      times2 = time.time()\n",
        "      x2 = torch.randint(0,1,(n,n))\n",
        "      dice = dice_loss(x2, x2)\n",
        "      b.append(time.time()-times2)\n",
        "    temp_dice_time.append(torch.mean(torch.FloatTensor(b)))\n",
        "  dice_times.append(temp_dice_time)\n",
        "  \n",
        "for n in range(1,1000,100):\n",
        "  # HD GPU\n",
        "  temp_hd_GPU_time = []\n",
        "  for i in range(100): #Samples\n",
        "    c = []\n",
        "    for j in range(10): #Evaluations\n",
        "      times3 = time.time()\n",
        "      x3 = torch.randint(0,1,(n,n)).to(device)\n",
        "      tfm3 = torch.from_numpy(distance(x3.cpu().numpy())).to(device)\n",
        "      hd_gpu = hd_loss(x3, x3, tfm3, tfm3)\n",
        "      c.append(time.time()-times3)\n",
        "    temp_hd_GPU_time.append(torch.mean(torch.FloatTensor(c)))\n",
        "  hd_GPU_times.append(temp_hd_GPU_time)\n",
        "\n",
        "for n in range(1,1000,100):\n",
        "  # Dice GPU\n",
        "  temp_dice_GPU_time = []\n",
        "  for i in range(100): #Samples\n",
        "    d = []\n",
        "    for j in range(10): #Evaluations\n",
        "      times4 = time.time()\n",
        "      x4 = torch.randint(0,1,(n,n)).to(device)\n",
        "      dice_gpu = dice_loss(x4, x4)\n",
        "      d.append(time.time()-times4)\n",
        "    temp_dice_GPU_time.append(torch.mean(torch.FloatTensor(d)))\n",
        "  dice_GPU_times.append(temp_dice_GPU_time)\n"
      ],
      "execution_count": null,
      "outputs": []
    },
    {
      "cell_type": "code",
      "metadata": {
        "id": "v0UhJ1tdL0SZ"
      },
      "source": [
        "for i in hd_times:\n",
        "  hd_mean.append(torch.mean(torch.FloatTensor(i)).numpy().tolist())\n",
        "  hd_std.append(torch.std(torch.FloatTensor(i), unbiased = False).numpy().tolist())"
      ],
      "execution_count": null,
      "outputs": []
    },
    {
      "cell_type": "code",
      "metadata": {
        "id": "JcQMRi6uNA3h"
      },
      "source": [
        "for i in dice_times:\n",
        "  dice_mean.append(torch.mean(torch.FloatTensor(i)).numpy().tolist())\n",
        "  dice_std.append(torch.std(torch.FloatTensor(i), unbiased = False).numpy().tolist())"
      ],
      "execution_count": null,
      "outputs": []
    },
    {
      "cell_type": "code",
      "metadata": {
        "id": "ezT7RYDzWhnE"
      },
      "source": [
        "for i in hd_GPU_times:\n",
        "  hd_GPU_mean.append(torch.mean(torch.FloatTensor(i)).numpy().tolist())\n",
        "  hd_GPU_std.append(torch.std(torch.FloatTensor(i), unbiased = False).numpy().tolist())"
      ],
      "execution_count": null,
      "outputs": []
    },
    {
      "cell_type": "code",
      "metadata": {
        "id": "9X9hrQC7Whtc"
      },
      "source": [
        "for i in dice_GPU_times:\n",
        "  dice_GPU_mean.append(torch.mean(torch.FloatTensor(i)).numpy().tolist())\n",
        "  dice_GPU_std.append(torch.std(torch.FloatTensor(i), unbiased = False).numpy().tolist())"
      ],
      "execution_count": null,
      "outputs": []
    },
    {
      "cell_type": "markdown",
      "metadata": {
        "id": "-6k2_Quvqa68"
      },
      "source": [
        "### Save"
      ]
    },
    {
      "cell_type": "code",
      "metadata": {
        "id": "qimwNUfNY7sL"
      },
      "source": [
        "import pandas as pd"
      ],
      "execution_count": null,
      "outputs": []
    },
    {
      "cell_type": "code",
      "metadata": {
        "id": "FKC1D7OlY5hQ"
      },
      "source": [
        "hd_mean = np.array(hd_mean)\n",
        "dice_mean = np.array(dice_mean)\n",
        "hd_GPU_mean = np.array(hd_GPU_mean)\n",
        "dice_GPU_mean = np.array(dice_GPU_mean)\n",
        "hd_std = np.array(hd_std)\n",
        "dice_std = np.array(dice_std)\n",
        "hd_GPU_std = np.array(hd_GPU_std)\n",
        "dice_GPU_std = np.array(dice_GPU_std)"
      ],
      "execution_count": null,
      "outputs": []
    },
    {
      "cell_type": "code",
      "metadata": {
        "id": "bc1c3RM2qpoH"
      },
      "source": [
        "data = {'hd_mean': hd_mean, 'dice_mean': dice_mean, 'hd_GPU_mean': hd_GPU_mean, 'dice_GPU_mean': dice_GPU_mean, 'hd_std': hd_std, 'dice_std': dice_std, 'hd_GPU_std': hd_GPU_std, 'dice_GPU_std':dice_GPU_std}"
      ],
      "execution_count": null,
      "outputs": []
    },
    {
      "cell_type": "code",
      "metadata": {
        "id": "sJ3bkbTsrtZ8"
      },
      "source": [
        "dataframe = pd.DataFrame(data)"
      ],
      "execution_count": null,
      "outputs": []
    },
    {
      "cell_type": "code",
      "metadata": {
        "id": "tYfQkUZesARW"
      },
      "source": [
        "dataframe.to_csv('Loss_Timing_Python.csv')"
      ],
      "execution_count": null,
      "outputs": []
    },
    {
      "cell_type": "code",
      "metadata": {
        "colab": {
          "base_uri": "https://localhost:8080/",
          "height": 359
        },
        "id": "dzspsuWwUPRK",
        "outputId": "599d0884-0cf3-42e6-da05-7731704db194"
      },
      "source": [
        "dataframe"
      ],
      "execution_count": null,
      "outputs": [
        {
          "output_type": "execute_result",
          "data": {
            "text/html": [
              "<div>\n",
              "<style scoped>\n",
              "    .dataframe tbody tr th:only-of-type {\n",
              "        vertical-align: middle;\n",
              "    }\n",
              "\n",
              "    .dataframe tbody tr th {\n",
              "        vertical-align: top;\n",
              "    }\n",
              "\n",
              "    .dataframe thead th {\n",
              "        text-align: right;\n",
              "    }\n",
              "</style>\n",
              "<table border=\"1\" class=\"dataframe\">\n",
              "  <thead>\n",
              "    <tr style=\"text-align: right;\">\n",
              "      <th></th>\n",
              "      <th>hd_mean</th>\n",
              "      <th>dice_mean</th>\n",
              "      <th>hd_GPU_mean</th>\n",
              "      <th>dice_GPU_mean</th>\n",
              "      <th>hd_std</th>\n",
              "      <th>dice_std</th>\n",
              "      <th>hd_GPU_std</th>\n",
              "      <th>dice_GPU_std</th>\n",
              "    </tr>\n",
              "  </thead>\n",
              "  <tbody>\n",
              "    <tr>\n",
              "      <th>0</th>\n",
              "      <td>0.000414</td>\n",
              "      <td>0.000070</td>\n",
              "      <td>0.009859</td>\n",
              "      <td>0.000250</td>\n",
              "      <td>0.001562</td>\n",
              "      <td>0.000097</td>\n",
              "      <td>0.094716</td>\n",
              "      <td>0.000108</td>\n",
              "    </tr>\n",
              "    <tr>\n",
              "      <th>1</th>\n",
              "      <td>0.001365</td>\n",
              "      <td>0.000283</td>\n",
              "      <td>0.001329</td>\n",
              "      <td>0.000446</td>\n",
              "      <td>0.000370</td>\n",
              "      <td>0.000037</td>\n",
              "      <td>0.000078</td>\n",
              "      <td>0.000054</td>\n",
              "    </tr>\n",
              "    <tr>\n",
              "      <th>2</th>\n",
              "      <td>0.004755</td>\n",
              "      <td>0.001019</td>\n",
              "      <td>0.004536</td>\n",
              "      <td>0.001034</td>\n",
              "      <td>0.000257</td>\n",
              "      <td>0.000070</td>\n",
              "      <td>0.000209</td>\n",
              "      <td>0.000057</td>\n",
              "    </tr>\n",
              "    <tr>\n",
              "      <th>3</th>\n",
              "      <td>0.009938</td>\n",
              "      <td>0.002187</td>\n",
              "      <td>0.009435</td>\n",
              "      <td>0.001876</td>\n",
              "      <td>0.000275</td>\n",
              "      <td>0.000112</td>\n",
              "      <td>0.000227</td>\n",
              "      <td>0.000083</td>\n",
              "    </tr>\n",
              "    <tr>\n",
              "      <th>4</th>\n",
              "      <td>0.016855</td>\n",
              "      <td>0.003641</td>\n",
              "      <td>0.016325</td>\n",
              "      <td>0.003110</td>\n",
              "      <td>0.000400</td>\n",
              "      <td>0.000126</td>\n",
              "      <td>0.000318</td>\n",
              "      <td>0.000106</td>\n",
              "    </tr>\n",
              "    <tr>\n",
              "      <th>5</th>\n",
              "      <td>0.026373</td>\n",
              "      <td>0.005585</td>\n",
              "      <td>0.025492</td>\n",
              "      <td>0.004537</td>\n",
              "      <td>0.000579</td>\n",
              "      <td>0.000169</td>\n",
              "      <td>0.000563</td>\n",
              "      <td>0.000142</td>\n",
              "    </tr>\n",
              "    <tr>\n",
              "      <th>6</th>\n",
              "      <td>0.038447</td>\n",
              "      <td>0.007803</td>\n",
              "      <td>0.035539</td>\n",
              "      <td>0.006407</td>\n",
              "      <td>0.001174</td>\n",
              "      <td>0.000257</td>\n",
              "      <td>0.000703</td>\n",
              "      <td>0.000159</td>\n",
              "    </tr>\n",
              "    <tr>\n",
              "      <th>7</th>\n",
              "      <td>0.050760</td>\n",
              "      <td>0.010425</td>\n",
              "      <td>0.049855</td>\n",
              "      <td>0.008618</td>\n",
              "      <td>0.001232</td>\n",
              "      <td>0.000272</td>\n",
              "      <td>0.001128</td>\n",
              "      <td>0.000225</td>\n",
              "    </tr>\n",
              "    <tr>\n",
              "      <th>8</th>\n",
              "      <td>0.069294</td>\n",
              "      <td>0.013713</td>\n",
              "      <td>0.066297</td>\n",
              "      <td>0.011146</td>\n",
              "      <td>0.001422</td>\n",
              "      <td>0.000308</td>\n",
              "      <td>0.001001</td>\n",
              "      <td>0.000191</td>\n",
              "    </tr>\n",
              "    <tr>\n",
              "      <th>9</th>\n",
              "      <td>0.089041</td>\n",
              "      <td>0.018029</td>\n",
              "      <td>0.082119</td>\n",
              "      <td>0.013757</td>\n",
              "      <td>0.002001</td>\n",
              "      <td>0.000543</td>\n",
              "      <td>0.002724</td>\n",
              "      <td>0.000306</td>\n",
              "    </tr>\n",
              "  </tbody>\n",
              "</table>\n",
              "</div>"
            ],
            "text/plain": [
              "    hd_mean  dice_mean  hd_GPU_mean  ...  dice_std  hd_GPU_std  dice_GPU_std\n",
              "0  0.000414   0.000070     0.009859  ...  0.000097    0.094716      0.000108\n",
              "1  0.001365   0.000283     0.001329  ...  0.000037    0.000078      0.000054\n",
              "2  0.004755   0.001019     0.004536  ...  0.000070    0.000209      0.000057\n",
              "3  0.009938   0.002187     0.009435  ...  0.000112    0.000227      0.000083\n",
              "4  0.016855   0.003641     0.016325  ...  0.000126    0.000318      0.000106\n",
              "5  0.026373   0.005585     0.025492  ...  0.000169    0.000563      0.000142\n",
              "6  0.038447   0.007803     0.035539  ...  0.000257    0.000703      0.000159\n",
              "7  0.050760   0.010425     0.049855  ...  0.000272    0.001128      0.000225\n",
              "8  0.069294   0.013713     0.066297  ...  0.000308    0.001001      0.000191\n",
              "9  0.089041   0.018029     0.082119  ...  0.000543    0.002724      0.000306\n",
              "\n",
              "[10 rows x 8 columns]"
            ]
          },
          "metadata": {
            "tags": []
          },
          "execution_count": 16
        }
      ]
    },
    {
      "cell_type": "code",
      "metadata": {
        "id": "Gi6uQ_QxWyIP"
      },
      "source": [
        "x = [i for i in range(1, 1000, 100)]"
      ],
      "execution_count": null,
      "outputs": []
    },
    {
      "cell_type": "code",
      "metadata": {
        "id": "XnqfyU6b1f3r"
      },
      "source": [
        "import matplotlib.pyplot as plt\n"
      ],
      "execution_count": null,
      "outputs": []
    },
    {
      "cell_type": "code",
      "metadata": {
        "colab": {
          "base_uri": "https://localhost:8080/",
          "height": 769
        },
        "id": "I2XEifHG1sDd",
        "outputId": "626e2cc3-384a-48d9-d1b1-c3c7ab29e4f8"
      },
      "source": [
        "plt.figure(figsize=(13, 13))\n",
        "plt.plot(x, dataframe['hd_mean'], label = 'hd_mean')\n",
        "plt.plot(x, dataframe['dice_mean'], label = 'dice_mean')\n",
        "plt.plot(x, dataframe['hd_GPU_mean'], label = 'hd_GPU_mean')\n",
        "plt.plot(x, dataframe['dice_GPU_mean'], label = 'dice_GPU_mean')\n",
        "plt.xlabel('Array_Size')\n",
        "plt.ylabel('Time (seconds)')\n",
        "plt.legend()\n",
        "plt.show()"
      ],
      "execution_count": null,
      "outputs": [
        {
          "output_type": "display_data",
          "data": {
            "image/png": "[encoded data removed]",
            "text/plain": [
              "<Figure size 936x936 with 1 Axes>"
            ]
          },
          "metadata": {
            "tags": [],
            "needs_background": "light"
          }
        }
      ]
    },
    {
      "cell_type": "code",
      "metadata": {
        "id": "YIZoA-lU4mwa"
      },
      "source": [
        ""
      ],
      "execution_count": null,
      "outputs": []
    }
  ]
}