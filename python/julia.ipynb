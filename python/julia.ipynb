{
 "cells": [
  {
   "cell_type": "markdown",
   "metadata": {},
   "source": [
    "## Setting up General"
   ]
  },
  {
   "cell_type": "code",
   "execution_count": 4,
   "metadata": {},
   "outputs": [
    {
     "data": {
      "text/plain": [
       "@bind (macro with 1 method)"
      ]
     },
     "execution_count": 4,
     "metadata": {},
     "output_type": "execute_result"
    }
   ],
   "source": [
    "using InteractiveUtils\n",
    "\n",
    "macro bind(def, element)\n",
    "    quote\n",
    "        local el = $(esc(element))\n",
    "        global $(esc(def)) = Core.applicable(Base.get, el) ? Base.get(el) : missing\n",
    "        el\n",
    "    end\n",
    "end"
   ]
  },
  {
   "cell_type": "code",
   "execution_count": 5,
   "metadata": {},
   "outputs": [
    {
     "name": "stderr",
     "output_type": "stream",
     "text": [
      "\u001b[32m\u001b[1m  Activating\u001b[22m\u001b[39m project at `D:\\wljulia`\n"
     ]
    }
   ],
   "source": [
    "using Pkg\n",
    "\n",
    "Pkg.activate(raw\"D:\\wljulia\")\n",
    "# Pkg.Registry.update()\n",
    "# Pkg.add(\"BenchmarkTools\")\n",
    "# Pkg.add(\"PlutoUI\")\n",
    "# Pkg.add(\"Tar\")\n",
    "# Pkg.add(\"MLDataPattern\")\n",
    "# Pkg.add(\"Glob\")\n",
    "# Pkg.add(\"NIfTI\")\n",
    "# Pkg.add(\"CairoMakie\")\n",
    "# Pkg.add(\"ImageCore\")\n",
    "# Pkg.add(\"DataLoaders\")\n",
    "# Pkg.add(\"CUDA\")\n",
    "# Pkg.add(\"FastAI\")\n",
    "# Pkg.add(\"Images\")\n",
    "# Pkg.add(\"FilePathsBase\")\n",
    "# Pkg.add(\"FixedPointNumbers\")\n",
    "# Pkg.add(\"Colors\")\n",
    "# Pkg.add(\"ProgressBars\")\n",
    "# Pkg.add(\"LinearAlgebra\")\n",
    "# Pkg.add(\"StaticArrays\")\n",
    "        "
   ]
  },
  {
   "cell_type": "code",
   "execution_count": 6,
   "metadata": {},
   "outputs": [
    {
     "name": "stderr",
     "output_type": "stream",
     "text": [
      "\u001b[32m\u001b[1m    Updating\u001b[22m\u001b[39m registry at `C:\\Users\\Administrator.WIN-2EPKD7D6018\\.julia\\registries\\General.toml`\n",
      "\u001b[32m\u001b[1m   Resolving\u001b[22m\u001b[39m package versions...\n",
      "\u001b[32m\u001b[1m  No Changes\u001b[22m\u001b[39m to `D:\\wljulia\\Project.toml`\n",
      "\u001b[32m\u001b[1m  No Changes\u001b[22m\u001b[39m to `D:\\wljulia\\Manifest.toml`\n",
      "\u001b[32m\u001b[1m   Resolving\u001b[22m\u001b[39m package versions...\n",
      "\u001b[32m\u001b[1m  No Changes\u001b[22m\u001b[39m to `D:\\wljulia\\Project.toml`\n",
      "\u001b[32m\u001b[1m  No Changes\u001b[22m\u001b[39m to `D:\\wljulia\\Manifest.toml`\n"
     ]
    }
   ],
   "source": [
    "Pkg.add(\"DataFrames\")\n",
    "Pkg.add(\"CSV\")\n",
    "using DataFrames\n",
    "using CSV"
   ]
  },
  {
   "cell_type": "code",
   "execution_count": 7,
   "metadata": {},
   "outputs": [
    {
     "name": "stderr",
     "output_type": "stream",
     "text": [
      "WARNING: using Makie.Label in module FastAI conflicts with an existing identifier.\n"
     ]
    }
   ],
   "source": [
    "using PlutoUI\n",
    "using BenchmarkTools\n",
    "using Colors: Gray\n",
    "using FixedPointNumbers: N0f8\n",
    "using Tar\n",
    "using MLDataPattern\n",
    "using Glob\n",
    "using NIfTI\n",
    "using CairoMakie\n",
    "using ImageCore\n",
    "using DataLoaders\n",
    "using CUDA\n",
    "using FastAI\n",
    "using FastAI: DataAugmentation\n",
    "using Images\n",
    "using FilePathsBase\n",
    "using ProgressBars\n",
    "using LinearAlgebra\n",
    "using StaticArrays"
   ]
  },
  {
   "cell_type": "code",
   "execution_count": 8,
   "metadata": {},
   "outputs": [
    {
     "data": {
      "text/html": [
       "<script>const getParentCell = el => el.closest(\"pluto-cell\")\n",
       "\n",
       "const getHeaders = () => {\n",
       "\tconst depth = Math.max(1, Math.min(6, 3)) // should be in range 1:6\n",
       "\tconst range = Array.from({length: depth}, (x, i) => i+1) // [1, ..., depth]\n",
       "\t\n",
       "\tconst selector = range.map(i => `pluto-notebook pluto-cell h${i}`).join(\",\")\n",
       "\treturn Array.from(document.querySelectorAll(selector))\n",
       "}\n",
       "\n",
       "const indent = true\n",
       "const aside = true\n",
       "\n",
       "const clickHandler = (event) => {\n",
       "\tconst path = (event.path || event.composedPath())\n",
       "\tconst toc = path.find(elem => elem?.classList?.contains?.(\"toc-toggle\"))\n",
       "\tif (toc) {\n",
       "\t\tevent.stopImmediatePropagation()\n",
       "\t\ttoc.closest(\".plutoui-toc\").classList.toggle(\"hide\")\n",
       "\t}\n",
       "}\n",
       "\n",
       "document.addEventListener(\"click\", clickHandler)\n",
       "\n",
       "\n",
       "const render = (el) => html`${el.map(h => {\n",
       "\tconst parent_cell = getParentCell(h)\n",
       "\n",
       "\tconst a = html`<a \n",
       "\t\tclass=\"${h.nodeName}\" \n",
       "\t\thref=\"#${parent_cell.id}\"\n",
       "\t>${h.innerText}</a>`\n",
       "\t/* a.onmouseover=()=>{\n",
       "\t\tparent_cell.firstElementChild.classList.add(\n",
       "\t\t\t'highlight-pluto-cell-shoulder'\n",
       "\t\t)\n",
       "\t}\n",
       "\ta.onmouseout=() => {\n",
       "\t\tparent_cell.firstElementChild.classList.remove(\n",
       "\t\t\t'highlight-pluto-cell-shoulder'\n",
       "\t\t)\n",
       "\t} */\n",
       "\ta.onclick=(e) => {\n",
       "\t\te.preventDefault();\n",
       "\t\th.scrollIntoView({\n",
       "\t\t\tbehavior: 'smooth', \n",
       "\t\t\tblock: 'start'\n",
       "\t\t})\n",
       "\t}\n",
       "\n",
       "\treturn html`<div class=\"toc-row\">${a}</div>`\n",
       "})}`\n",
       "\n",
       "const tocNode = html`<nav class=\"plutoui-toc\">\n",
       "\t<header>\n",
       "     <span class=\"toc-toggle open-toc\">📖</span>\n",
       "     <span class=\"toc-toggle closed-toc\">📕</span>\n",
       "\tTable of Contents</header>\n",
       "\t<section></section>\n",
       "</nav>`\n",
       "\n",
       "tocNode.classList.toggle(\"aside\", aside)\n",
       "tocNode.classList.toggle(\"indent\", indent)\n",
       "\n",
       "const updateCallback = () => {\n",
       "\ttocNode.querySelector(\"section\").replaceWith(\n",
       "\t\thtml`<section>${render(getHeaders())}</section>`\n",
       "\t)\n",
       "}\n",
       "updateCallback()\n",
       "setTimeout(updateCallback, 100)\n",
       "setTimeout(updateCallback, 1000)\n",
       "setTimeout(updateCallback, 5000)\n",
       "\n",
       "const notebook = document.querySelector(\"pluto-notebook\")\n",
       "\n",
       "\n",
       "// We have a mutationobserver for each cell:\n",
       "const observers = {\n",
       "\tcurrent: [],\n",
       "}\n",
       "\n",
       "const createCellObservers = () => {\n",
       "\tobservers.current.forEach((o) => o.disconnect())\n",
       "\tobservers.current = Array.from(notebook.querySelectorAll(\"pluto-cell\")).map(el => {\n",
       "\t\tconst o = new MutationObserver(updateCallback)\n",
       "\t\to.observe(el, {attributeFilter: [\"class\"]})\n",
       "\t\treturn o\n",
       "\t})\n",
       "}\n",
       "createCellObservers()\n",
       "\n",
       "// And one for the notebook's child list, which updates our cell observers:\n",
       "const notebookObserver = new MutationObserver(() => {\n",
       "\tupdateCallback()\n",
       "\tcreateCellObservers()\n",
       "})\n",
       "notebookObserver.observe(notebook, {childList: true})\n",
       "\n",
       "// And finally, an observer for the document.body classList, to make sure that the toc also works when if is loaded during notebook initialization\n",
       "const bodyClassObserver = new MutationObserver(updateCallback)\n",
       "bodyClassObserver.observe(document.body, {attributeFilter: [\"class\"]})\n",
       "\n",
       "// Hide/show the ToC when the screen gets small\n",
       "let m = matchMedia(\"(max-width: 1000px)\")\n",
       "let match_listener = () => \n",
       "\ttocNode.classList.toggle(\"hide\", m.matches)\n",
       "match_listener()\n",
       "m.addListener(match_listener)\n",
       "\n",
       "invalidation.then(() => {\n",
       "\tnotebookObserver.disconnect()\n",
       "\tbodyClassObserver.disconnect()\n",
       "\tobservers.current.forEach((o) => o.disconnect())\n",
       "\tdocument.removeEventListener(\"click\", clickHandler)\n",
       "\tm.removeListener(match_listener)\n",
       "})\n",
       "\n",
       "return tocNode\n",
       "</script><style>\n",
       ".plutoui-toc {\n",
       "\t--main-bg-color: unset;\n",
       "\t--pluto-output-color: hsl(0, 0%, 36%);\n",
       "\t--pluto-output-h-color: hsl(0, 0%, 21%);\n",
       "}\n",
       "\n",
       "@media (prefers-color-scheme: dark) {\n",
       "\t.plutoui-toc {\n",
       "\t\t--main-bg-color: hsl(0deg 0% 21%);\n",
       "\t\t--pluto-output-color: hsl(0, 0%, 90%);\n",
       "\t\t--pluto-output-h-color: hsl(0, 0%, 97%);\n",
       "\t}\n",
       "}\n",
       "\n",
       ".plutoui-toc.aside {\n",
       "\tcolor: var(--pluto-output-color);\n",
       "\tposition:fixed;\n",
       "\tright: 1rem;\n",
       "\ttop: 5rem;\n",
       "\twidth: min(80vw, 300px);\n",
       "\tpadding: 10px;\n",
       "\tborder: 3px solid rgba(0, 0, 0, 0.15);\n",
       "\tborder-radius: 10px;\n",
       "\tbox-shadow: 0 0 11px 0px #00000010;\n",
       "\t/* That is, viewport minus top minus Live Docs */\n",
       "\tmax-height: calc(100vh - 5rem - 56px);\n",
       "\toverflow: auto;\n",
       "\tz-index: 40;\n",
       "\tbackground-color: var(--main-bg-color);\n",
       "\ttransition: transform 300ms cubic-bezier(0.18, 0.89, 0.45, 1.12);\n",
       "}\n",
       "\n",
       ".plutoui-toc.aside.hide {\n",
       "\ttransform: translateX(calc(100% - 28px));\n",
       "}\n",
       "\n",
       ".plutoui-toc.aside.hide .open-toc,\n",
       ".plutoui-toc.aside:not(.hide) .closed-toc,\n",
       ".plutoui-toc:not(.aside) .closed-toc {\n",
       "\tdisplay: none;\n",
       "}\n",
       "\n",
       "@media (prefers-reduced-motion) {\n",
       "  .plutoui-toc.aside {\n",
       "    transition-duration: 0s;\n",
       "  }\n",
       "}\n",
       "\n",
       ".toc-toggle {\n",
       "\tcursor: pointer;\n",
       "\tpadding: 1em;\n",
       "\tmargin: -1em;\n",
       "    margin-right: -0.7em;\n",
       "}\n",
       "\n",
       ".plutoui-toc header {\n",
       "\tdisplay: block;\n",
       "\tfont-size: 1.5em;\n",
       "\tmargin-top: -0.1em;\n",
       "\tmargin-bottom: 0.4em;\n",
       "\tpadding-bottom: 0.4em;\n",
       "\tmargin-left: 0;\n",
       "\tmargin-right: 0;\n",
       "\tfont-weight: bold;\n",
       "\tborder-bottom: 2px solid rgba(0, 0, 0, 0.15);\n",
       "}\n",
       "\n",
       ".plutoui-toc section .toc-row {\n",
       "\twhite-space: nowrap;\n",
       "\toverflow: hidden;\n",
       "\ttext-overflow: ellipsis;\n",
       "\tpadding-bottom: 2px;\n",
       "}\n",
       "\n",
       ".highlight-pluto-cell-shoulder {\n",
       "\tbackground: rgba(0, 0, 0, 0.05);\n",
       "\tbackground-clip: padding-box;\n",
       "}\n",
       "\n",
       ".plutoui-toc section a {\n",
       "\ttext-decoration: none;\n",
       "\tfont-weight: normal;\n",
       "\tcolor: var(--pluto-output-color);\n",
       "}\n",
       ".plutoui-toc section a:hover {\n",
       "\tcolor: var(--pluto-output-h-color);\n",
       "}\n",
       "\n",
       ".plutoui-toc.indent section a.H1 {\n",
       "\tfont-weight: 700;\n",
       "\tline-height: 1em;\n",
       "}\n",
       "\n",
       ".plutoui-toc.indent section a.H1 {\n",
       "\tpadding-left: 0px;\n",
       "}\n",
       ".plutoui-toc.indent section a.H2 {\n",
       "\tpadding-left: 10px;\n",
       "}\n",
       ".plutoui-toc.indent section a.H3 {\n",
       "\tpadding-left: 20px;\n",
       "}\n",
       ".plutoui-toc.indent section a.H4 {\n",
       "\tpadding-left: 30px;\n",
       "}\n",
       ".plutoui-toc.indent section a.H5 {\n",
       "\tpadding-left: 40px;\n",
       "}\n",
       ".plutoui-toc.indent section a.H6 {\n",
       "\tpadding-left: 50px;\n",
       "}\n",
       "</style>"
      ],
      "text/plain": [
       "TableOfContents(\"Table of Contents\", true, 3, true)"
      ]
     },
     "execution_count": 8,
     "metadata": {},
     "output_type": "execute_result"
    }
   ],
   "source": [
    "TableOfContents()"
   ]
  },
  {
   "cell_type": "markdown",
   "metadata": {},
   "source": [
    "## Load Data"
   ]
  },
  {
   "cell_type": "markdown",
   "metadata": {},
   "source": [
    "## Load data\n",
    "Part of the [Medical Decathlon Dataset](http://medicaldecathlon.com/)"
   ]
  },
  {
   "cell_type": "code",
   "execution_count": 9,
   "metadata": {},
   "outputs": [
    {
     "data": {
      "text/plain": [
       "\"G:\\\\molloi-lab\\\\project-distance-transforms\\\\Task02_Heart\""
      ]
     },
     "execution_count": 9,
     "metadata": {},
     "output_type": "execute_result"
    }
   ],
   "source": [
    "data_dir = raw\"G:\\molloi-lab\\project-distance-transforms\\Task02_Heart\""
   ]
  },
  {
   "cell_type": "code",
   "execution_count": 10,
   "metadata": {},
   "outputs": [
    {
     "data": {
      "text/plain": [
       "loadfn_image (generic function with 1 method)"
      ]
     },
     "execution_count": 10,
     "metadata": {},
     "output_type": "execute_result"
    }
   ],
   "source": [
    "function loadfn_label(p)\n",
    "    a = NIfTI.niread(string(p)).raw\n",
    "    convert_a = convert(Array{UInt8}, a)\n",
    "    convert_a = convert_a .+ 1\n",
    "    return convert_a\n",
    "end\n",
    "\n",
    "function loadfn_image(p)\n",
    "    a = NIfTI.niread(string(p)).raw\n",
    "    convert_a = convert(Array{Float32}, a)\n",
    "    convert_a = convert_a / max(convert_a...)\n",
    "    return convert_a\n",
    "end"
   ]
  },
  {
   "cell_type": "code",
   "execution_count": 11,
   "metadata": {},
   "outputs": [
    {
     "data": {
      "text/plain": [
       "(mapobs(loadfn_image, [\"G:\\\\molloi-lab\\\\project-distance-transforms\\\\Task02_Heart\\\\imagesTr\\\\la_003.ni…]), mapobs(loadfn_label, [\"G:\\\\molloi-lab\\\\project-distance-transforms\\\\Task02_Heart\\\\labelsTr\\\\la_003.ni…]))"
      ]
     },
     "execution_count": 11,
     "metadata": {},
     "output_type": "execute_result"
    }
   ],
   "source": [
    "images(dir) = mapobs(loadfn_image, Glob.glob(\"*.nii*\", dir))\n",
    "masks(dir) =  mapobs(loadfn_label, Glob.glob(\"*.nii*\", dir))\n",
    "data = (\n",
    "    images(joinpath(data_dir, \"imagesTr\")),\n",
    "    masks(joinpath(data_dir, \"labelsTr\")),\n",
    ")"
   ]
  },
  {
   "cell_type": "code",
   "execution_count": 12,
   "metadata": {},
   "outputs": [],
   "source": [
    "image, mask = sample = getobs(data, 1);"
   ]
  },
  {
   "cell_type": "code",
   "execution_count": 13,
   "metadata": {},
   "outputs": [
    {
     "name": "stderr",
     "output_type": "stream",
     "text": [
      "┌ Info: 20\n",
      "└ @ Main In[13]:1\n"
     ]
    }
   ],
   "source": [
    "@info nobs(images(joinpath(data_dir, \"imagesTr\")))"
   ]
  },
  {
   "cell_type": "code",
   "execution_count": 14,
   "metadata": {},
   "outputs": [
    {
     "data": {
      "text/plain": [
       "Float32"
      ]
     },
     "execution_count": 14,
     "metadata": {},
     "output_type": "execute_result"
    }
   ],
   "source": [
    "eltype(image)"
   ]
  },
  {
   "cell_type": "code",
   "execution_count": 15,
   "metadata": {},
   "outputs": [
    {
     "data": {
      "text/plain": [
       "(320, 320, 110)"
      ]
     },
     "execution_count": 15,
     "metadata": {},
     "output_type": "execute_result"
    }
   ],
   "source": [
    "im_size = (320, 320, 110)"
   ]
  },
  {
   "cell_type": "code",
   "execution_count": 16,
   "metadata": {},
   "outputs": [],
   "source": [
    "stats_image = Array{eltype(image)}(undef, im_size..., nobs(images(joinpath(data_dir, \"imagesTr\"))))\n",
    "for i = 1:nobs(images(joinpath(data_dir, \"imagesTr\")))\n",
    "    iimg = getobs(images(joinpath(data_dir, \"imagesTr\")), i)\n",
    "    img = imresize(iimg, im_size)\n",
    "    stats_image[:,:,:,i] = img\n",
    "end"
   ]
  },
  {
   "cell_type": "code",
   "execution_count": 17,
   "metadata": {},
   "outputs": [
    {
     "data": {
      "text/plain": [
       "(Float32[0.090970196], Float32[0.13716035])"
      ]
     },
     "execution_count": 17,
     "metadata": {},
     "output_type": "execute_result"
    }
   ],
   "source": [
    "a, b = FastAI.Vision.imagedatasetstats(stats_image, Gray{N0f8}, progressfn = identity) \n",
    "mean, std = SVector{1, Float32}(a), SVector{1, Float32}(b)"
   ]
  },
  {
   "cell_type": "code",
   "execution_count": null,
   "metadata": {},
   "outputs": [],
   "source": []
  },
  {
   "cell_type": "code",
   "execution_count": 18,
   "metadata": {},
   "outputs": [
    {
     "data": {
      "text/plain": [
       "((DataSubset(::FastAI.Datasets.MappedData{typeof(loadfn_image), Vector{String}}, ::UnitRange{Int64}, ObsDim.Undefined())\n",
       " 16 observations, DataSubset(::FastAI.Datasets.MappedData{typeof(loadfn_label), Vector{String}}, ::UnitRange{Int64}, ObsDim.Undefined())\n",
       " 16 observations), (DataSubset(::FastAI.Datasets.MappedData{typeof(loadfn_image), Vector{String}}, ::UnitRange{Int64}, ObsDim.Undefined())\n",
       " 4 observations, DataSubset(::FastAI.Datasets.MappedData{typeof(loadfn_label), Vector{String}}, ::UnitRange{Int64}, ObsDim.Undefined())\n",
       " 4 observations))"
      ]
     },
     "execution_count": 18,
     "metadata": {},
     "output_type": "execute_result"
    }
   ],
   "source": [
    "train_files, val_files = MLDataPattern.splitobs(data, 0.8)"
   ]
  },
  {
   "cell_type": "code",
   "execution_count": 19,
   "metadata": {},
   "outputs": [],
   "source": [
    "image, mask = sample = getobs(data, 1);"
   ]
  },
  {
   "cell_type": "code",
   "execution_count": 20,
   "metadata": {},
   "outputs": [
    {
     "data": {
      "text/html": [
       "<input type='range' min='1' step='1' max='130' value='50' oninput='this.nextElementSibling.value=this.value'><output>50</output>"
      ],
      "text/plain": [
       "PlutoUI.BuiltinsNotebook.Slider{Int64}(1:130, 50, true)"
      ]
     },
     "execution_count": 20,
     "metadata": {},
     "output_type": "execute_result"
    }
   ],
   "source": [
    "@bind a PlutoUI.Slider(1:size(image, 3), default=50, show_value=true)"
   ]
  },
  {
   "cell_type": "code",
   "execution_count": 21,
   "metadata": {},
   "outputs": [
    {
     "data": {
      "image/png": "[encoded data removed]",
      "text/plain": [
       "FigureAxisPlot()"
      ]
     },
     "execution_count": 21,
     "metadata": {},
     "output_type": "execute_result"
    }
   ],
   "source": [
    "heatmap(image[:, :, a], colormap=:grays)"
   ]
  },
  {
   "cell_type": "code",
   "execution_count": 22,
   "metadata": {},
   "outputs": [
    {
     "data": {
      "image/png": "[encoded data removed]",
      "text/plain": [
       "FigureAxisPlot()"
      ]
     },
     "execution_count": 22,
     "metadata": {},
     "output_type": "execute_result"
    }
   ],
   "source": [
    "heatmap(mask[:, :, a], colormap=:grays)"
   ]
  },
  {
   "cell_type": "markdown",
   "metadata": {},
   "source": [
    "## Create Learning Task"
   ]
  },
  {
   "cell_type": "code",
   "execution_count": 23,
   "metadata": {},
   "outputs": [
    {
     "data": {
      "text/plain": [
       "(96, 96, 96)"
      ]
     },
     "execution_count": 23,
     "metadata": {},
     "output_type": "execute_result"
    }
   ],
   "source": [
    "image_size = (96, 96, 96)"
   ]
  },
  {
   "cell_type": "code",
   "execution_count": 24,
   "metadata": {},
   "outputs": [
    {
     "data": {
      "text/plain": [
       "SupervisedTask(FastAI.Vision.Image{3} -> Mask{3, Int64})"
      ]
     },
     "execution_count": 24,
     "metadata": {},
     "output_type": "execute_result"
    },
    {
     "name": "stderr",
     "output_type": "stream",
     "text": [
      "WARNING: both Makie and Vision export \"Image\"; uses of it in module FastAI must be qualified\n"
     ]
    }
   ],
   "source": [
    "task = SupervisedTask(\n",
    "    (FastAI.Vision.Image{3}(), Mask{3}(1:2)),\n",
    "    (\n",
    "        ProjectiveTransforms((image_size)),\n",
    "        ImagePreprocessing(means = mean, stds = std, C = Gray{N0f8}),\n",
    "        OneHot()\n",
    "    )\n",
    ")"
   ]
  },
  {
   "cell_type": "code",
   "execution_count": 25,
   "metadata": {},
   "outputs": [
    {
     "data": {
      "text/latex": [
       "\\textbf{\\texttt{SupervisedTask} summary}\n",
       "\n",
       "Learning task for the supervised task with input \\texttt{FastAI.Vision.Image\\{3\\}} and target \\texttt{Mask\\{3, Int64\\}}. Compatible with \\texttt{model}s that take in \\texttt{Bounded\\{3, FastAI.Vision.ImageTensor\\{3\\}\\}} and output \\texttt{Bounded\\{3, FastAI.OneHotTensor\\{3, Int64\\}\\}}.\n",
       "\n",
       "Encoding a sample (\\texttt{encodesample(task, context, sample)}) is done through the following encodings:\n",
       "\n",
       "\\begin{tabular}\n",
       "{r | r | r | r}\n",
       "Encoding & Name & \\texttt{blocks.input} & \\texttt{blocks.target} \\\\\n",
       "\\hline\n",
       " & \\texttt{(input, target)} & \\texttt{FastAI.Vision.Image\\{3\\}} & \\texttt{Mask\\{3, Int64\\}} \\\\\n",
       "\\texttt{ProjectiveTransforms} &  & \\textbf{\\texttt{Bounded\\{3, FastAI.Vision.Image\\{3\\}\\}}} & \\textbf{\\texttt{Bounded\\{3, Mask\\{3, Int64\\}\\}}} \\\\\n",
       "\\texttt{ImagePreprocessing} &  & \\textbf{\\texttt{Bounded\\{3, FastAI.Vision.ImageTensor\\{3\\}\\}}} &  \\\\\n",
       "\\texttt{OneHot} & \\texttt{(x, y)} &  & \\textbf{\\texttt{Bounded\\{3, FastAI.OneHotTensor\\{3, Int64\\}\\}}} \\\\\n",
       "\\end{tabular}\n"
      ],
      "text/markdown": [
       "**`SupervisedTask` summary**\n",
       "\n",
       "Learning task for the supervised task with input `FastAI.Vision.Image{3}` and target `Mask{3, Int64}`. Compatible with `model`s that take in `Bounded{3, FastAI.Vision.ImageTensor{3}}` and output `Bounded{3, FastAI.OneHotTensor{3, Int64}}`.\n",
       "\n",
       "Encoding a sample (`encodesample(task, context, sample)`) is done through the following encodings:\n",
       "\n",
       "|               Encoding |              Name |                                 `blocks.input` |                                 `blocks.target` |\n",
       "| ----------------------:| -----------------:| ----------------------------------------------:| -----------------------------------------------:|\n",
       "|                        | `(input, target)` |                       `FastAI.Vision.Image{3}` |                                `Mask{3, Int64}` |\n",
       "| `ProjectiveTransforms` |                   |       **`Bounded{3, FastAI.Vision.Image{3}}`** |                **`Bounded{3, Mask{3, Int64}}`** |\n",
       "|   `ImagePreprocessing` |                   | **`Bounded{3, FastAI.Vision.ImageTensor{3}}`** |                                                 |\n",
       "|               `OneHot` |          `(x, y)` |                                                | **`Bounded{3, FastAI.OneHotTensor{3, Int64}}`** |\n"
      ],
      "text/plain": [
       "  \u001b[1m\u001b[36mSupervisedTask\u001b[39m summary\u001b[22m\n",
       "\n",
       "  Learning task for the supervised task with input \u001b[36mFastAI.Vision.Image{3}\u001b[39m and\n",
       "  target \u001b[36mMask{3, Int64}\u001b[39m. Compatible with \u001b[36mmodel\u001b[39ms that take in \u001b[36mBounded{3,\n",
       "  FastAI.Vision.ImageTensor{3}}\u001b[39m and output \u001b[36mBounded{3, FastAI.OneHotTensor{3,\n",
       "  Int64}}\u001b[39m.\n",
       "\n",
       "  Encoding a sample (\u001b[36mencodesample(task, context, sample)\u001b[39m) is done through the\n",
       "  following encodings:\n",
       "\n",
       "              Encoding            Name                             \u001b[36mblocks.input\u001b[39m                             \u001b[36mblocks.target\u001b[39m\n",
       "  –––––––––––––––––––– ––––––––––––––– –––––––––––––––––––––––––––––––––––––––– –––––––––––––––––––––––––––––––––––––––––\n",
       "                       \u001b[36m(input, target)\u001b[39m                   \u001b[36mFastAI.Vision.Image{3}\u001b[39m                            \u001b[36mMask{3, Int64}\u001b[39m\n",
       "  \u001b[36mProjectiveTransforms\u001b[39m                       \u001b[1m\u001b[36mBounded{3, FastAI.Vision.Image{3}}\u001b[39m\u001b[22m                \u001b[1m\u001b[36mBounded{3, Mask{3, Int64}}\u001b[39m\u001b[22m\n",
       "    \u001b[36mImagePreprocessing\u001b[39m                 \u001b[1m\u001b[36mBounded{3, FastAI.Vision.ImageTensor{3}}\u001b[39m\u001b[22m                                          \n",
       "                \u001b[36mOneHot\u001b[39m          \u001b[36m(x, y)\u001b[39m                                          \u001b[1m\u001b[36mBounded{3, FastAI.OneHotTensor{3, Int64}}\u001b[39m\u001b[22m"
      ]
     },
     "execution_count": 25,
     "metadata": {},
     "output_type": "execute_result"
    }
   ],
   "source": [
    "describetask(task)"
   ]
  },
  {
   "cell_type": "markdown",
   "metadata": {},
   "source": [
    "## Visualize"
   ]
  },
  {
   "cell_type": "code",
   "execution_count": 26,
   "metadata": {},
   "outputs": [],
   "source": [
    "xs, ys = FastAI.makebatch(task, data, 1:3);"
   ]
  },
  {
   "cell_type": "code",
   "execution_count": 27,
   "metadata": {},
   "outputs": [
    {
     "data": {
      "text/html": [
       "<input type='range' min='1' step='1' max='96' value='50' oninput='this.nextElementSibling.value=this.value'><output>50</output>"
      ],
      "text/plain": [
       "PlutoUI.BuiltinsNotebook.Slider{Int64}(1:96, 50, true)"
      ]
     },
     "execution_count": 27,
     "metadata": {},
     "output_type": "execute_result"
    }
   ],
   "source": [
    "@bind b PlutoUI.Slider(1:size(xs, 3), default=50, show_value=true)"
   ]
  },
  {
   "cell_type": "code",
   "execution_count": 28,
   "metadata": {},
   "outputs": [
    {
     "data": {
      "image/png": "[encoded data removed]",
      "text/plain": [
       "FigureAxisPlot()"
      ]
     },
     "execution_count": 28,
     "metadata": {},
     "output_type": "execute_result"
    }
   ],
   "source": [
    "heatmap(xs[:, :, b, 1, 2], colormap=:grays)"
   ]
  },
  {
   "cell_type": "code",
   "execution_count": 29,
   "metadata": {},
   "outputs": [
    {
     "data": {
      "text/plain": [
       "FigureAxisPlot()"
      ]
     },
     "execution_count": 29,
     "metadata": {},
     "output_type": "execute_result"
    }
   ],
   "source": [
    "heatmap(ys[:, :, b, 2, 2], colormap=:grays)"
   ]
  },
  {
   "cell_type": "markdown",
   "metadata": {},
   "source": [
    "## Dataloader"
   ]
  },
  {
   "cell_type": "code",
   "execution_count": 30,
   "metadata": {},
   "outputs": [
    {
     "data": {
      "text/plain": [
       "(DataLoaders.GetObsParallel{DataLoaders.BatchViewCollated{FastAI.TaskDataset{Tuple{DataSubset{FastAI.Datasets.MappedData{typeof(loadfn_image), Vector{String}}, SubArray{Int64, 1, Vector{Int64}, Tuple{UnitRange{Int64}}, true}, LearnBase.ObsDim.Undefined}, DataSubset{FastAI.Datasets.MappedData{typeof(loadfn_label), Vector{String}}, SubArray{Int64, 1, Vector{Int64}, Tuple{UnitRange{Int64}}, true}, LearnBase.ObsDim.Undefined}}, SupervisedTask{NamedTuple{(:input, :target, :sample, :encodedsample, :x, :y, :ŷ, :pred), Tuple{FastAI.Vision.Image{3}, Mask{3, Int64}, Tuple{FastAI.Vision.Image{3}, Mask{3, Int64}}, Tuple{Bounded{3, FastAI.Vision.ImageTensor{3}}, Bounded{3, FastAI.OneHotTensor{3, Int64}}}, Bounded{3, FastAI.Vision.ImageTensor{3}}, Bounded{3, FastAI.OneHotTensor{3, Int64}}, Bounded{3, FastAI.OneHotTensor{3, Int64}}, Bounded{3, Mask{3, Int64}}}}, Tuple{ProjectiveTransforms{3, NamedTuple{(:training, :validation, :inference), Tuple{DataAugmentation.BufferedThreadsafe, DataAugmentation.BufferedThreadsafe, DataAugmentation.Sequence{Tuple{DataAugmentation.CroppedProjectiveTransform{DataAugmentation.ScaleKeepAspect{3}, DataAugmentation.PadDivisible}, DataAugmentation.PinOrigin}}}}}, ImagePreprocessing{N0f8, 1, Gray{N0f8}, Float32}, OneHot{DataType}}}, Training}}}(batchviewcollated() with 16 batches of size 1, true), DataLoaders.GetObsParallel{DataLoaders.BatchViewCollated{FastAI.TaskDataset{Tuple{DataSubset{FastAI.Datasets.MappedData{typeof(loadfn_image), Vector{String}}, SubArray{Int64, 1, Vector{Int64}, Tuple{UnitRange{Int64}}, true}, LearnBase.ObsDim.Undefined}, DataSubset{FastAI.Datasets.MappedData{typeof(loadfn_label), Vector{String}}, SubArray{Int64, 1, Vector{Int64}, Tuple{UnitRange{Int64}}, true}, LearnBase.ObsDim.Undefined}}, SupervisedTask{NamedTuple{(:input, :target, :sample, :encodedsample, :x, :y, :ŷ, :pred), Tuple{FastAI.Vision.Image{3}, Mask{3, Int64}, Tuple{FastAI.Vision.Image{3}, Mask{3, Int64}}, Tuple{Bounded{3, FastAI.Vision.ImageTensor{3}}, Bounded{3, FastAI.OneHotTensor{3, Int64}}}, Bounded{3, FastAI.Vision.ImageTensor{3}}, Bounded{3, FastAI.OneHotTensor{3, Int64}}, Bounded{3, FastAI.OneHotTensor{3, Int64}}, Bounded{3, Mask{3, Int64}}}}, Tuple{ProjectiveTransforms{3, NamedTuple{(:training, :validation, :inference), Tuple{DataAugmentation.BufferedThreadsafe, DataAugmentation.BufferedThreadsafe, DataAugmentation.Sequence{Tuple{DataAugmentation.CroppedProjectiveTransform{DataAugmentation.ScaleKeepAspect{3}, DataAugmentation.PadDivisible}, DataAugmentation.PinOrigin}}}}}, ImagePreprocessing{N0f8, 1, Gray{N0f8}, Float32}, OneHot{DataType}}}, Validation}}}(batchviewcollated() with 2 batches of size 2, true))"
      ]
     },
     "execution_count": 30,
     "metadata": {},
     "output_type": "execute_result"
    }
   ],
   "source": [
    "traindl, validdl = taskdataloaders(data, task, 1)"
   ]
  },
  {
   "cell_type": "markdown",
   "metadata": {},
   "source": [
    "## Model"
   ]
  },
  {
   "cell_type": "code",
   "execution_count": 31,
   "metadata": {},
   "outputs": [
    {
     "data": {
      "text/plain": [
       "#17 (generic function with 1 method)"
      ]
     },
     "execution_count": 31,
     "metadata": {},
     "output_type": "execute_result"
    }
   ],
   "source": [
    "conv = (stride, in, out) -> Conv((3, 3, 3), in=>out, stride=stride, pad=(1, 1, 1))\n",
    "tran = (stride, in, out) -> ConvTranspose((4, 4, 4), in=>out, stride=stride, pad=1)\n",
    "\n",
    "conv1 = (in, out) -> Chain(conv(1, in, out), BatchNorm(out), x -> leakyrelu.(x))\n",
    "conv2 = (in, out) -> Chain(conv(2, in, out), BatchNorm(out), x -> leakyrelu.(x))\n",
    "tran2 = (in, out) -> Chain(tran(2, in, out), BatchNorm(out), x -> leakyrelu.(x))"
   ]
  },
  {
   "cell_type": "code",
   "execution_count": 32,
   "metadata": {},
   "outputs": [
    {
     "data": {
      "text/plain": [
       "unet3D (generic function with 1 method)"
      ]
     },
     "execution_count": 32,
     "metadata": {},
     "output_type": "execute_result"
    }
   ],
   "source": [
    "function unet3D(in_chs, lbl_chs)\n",
    "    # Contracting layers\n",
    "    l1 = Chain(conv1(in_chs, 4))\n",
    "    l2 = Chain(l1, conv1(4, 4), conv2(4, 16))\n",
    "    l3 = Chain(l2, conv1(16, 16), conv2(16, 32))\n",
    "    l4 = Chain(l3, conv1(32, 32), conv2(32, 64))\n",
    "    l5 = Chain(l4, conv1(64, 64), conv2(64, 128))\n",
    "\n",
    "    # Expanding layers\n",
    "    l6 = Chain(l5, tran2(128, 64), conv1(64, 64))\n",
    "    l7 = Chain(Parallel(+, l6, l4), tran2(64, 32), conv1(32, 32))       # Residual connection between l6 & l4\n",
    "    l8 = Chain(Parallel(+, l7, l3), tran2(32, 16), conv1(16, 16))       # Residual connection between l7 & l3\n",
    "    l9 = Chain(Parallel(+, l8, l2), tran2(16, 4), conv1(4, 4))          # Residual connection between l8 & l2\n",
    "    l10 = Chain(l9, conv1(4, lbl_chs))\n",
    "end"
   ]
  },
  {
   "cell_type": "code",
   "execution_count": 33,
   "metadata": {},
   "outputs": [],
   "source": [
    "model = unet3D(1, 2) |> gpu;"
   ]
  },
  {
   "cell_type": "markdown",
   "metadata": {},
   "source": [
    "## Helper Functions"
   ]
  },
  {
   "cell_type": "code",
   "execution_count": 34,
   "metadata": {},
   "outputs": [
    {
     "data": {
      "text/plain": [
       "as_discrete (generic function with 1 method)"
      ]
     },
     "execution_count": 34,
     "metadata": {},
     "output_type": "execute_result"
    }
   ],
   "source": [
    "function dice_metric(ŷ, y)\n",
    "    dice = 2 * sum(ŷ .& y) / (sum(ŷ) + sum(y))\n",
    "    return dice\n",
    "end\n",
    "\n",
    "function as_discrete(array, logit_threshold)\n",
    "    array = array .>= logit_threshold\n",
    "    return array\n",
    "end"
   ]
  },
  {
   "cell_type": "markdown",
   "metadata": {},
   "source": [
    "## Loss Functions"
   ]
  },
  {
   "cell_type": "code",
   "execution_count": 35,
   "metadata": {},
   "outputs": [
    {
     "data": {
      "text/plain": [
       "dice_loss (generic function with 1 method)"
      ]
     },
     "execution_count": 35,
     "metadata": {},
     "output_type": "execute_result"
    }
   ],
   "source": [
    "function dice_loss(ŷ, y)\n",
    "    ϵ = 1e-5\n",
    "    return loss = 1 - ((2 * sum(ŷ .* y) + ϵ) / (sum(ŷ .* ŷ) + sum(y .* y) + ϵ))\n",
    "end\n"
   ]
  },
  {
   "cell_type": "markdown",
   "metadata": {},
   "source": [
    "## Training"
   ]
  },
  {
   "cell_type": "code",
   "execution_count": 36,
   "metadata": {},
   "outputs": [
    {
     "data": {
      "text/plain": [
       "ADAM(0.01, (0.9, 0.999), 1.0e-8, IdDict{Any, Any}())"
      ]
     },
     "execution_count": 36,
     "metadata": {},
     "output_type": "execute_result"
    }
   ],
   "source": [
    "ps = Flux.params(model);\n",
    "loss_function = dice_loss\n",
    "optimizer = Flux.ADAM(0.01)"
   ]
  },
  {
   "cell_type": "code",
   "execution_count": 37,
   "metadata": {},
   "outputs": [
    {
     "data": {
      "text/plain": [
       "Any[]"
      ]
     },
     "execution_count": 37,
     "metadata": {},
     "output_type": "execute_result"
    }
   ],
   "source": [
    "max_epochs = 2\n",
    "val_interval = 2\n",
    "epoch_loss_values = []\n",
    "val_epoch_loss_values = []\n",
    "dice_metric_values = []"
   ]
  },
  {
   "cell_type": "code",
   "execution_count": 38,
   "metadata": {},
   "outputs": [
    {
     "name": "stderr",
     "output_type": "stream",
     "text": [
      "┌ Info: (96, 96, 96, 1, 2)\n",
      "└ @ Main In[38]:2\n",
      "┌ Info: (96, 96, 96, 2, 2)\n",
      "└ @ Main In[38]:3\n",
      "┌ Info: (96, 96, 96, 1, 2)\n",
      "└ @ Main In[38]:2\n",
      "┌ Info: (96, 96, 96, 2, 2)\n",
      "└ @ Main In[38]:3\n",
      "┌ Info: (96, 96, 96, 1, 1)\n",
      "└ @ Main In[38]:7\n",
      "┌ Info: (96, 96, 96, 2, 1)\n",
      "└ @ Main In[38]:8\n",
      "┌ Info: (96, 96, 96, 1, 1)\n",
      "└ @ Main In[38]:7\n",
      "┌ Info: (96, 96, 96, 2, 1)\n",
      "└ @ Main In[38]:8\n",
      "┌ Info: (96, 96, 96, 1, 1)\n",
      "└ @ Main In[38]:7\n",
      "┌ Info: (96, 96, 96, 2, 1)\n",
      "└ @ Main In[38]:8\n",
      "┌ Info: (96, 96, 96, 1, 1)\n",
      "└ @ Main In[38]:7\n",
      "┌ Info: (96, 96, 96, 2, 1)\n",
      "└ @ Main In[38]:8\n",
      "┌ Info: (96, 96, 96, 1, 1)\n",
      "└ @ Main In[38]:7\n",
      "┌ Info: (96, 96, 96, 2, 1)\n",
      "└ @ Main In[38]:8\n",
      "┌ Info: (96, 96, 96, 1, 1)\n",
      "└ @ Main In[38]:7\n",
      "┌ Info: (96, 96, 96, 2, 1)\n",
      "└ @ Main In[38]:8\n",
      "┌ Info: (96, 96, 96, 1, 1)\n",
      "└ @ Main In[38]:7\n",
      "┌ Info: (96, 96, 96, 2, 1)\n",
      "└ @ Main In[38]:8\n",
      "┌ Info: (96, 96, 96, 1, 1)\n",
      "└ @ Main In[38]:7\n",
      "┌ Info: (96, 96, 96, 2, 1)\n",
      "└ @ Main In[38]:8\n",
      "┌ Info: (96, 96, 96, 1, 1)\n",
      "└ @ Main In[38]:7\n",
      "┌ Info: (96, 96, 96, 2, 1)\n",
      "└ @ Main In[38]:8\n",
      "┌ Info: (96, 96, 96, 1, 1)\n",
      "└ @ Main In[38]:7\n",
      "┌ Info: (96, 96, 96, 2, 1)\n",
      "└ @ Main In[38]:8\n",
      "┌ Info: (96, 96, 96, 1, 1)\n",
      "└ @ Main In[38]:7\n",
      "┌ Info: (96, 96, 96, 2, 1)\n",
      "└ @ Main In[38]:8\n",
      "┌ Info: (96, 96, 96, 1, 1)\n",
      "└ @ Main In[38]:7\n",
      "┌ Info: (96, 96, 96, 2, 1)\n",
      "└ @ Main In[38]:8\n",
      "┌ Info: (96, 96, 96, 1, 1)\n",
      "└ @ Main In[38]:7\n",
      "┌ Info: (96, 96, 96, 2, 1)\n",
      "└ @ Main In[38]:8\n",
      "┌ Info: (96, 96, 96, 1, 1)\n",
      "└ @ Main In[38]:7\n",
      "┌ Info: (96, 96, 96, 2, 1)\n",
      "└ @ Main In[38]:8\n",
      "┌ Info: (96, 96, 96, 1, 1)\n",
      "└ @ Main In[38]:7\n",
      "┌ Info: (96, 96, 96, 2, 1)\n",
      "└ @ Main In[38]:8\n",
      "┌ Info: (96, 96, 96, 1, 1)\n",
      "└ @ Main In[38]:7\n",
      "┌ Info: (96, 96, 96, 2, 1)\n",
      "└ @ Main In[38]:8\n"
     ]
    }
   ],
   "source": [
    "for (xs, ys) in validdl\n",
    "    @info size(xs)\n",
    "    @info size(ys)\n",
    "end\n",
    "\n",
    "for (xs, ys) in traindl\n",
    "    @info size(xs)\n",
    "    @info size(ys)\n",
    "end"
   ]
  },
  {
   "cell_type": "code",
   "execution_count": 39,
   "metadata": {},
   "outputs": [
    {
     "data": {
      "text/plain": [
       "train_epoch (generic function with 1 method)"
      ]
     },
     "execution_count": 39,
     "metadata": {},
     "output_type": "execute_result"
    }
   ],
   "source": [
    "function train_step(step,xs,ys)\n",
    "    xs, ys = xs |> gpu, ys |> gpu\n",
    "        step += 1\n",
    "        @show step\n",
    "        gs = Flux.gradient(ps) do\n",
    "            ŷs = model(xs)\n",
    "            loss = loss_function(ŷs[:, :, :, 2, :], ys[:, :, :, 2, :])\n",
    "            return loss\n",
    "        end\n",
    "        Flux.update!(optimizer, ps, gs)\n",
    "end\n",
    "\n",
    "function train_epoch(step)\n",
    "    for (xs, ys) in traindl\n",
    "        xs, ys = xs |> gpu, ys |> gpu\n",
    "        step += 1\n",
    "        @show step\n",
    "        gs = Flux.gradient(ps) do\n",
    "            ŷs = model(xs)\n",
    "            loss = loss_function(ŷs[:, :, :, 2, :], ys[:, :, :, 2, :])\n",
    "            return loss\n",
    "        end\n",
    "        Flux.update!(optimizer, ps, gs)\n",
    "    end\n",
    "end"
   ]
  },
  {
   "cell_type": "code",
   "execution_count": 40,
   "metadata": {},
   "outputs": [
    {
     "data": {
      "text/plain": [
       "Any[]"
      ]
     },
     "execution_count": 40,
     "metadata": {},
     "output_type": "execute_result"
    }
   ],
   "source": [
    "step_time_mean = []\n",
    "step_epoch_mean = []"
   ]
  },
  {
   "cell_type": "code",
   "execution_count": 41,
   "metadata": {},
   "outputs": [
    {
     "name": "stdout",
     "output_type": "stream",
     "text": [
      "epoch = 1\n",
      "step = 1\n",
      "step = 2\n",
      "step = 3\n",
      "step = 4\n",
      "step = 5\n",
      "step = 6\n",
      "step = 7\n",
      "step = 8\n",
      "step = 9\n",
      "step = 10\n",
      "step = 11\n",
      "step = 12\n",
      "step = 13\n",
      "step = 14\n",
      "step = 15\n",
      "step = 16\n",
      "step = 1\n",
      "step = 2\n",
      "step = 3\n",
      "step = 4\n",
      "step = 5\n",
      "step = 6\n",
      "step = 7\n",
      "step = 8\n",
      "step = 9\n",
      "step = 10\n",
      "step = 11\n",
      "step = 12\n",
      "step = 13\n",
      "step = 14\n",
      "step = 15\n",
      "step = 16\n",
      "step = 1\n",
      "step = 2\n",
      "step = 3\n",
      "step = 4\n",
      "step = 5\n",
      "step = 6\n",
      "step = 7\n",
      "step = 8\n",
      "step = 9\n",
      "step = 10\n",
      "step = 11\n",
      "step = 12\n",
      "step = 13\n",
      "step = 14\n",
      "step = 15\n",
      "step = 16\n",
      "step = 1\n",
      "step = 2\n",
      "step = 3\n",
      "step = 4\n",
      "step = 5\n",
      "step = 6\n",
      "step = 7\n",
      "step = 8\n",
      "step = 9\n",
      "step = 10\n",
      "step = 11\n",
      "step = 12\n",
      "step = 13\n",
      "step = 14\n",
      "step = 15\n",
      "step = 16\n",
      "epoch = 2\n",
      "step = 1\n",
      "step = 2\n",
      "step = 3\n",
      "step = 4\n",
      "step = 5\n",
      "step = 6\n",
      "step = 7\n",
      "step = 8\n",
      "step = 9\n",
      "step = 10\n",
      "step = 11\n",
      "step = 12\n",
      "step = 13\n",
      "step = 14\n",
      "step = 15\n",
      "step = 16\n",
      "step = 1\n",
      "step = 2\n",
      "step = 3\n",
      "step = 4\n",
      "step = 5\n",
      "step = 6\n",
      "step = 7\n",
      "step = 8\n",
      "step = 9\n",
      "step = 10\n",
      "step = 11\n",
      "step = 12\n",
      "step = 13\n",
      "step = 14\n",
      "step = 15\n",
      "step = 16\n",
      "step = 1\n",
      "step = 2\n",
      "step = 3\n",
      "step = 4\n",
      "step = 5\n",
      "step = 6\n",
      "step = 7\n",
      "step = 8\n",
      "step = 9\n",
      "step = 10\n",
      "step = 11\n",
      "step = 12\n",
      "step = 13\n",
      "step = 14\n",
      "step = 15\n",
      "step = 16\n",
      "step = 1\n",
      "step = 2\n",
      "step = 3\n",
      "step = 4\n",
      "step = 5\n",
      "step = 6\n",
      "step = 7\n",
      "step = 8\n",
      "step = 9\n",
      "step = 10\n",
      "step = 11\n",
      "step = 12\n",
      "step = 13\n",
      "step = 14\n",
      "step = 15\n",
      "step = 16\n",
      "val_step = 1\n",
      "val_step = 2\n"
     ]
    }
   ],
   "source": [
    "for epoch in 1:max_epochs\n",
    "    step = 0\n",
    "    @show epoch\n",
    "\n",
    "    epoch_time= @benchmark train_epoch($step)\n",
    "    push!(step_epoch_mean, BenchmarkTools.mean(epoch_time).time)\n",
    "\n",
    "    # Loop through training data\n",
    "    # for (xs, ys) in traindl\n",
    "    #     # step_time= @benchmark train_step($step,$xs,$ys)\n",
    "    #     # push!(step_time_mean, BenchmarkTools.mean(step_time).time)\n",
    "    #     xs, ys = xs |> gpu, ys |> gpu\n",
    "    #     step += 1\n",
    "    #     @show step\n",
    "    #     gs = Flux.gradient(ps) do\n",
    "    #         ŷs = model(xs)\n",
    "    #         loss = loss_function(ŷs[:, :, :, 2, :], ys[:, :, :, 2, :])\n",
    "    #         return loss\n",
    "    #     end\n",
    "    #     Flux.update!(optimizer, ps, gs)\n",
    "    # end\n",
    "\n",
    "    # Loop through validation data\n",
    "    if (epoch) % val_interval == 0\n",
    "        val_step = 0\n",
    "        for (val_xs, val_ys) in validdl\n",
    "            val_xs, val_ys = val_xs |> gpu, val_ys |> gpu\n",
    "            val_step += 1\n",
    "            @show val_step\n",
    "\n",
    "            local val_ŷs = model(val_xs)\n",
    "            local val_loss = loss_function(val_ŷs[:, :, :, 2, :], val_ys[:, :, :, 2, :])\n",
    "            # val_ŷs, val_ys = as_discrete(val_ŷs, 0.5), as_discrete(val_ys, 0.5)\n",
    "        end\n",
    "    end\n",
    "end"
   ]
  },
  {
   "cell_type": "code",
   "execution_count": 42,
   "metadata": {},
   "outputs": [
    {
     "data": {
      "text/plain": [
       "\"G:\\\\molloi-lab\\\\project-distance-transforms\\\\performance\\\\testing_4_19_epoch.csv\""
      ]
     },
     "execution_count": 42,
     "metadata": {},
     "output_type": "execute_result"
    }
   ],
   "source": [
    "df = DataFrame(\n",
    "\tstep_epoch_mean = step_epoch_mean,\n",
    "\t)\n",
    "\n",
    "\tpath = raw\"G:\\molloi-lab\\project-distance-transforms\\performance\\testing_4_19_epoch.csv\"\n",
    "\tCSV.write(path, df)"
   ]
  },
  {
   "cell_type": "code",
   "execution_count": null,
   "metadata": {},
   "outputs": [],
   "source": []
  },
  {
   "cell_type": "code",
   "execution_count": null,
   "metadata": {},
   "outputs": [],
   "source": []
  },
  {
   "cell_type": "code",
   "execution_count": null,
   "metadata": {},
   "outputs": [],
   "source": []
  },
  {
   "cell_type": "code",
   "execution_count": null,
   "metadata": {},
   "outputs": [],
   "source": []
  },
  {
   "cell_type": "code",
   "execution_count": null,
   "metadata": {},
   "outputs": [],
   "source": []
  },
  {
   "cell_type": "code",
   "execution_count": null,
   "metadata": {},
   "outputs": [],
   "source": []
  },
  {
   "cell_type": "code",
   "execution_count": null,
   "metadata": {},
   "outputs": [],
   "source": []
  },
  {
   "cell_type": "code",
   "execution_count": null,
   "metadata": {},
   "outputs": [],
   "source": []
  },
  {
   "cell_type": "code",
   "execution_count": null,
   "metadata": {},
   "outputs": [],
   "source": []
  },
  {
   "cell_type": "code",
   "execution_count": null,
   "metadata": {},
   "outputs": [],
   "source": []
  },
  {
   "cell_type": "code",
   "execution_count": null,
   "metadata": {},
   "outputs": [],
   "source": []
  },
  {
   "cell_type": "code",
   "execution_count": null,
   "metadata": {},
   "outputs": [],
   "source": []
  },
  {
   "cell_type": "code",
   "execution_count": null,
   "metadata": {},
   "outputs": [],
   "source": []
  }
 ],
 "metadata": {
  "kernelspec": {
   "display_name": "Julia 1.7.2",
   "language": "julia",
   "name": "julia-1.7"
  },
  "language_info": {
   "file_extension": ".jl",
   "mimetype": "application/julia",
   "name": "julia",
   "version": "1.7.2"
  },
  "orig_nbformat": 4
 },
 "nbformat": 4,
 "nbformat_minor": 2
}
