{
 "cells": [
  {
   "cell_type": "code",
   "execution_count": 1,
   "metadata": {},
   "outputs": [
    {
     "data": {
      "text/plain": [
       "@bind (macro with 1 method)"
      ]
     },
     "metadata": {},
     "output_type": "display_data"
    }
   ],
   "source": [
    "using InteractiveUtils\n",
    "\n",
    "macro bind(def, element)\n",
    "    quote\n",
    "        local el = $(esc(element))\n",
    "        global $(esc(def)) = Core.applicable(Base.get, el) ? Base.get(el) : missing\n",
    "        el\n",
    "    end\n",
    "end"
   ]
  },
  {
   "cell_type": "code",
   "execution_count": 2,
   "metadata": {},
   "outputs": [
    {
     "name": "stderr",
     "output_type": "stream",
     "text": [
      "\u001b[32m\u001b[1m  Activating\u001b[22m\u001b[39m new project at `C:\\Users\\ADMINI~1.WIN\\AppData\\Local\\Temp\\jl_8804Av`\n",
      "\u001b[32m\u001b[1m    Updating\u001b[22m\u001b[39m registry at `C:\\Users\\Administrator.WIN-2EPKD7D6018\\.julia\\registries\\General.toml`\n",
      "\u001b[32m\u001b[1m    Updating\u001b[22m\u001b[39m registry at `C:\\Users\\Administrator.WIN-2EPKD7D6018\\.julia\\registries\\General.toml`\n",
      "\u001b[32m\u001b[1m   Resolving\u001b[22m\u001b[39m package versions...\n",
      "\u001b[32m\u001b[1m    Updating\u001b[22m\u001b[39m `C:\\Users\\Administrator.WIN-2EPKD7D6018\\AppData\\Local\\Temp\\jl_8804Av\\Project.toml`\n",
      " \u001b[90m [7f904dfe] \u001b[39m\u001b[92m+ PlutoUI v0.7.38\u001b[39m\n",
      "\u001b[32m\u001b[1m    Updating\u001b[22m\u001b[39m `C:\\Users\\Administrator.WIN-2EPKD7D6018\\AppData\\Local\\Temp\\jl_8804Av\\Manifest.toml`\n",
      " \u001b[90m [6e696c72] \u001b[39m\u001b[92m+ AbstractPlutoDingetjes v1.1.4\u001b[39m\n",
      " \u001b[90m [3da002f7] \u001b[39m\u001b[92m+ ColorTypes v0.11.0\u001b[39m\n",
      " \u001b[90m [53c48c17] \u001b[39m\u001b[92m+ FixedPointNumbers v0.8.4\u001b[39m\n",
      " \u001b[90m [47d2ed2b] \u001b[39m\u001b[92m+ Hyperscript v0.0.4\u001b[39m\n",
      " \u001b[90m [ac1192a8] \u001b[39m\u001b[92m+ HypertextLiteral v0.9.3\u001b[39m\n",
      " \u001b[90m [b5f81e59] \u001b[39m\u001b[92m+ IOCapture v0.2.2\u001b[39m\n",
      " \u001b[90m [682c06a0] \u001b[39m\u001b[92m+ JSON v0.21.3\u001b[39m\n",
      " \u001b[90m [69de0a69] \u001b[39m\u001b[92m+ Parsers v2.2.4\u001b[39m\n",
      " \u001b[90m [7f904dfe] \u001b[39m\u001b[92m+ PlutoUI v0.7.38\u001b[39m\n",
      " \u001b[90m [189a3867] \u001b[39m\u001b[92m+ Reexport v1.2.2\u001b[39m\n",
      " \u001b[90m [0dad84c5] \u001b[39m\u001b[92m+ ArgTools\u001b[39m\n",
      " \u001b[90m [56f22d72] \u001b[39m\u001b[92m+ Artifacts\u001b[39m\n",
      " \u001b[90m [2a0f44e3] \u001b[39m\u001b[92m+ Base64\u001b[39m\n",
      " \u001b[90m [ade2ca70] \u001b[39m\u001b[92m+ Dates\u001b[39m\n",
      " \u001b[90m [f43a241f] \u001b[39m\u001b[92m+ Downloads\u001b[39m\n",
      " \u001b[90m [b77e0a4c] \u001b[39m\u001b[92m+ InteractiveUtils\u001b[39m\n",
      " \u001b[90m [b27032c2] \u001b[39m\u001b[92m+ LibCURL\u001b[39m\n",
      " \u001b[90m [76f85450] \u001b[39m\u001b[92m+ LibGit2\u001b[39m\n",
      " \u001b[90m [8f399da3] \u001b[39m\u001b[92m+ Libdl\u001b[39m\n",
      " \u001b[90m [37e2e46d] \u001b[39m\u001b[92m+ LinearAlgebra\u001b[39m\n",
      " \u001b[90m [56ddb016] \u001b[39m\u001b[92m+ Logging\u001b[39m\n",
      " \u001b[90m [d6f4376e] \u001b[39m\u001b[92m+ Markdown\u001b[39m\n",
      " \u001b[90m [a63ad114] \u001b[39m\u001b[92m+ Mmap\u001b[39m\n",
      " \u001b[90m [ca575930] \u001b[39m\u001b[92m+ NetworkOptions\u001b[39m\n",
      " \u001b[90m [44cfe95a] \u001b[39m\u001b[92m+ Pkg\u001b[39m\n",
      " \u001b[90m [de0858da] \u001b[39m\u001b[92m+ Printf\u001b[39m\n",
      " \u001b[90m [3fa0cd96] \u001b[39m\u001b[92m+ REPL\u001b[39m\n",
      " \u001b[90m [9a3f8284] \u001b[39m\u001b[92m+ Random\u001b[39m\n",
      " \u001b[90m [ea8e919c] \u001b[39m\u001b[92m+ SHA\u001b[39m\n",
      " \u001b[90m [9e88b42a] \u001b[39m\u001b[92m+ Serialization\u001b[39m\n",
      " \u001b[90m [6462fe0b] \u001b[39m\u001b[92m+ Sockets\u001b[39m\n",
      " \u001b[90m [2f01184e] \u001b[39m\u001b[92m+ SparseArrays\u001b[39m\n",
      " \u001b[90m [10745b16] \u001b[39m\u001b[92m+ Statistics\u001b[39m\n",
      " \u001b[90m [fa267f1f] \u001b[39m\u001b[92m+ TOML\u001b[39m\n",
      " \u001b[90m [a4e569a6] \u001b[39m\u001b[92m+ Tar\u001b[39m\n",
      " \u001b[90m [8dfed614] \u001b[39m\u001b[92m+ Test\u001b[39m\n",
      " \u001b[90m [cf7118a7] \u001b[39m\u001b[92m+ UUIDs\u001b[39m\n",
      " \u001b[90m [4ec0a83e] \u001b[39m\u001b[92m+ Unicode\u001b[39m\n",
      " \u001b[90m [e66e0078] \u001b[39m\u001b[92m+ CompilerSupportLibraries_jll\u001b[39m\n",
      " \u001b[90m [deac9b47] \u001b[39m\u001b[92m+ LibCURL_jll\u001b[39m\n",
      " \u001b[90m [29816b5a] \u001b[39m\u001b[92m+ LibSSH2_jll\u001b[39m\n",
      " \u001b[90m [c8ffd9c3] \u001b[39m\u001b[92m+ MbedTLS_jll\u001b[39m\n",
      " \u001b[90m [14a3606d] \u001b[39m\u001b[92m+ MozillaCACerts_jll\u001b[39m\n",
      " \u001b[90m [4536629a] \u001b[39m\u001b[92m+ OpenBLAS_jll\u001b[39m\n",
      " \u001b[90m [83775a58] \u001b[39m\u001b[92m+ Zlib_jll\u001b[39m\n",
      " \u001b[90m [8e850b90] \u001b[39m\u001b[92m+ libblastrampoline_jll\u001b[39m\n",
      " \u001b[90m [8e850ede] \u001b[39m\u001b[92m+ nghttp2_jll\u001b[39m\n",
      " \u001b[90m [3f19e933] \u001b[39m\u001b[92m+ p7zip_jll\u001b[39m\n",
      "\u001b[32m\u001b[1m   Resolving\u001b[22m\u001b[39m package versions...\n",
      "\u001b[32m\u001b[1m    Updating\u001b[22m\u001b[39m `C:\\Users\\Administrator.WIN-2EPKD7D6018\\AppData\\Local\\Temp\\jl_8804Av\\Project.toml`\n",
      " \u001b[90m [a4e569a6] \u001b[39m\u001b[92m+ Tar\u001b[39m\n",
      "\u001b[32m\u001b[1m  No Changes\u001b[22m\u001b[39m to `C:\\Users\\Administrator.WIN-2EPKD7D6018\\AppData\\Local\\Temp\\jl_8804Av\\Manifest.toml`\n",
      "\u001b[32m\u001b[1m   Resolving\u001b[22m\u001b[39m package versions...\n",
      "\u001b[32m\u001b[1m    Updating\u001b[22m\u001b[39m `C:\\Users\\Administrator.WIN-2EPKD7D6018\\AppData\\Local\\Temp\\jl_8804Av\\Project.toml`\n",
      " \u001b[90m [9920b226] \u001b[39m\u001b[92m+ MLDataPattern v0.5.5\u001b[39m\n",
      "\u001b[32m\u001b[1m    Updating\u001b[22m\u001b[39m `C:\\Users\\Administrator.WIN-2EPKD7D6018\\AppData\\Local\\Temp\\jl_8804Av\\Manifest.toml`\n",
      " \u001b[90m [d360d2e6] \u001b[39m\u001b[92m+ ChainRulesCore v1.14.0\u001b[39m\n",
      " \u001b[90m [9e997f8a] \u001b[39m\u001b[92m+ ChangesOfVariables v0.1.2\u001b[39m\n",
      " \u001b[90m [34da2185] \u001b[39m\u001b[92m+ Compat v3.43.0\u001b[39m\n",
      " \u001b[90m [9a962f9c] \u001b[39m\u001b[92m+ DataAPI v1.9.0\u001b[39m\n",
      " \u001b[90m [864edb3b] \u001b[39m\u001b[92m+ DataStructures v0.18.11\u001b[39m\n",
      " \u001b[90m [ffbed154] \u001b[39m\u001b[92m+ DocStringExtensions v0.8.6\u001b[39m\n",
      " \u001b[90m [3587e190] \u001b[39m\u001b[92m+ InverseFunctions v0.1.3\u001b[39m\n",
      " \u001b[90m [92d709cd] \u001b[39m\u001b[92m+ IrrationalConstants v0.1.1\u001b[39m\n",
      " \u001b[90m [7f8f8fb0] \u001b[39m\u001b[92m+ LearnBase v0.4.1\u001b[39m\n",
      " \u001b[90m [2ab3a3ac] \u001b[39m\u001b[92m+ LogExpFunctions v0.3.12\u001b[39m\n",
      " \u001b[90m [9920b226] \u001b[39m\u001b[92m+ MLDataPattern v0.5.5\u001b[39m\n",
      " \u001b[90m [66a33bbf] \u001b[39m\u001b[92m+ MLLabelUtils v0.5.7\u001b[39m\n",
      " \u001b[90m [dbb5928d] \u001b[39m\u001b[92m+ MappedArrays v0.4.1\u001b[39m\n",
      " \u001b[90m [e1d29d7a] \u001b[39m\u001b[92m+ Missings v1.0.2\u001b[39m\n",
      " \u001b[90m [bac558e1] \u001b[39m\u001b[92m+ OrderedCollections v1.4.1\u001b[39m\n",
      " \u001b[90m [a2af1166] \u001b[39m\u001b[92m+ SortingAlgorithms v1.0.1\u001b[39m\n",
      " \u001b[90m [82ae8749] \u001b[39m\u001b[92m+ StatsAPI v1.2.2\u001b[39m\n",
      " \u001b[90m [2913bbd2] \u001b[39m\u001b[92m+ StatsBase v0.33.16\u001b[39m\n",
      " \u001b[90m [8bb1440f] \u001b[39m\u001b[92m+ DelimitedFiles\u001b[39m\n",
      " \u001b[90m [8ba89e20] \u001b[39m\u001b[92m+ Distributed\u001b[39m\n",
      " \u001b[90m [1a1011a3] \u001b[39m\u001b[92m+ SharedArrays\u001b[39m\n",
      "\u001b[32m\u001b[1m   Resolving\u001b[22m\u001b[39m package versions...\n",
      "\u001b[32m\u001b[1m    Updating\u001b[22m\u001b[39m `C:\\Users\\Administrator.WIN-2EPKD7D6018\\AppData\\Local\\Temp\\jl_8804Av\\Project.toml`\n",
      " \u001b[90m [c27321d9] \u001b[39m\u001b[92m+ Glob v1.3.0\u001b[39m\n",
      "\u001b[32m\u001b[1m    Updating\u001b[22m\u001b[39m `C:\\Users\\Administrator.WIN-2EPKD7D6018\\AppData\\Local\\Temp\\jl_8804Av\\Manifest.toml`\n",
      " \u001b[90m [c27321d9] \u001b[39m\u001b[92m+ Glob v1.3.0\u001b[39m\n",
      "\u001b[32m\u001b[1m   Resolving\u001b[22m\u001b[39m package versions...\n",
      "\u001b[32m\u001b[1m    Updating\u001b[22m\u001b[39m `C:\\Users\\Administrator.WIN-2EPKD7D6018\\AppData\\Local\\Temp\\jl_8804Av\\Project.toml`\n",
      " \u001b[90m [a3a9e032] \u001b[39m\u001b[92m+ NIfTI v0.4.0\u001b[39m\n",
      "\u001b[32m\u001b[1m    Updating\u001b[22m\u001b[39m `C:\\Users\\Administrator.WIN-2EPKD7D6018\\AppData\\Local\\Temp\\jl_8804Av\\Manifest.toml`\n",
      " \u001b[90m [92fee26a] \u001b[39m\u001b[92m+ GZip v0.5.1\u001b[39m\n",
      " \u001b[90m [a3a9e032] \u001b[39m\u001b[92m+ NIfTI v0.4.0\u001b[39m\n",
      "\u001b[32m\u001b[1m   Resolving\u001b[22m\u001b[39m package versions...\n",
      "\u001b[32m\u001b[1m    Updating\u001b[22m\u001b[39m `C:\\Users\\Administrator.WIN-2EPKD7D6018\\AppData\\Local\\Temp\\jl_8804Av\\Project.toml`\n",
      " \u001b[90m [13f3f980] \u001b[39m\u001b[92m+ CairoMakie v0.7.5\u001b[39m\n",
      "\u001b[32m\u001b[1m    Updating\u001b[22m\u001b[39m `C:\\Users\\Administrator.WIN-2EPKD7D6018\\AppData\\Local\\Temp\\jl_8804Av\\Manifest.toml`\n",
      " \u001b[90m [621f4979] \u001b[39m\u001b[92m+ AbstractFFTs v1.1.0\u001b[39m\n",
      " \u001b[90m [1520ce14] \u001b[39m\u001b[92m+ AbstractTrees v0.3.4\u001b[39m\n",
      " \u001b[90m [79e6a3ab] \u001b[39m\u001b[92m+ Adapt v3.3.3\u001b[39m\n",
      " \u001b[90m [27a7e980] \u001b[39m\u001b[92m+ Animations v0.4.1\u001b[39m\n",
      " \u001b[90m [4fba245c] \u001b[39m\u001b[92m+ ArrayInterface v5.0.7\u001b[39m\n",
      " \u001b[90m [67c07d97] \u001b[39m\u001b[92m+ Automa v0.8.2\u001b[39m\n",
      " \u001b[90m [13072b0f] \u001b[39m\u001b[92m+ AxisAlgorithms v1.0.1\u001b[39m\n",
      " \u001b[90m [fa961155] \u001b[39m\u001b[92m+ CEnum v0.4.1\u001b[39m\n",
      " \u001b[90m [159f3aea] \u001b[39m\u001b[92m+ Cairo v1.0.5\u001b[39m\n",
      " \u001b[90m [13f3f980] \u001b[39m\u001b[92m+ CairoMakie v0.7.5\u001b[39m\n",
      " \u001b[90m [a2cac450] \u001b[39m\u001b[92m+ ColorBrewer v0.4.0\u001b[39m\n",
      " \u001b[90m [35d6a980] \u001b[39m\u001b[92m+ ColorSchemes v3.17.1\u001b[39m\n",
      " \u001b[90m [c3611d14] \u001b[39m\u001b[92m+ ColorVectorSpace v0.9.8\u001b[39m\n",
      " \u001b[90m [5ae59095] \u001b[39m\u001b[92m+ Colors v0.12.8\u001b[39m\n",
      " \u001b[90m [d38c429a] \u001b[39m\u001b[92m+ Contour v0.5.7\u001b[39m\n",
      " \u001b[90m [e2d170a0] \u001b[39m\u001b[92m+ DataValueInterfaces v1.0.0\u001b[39m\n",
      " \u001b[90m [b429d917] \u001b[39m\u001b[92m+ DensityInterface v0.4.0\u001b[39m\n",
      " \u001b[90m [31c24e10] \u001b[39m\u001b[92m+ Distributions v0.25.53\u001b[39m\n",
      " \u001b[90m [da5c29d0] \u001b[39m\u001b[92m+ EllipsisNotation v1.5.0\u001b[39m\n",
      " \u001b[90m [c87230d0] \u001b[39m\u001b[92m+ FFMPEG v0.4.1\u001b[39m\n",
      " \u001b[90m [7a1cc6ca] \u001b[39m\u001b[92m+ FFTW v1.4.6\u001b[39m\n",
      " \u001b[90m [5789e2e9] \u001b[39m\u001b[92m+ FileIO v1.13.0\u001b[39m\n",
      " \u001b[90m [1a297f60] \u001b[39m\u001b[92m+ FillArrays v0.13.2\u001b[39m\n",
      " \u001b[90m [59287772] \u001b[39m\u001b[92m+ Formatting v0.4.2\u001b[39m\n",
      " \u001b[90m [b38be410] \u001b[39m\u001b[92m+ FreeType v4.0.0\u001b[39m\n",
      " \u001b[90m [663a7486] \u001b[39m\u001b[92m+ FreeTypeAbstraction v0.9.9\u001b[39m\n",
      " \u001b[90m [5c1252a2] \u001b[39m\u001b[92m+ GeometryBasics v0.4.2\u001b[39m\n",
      " \u001b[90m [a2bd30eb] \u001b[39m\u001b[92m+ Graphics v1.1.1\u001b[39m\n",
      " \u001b[90m [3955a311] \u001b[39m\u001b[92m+ GridLayoutBase v0.6.5\u001b[39m\n",
      " \u001b[90m [42e2da0e] \u001b[39m\u001b[92m+ Grisu v1.0.2\u001b[39m\n",
      " \u001b[90m [615f187c] \u001b[39m\u001b[92m+ IfElse v0.1.1\u001b[39m\n",
      " \u001b[90m [a09fc81d] \u001b[39m\u001b[92m+ ImageCore v0.9.3\u001b[39m\n",
      " \u001b[90m [82e4d734] \u001b[39m\u001b[92m+ ImageIO v0.6.1\u001b[39m\n",
      " \u001b[90m [9b13fd28] \u001b[39m\u001b[92m+ IndirectArrays v1.0.0\u001b[39m\n",
      " \u001b[90m [d25df0c9] \u001b[39m\u001b[92m+ Inflate v0.1.2\u001b[39m\n",
      " \u001b[90m [a98d9a8b] \u001b[39m\u001b[92m+ Interpolations v0.13.6\u001b[39m\n",
      " \u001b[90m [8197267c] \u001b[39m\u001b[92m+ IntervalSets v0.5.4\u001b[39m\n",
      " \u001b[90m [f1662d9f] \u001b[39m\u001b[92m+ Isoband v0.1.1\u001b[39m\n",
      " \u001b[90m [c8e1da08] \u001b[39m\u001b[92m+ IterTools v1.4.0\u001b[39m\n",
      " \u001b[90m [82899510] \u001b[39m\u001b[92m+ IteratorInterfaceExtensions v1.0.0\u001b[39m\n",
      " \u001b[90m [692b3bcd] \u001b[39m\u001b[92m+ JLLWrappers v1.4.1\u001b[39m\n",
      " \u001b[90m [b835a17e] \u001b[39m\u001b[92m+ JpegTurbo v0.1.1\u001b[39m\n",
      " \u001b[90m [5ab0869b] \u001b[39m\u001b[92m+ KernelDensity v0.6.3\u001b[39m\n",
      " \u001b[90m [b964fa9f] \u001b[39m\u001b[92m+ LaTeXStrings v1.3.0\u001b[39m\n",
      " \u001b[90m [ee78f7c6] \u001b[39m\u001b[92m+ Makie v0.16.6\u001b[39m\n",
      " \u001b[90m [20f20a25] \u001b[39m\u001b[92m+ MakieCore v0.2.1\u001b[39m\n",
      " \u001b[90m [7eb4fadd] \u001b[39m\u001b[92m+ Match v1.2.0\u001b[39m\n",
      " \u001b[90m [0a4f8689] \u001b[39m\u001b[92m+ MathTeXEngine v0.2.1\u001b[39m\n",
      " \u001b[90m [e94cdb99] \u001b[39m\u001b[92m+ MosaicViews v0.3.3\u001b[39m\n",
      " \u001b[90m [77ba4419] \u001b[39m\u001b[92m+ NaNMath v0.3.7\u001b[39m\n",
      " \u001b[90m [f09324ee] \u001b[39m\u001b[92m+ Netpbm v1.0.2\u001b[39m\n",
      " \u001b[90m [510215fc] \u001b[39m\u001b[92m+ Observables v0.4.0\u001b[39m\n",
      " \u001b[90m [6fe1bfb0] \u001b[39m\u001b[92m+ OffsetArrays v1.10.8\u001b[39m\n",
      " \u001b[90m [52e1d378] \u001b[39m\u001b[92m+ OpenEXR v0.3.2\u001b[39m\n",
      " \u001b[90m [90014a1f] \u001b[39m\u001b[92m+ PDMats v0.11.7\u001b[39m\n",
      " \u001b[90m [f57f5aa1] \u001b[39m\u001b[92m+ PNGFiles v0.3.14\u001b[39m\n",
      " \u001b[90m [19eb6ba3] \u001b[39m\u001b[92m+ Packing v0.4.2\u001b[39m\n",
      " \u001b[90m [5432bcbf] \u001b[39m\u001b[92m+ PaddedViews v0.5.11\u001b[39m\n",
      " \u001b[90m [eebad327] \u001b[39m\u001b[92m+ PkgVersion v0.1.1\u001b[39m\n",
      " \u001b[90m [995b91a9] \u001b[39m\u001b[92m+ PlotUtils v1.2.0\u001b[39m\n",
      " \u001b[90m [647866c9] \u001b[39m\u001b[92m+ PolygonOps v0.1.2\u001b[39m\n",
      " \u001b[90m [21216c6a] \u001b[39m\u001b[92m+ Preferences v1.2.5\u001b[39m\n",
      " \u001b[90m [92933f4c] \u001b[39m\u001b[92m+ ProgressMeter v1.7.2\u001b[39m\n",
      " \u001b[90m [4b34888f] \u001b[39m\u001b[92m+ QOI v1.0.0\u001b[39m\n",
      " \u001b[90m [1fd47b50] \u001b[39m\u001b[92m+ QuadGK v2.4.2\u001b[39m\n",
      " \u001b[90m [c84ed2f1] \u001b[39m\u001b[92m+ Ratios v0.4.3\u001b[39m\n",
      " \u001b[90m [05181044] \u001b[39m\u001b[92m+ RelocatableFolders v0.1.3\u001b[39m\n",
      " \u001b[90m [ae029012] \u001b[39m\u001b[92m+ Requires v1.3.0\u001b[39m\n",
      " \u001b[90m [79098fc4] \u001b[39m\u001b[92m+ Rmath v0.7.0\u001b[39m\n",
      " \u001b[90m [fdea26ae] \u001b[39m\u001b[92m+ SIMD v3.4.1\u001b[39m\n",
      " \u001b[90m [7b38b023] \u001b[39m\u001b[92m+ ScanByte v0.3.0\u001b[39m\n",
      " \u001b[90m [6c6a2e73] \u001b[39m\u001b[92m+ Scratch v1.1.0\u001b[39m\n",
      " \u001b[90m [992d4aef] \u001b[39m\u001b[92m+ Showoff v1.0.3\u001b[39m\n",
      " \u001b[90m [73760f76] \u001b[39m\u001b[92m+ SignedDistanceFields v0.4.0\u001b[39m\n",
      " \u001b[90m [45858cf5] \u001b[39m\u001b[92m+ Sixel v0.1.2\u001b[39m\n",
      " \u001b[90m [276daf66] \u001b[39m\u001b[92m+ SpecialFunctions v2.1.4\u001b[39m\n",
      " \u001b[90m [cae243ae] \u001b[39m\u001b[92m+ StackViews v0.1.1\u001b[39m\n",
      " \u001b[90m [aedffcd0] \u001b[39m\u001b[92m+ Static v0.6.0\u001b[39m\n",
      " \u001b[90m [90137ffa] \u001b[39m\u001b[92m+ StaticArrays v1.4.3\u001b[39m\n",
      " \u001b[90m [4c63d2b9] \u001b[39m\u001b[92m+ StatsFuns v0.9.18\u001b[39m\n",
      " \u001b[90m [09ab397b] \u001b[39m\u001b[92m+ StructArrays v0.6.5\u001b[39m\n",
      " \u001b[90m [3783bdb8] \u001b[39m\u001b[92m+ TableTraits v1.0.1\u001b[39m\n",
      " "
     ]
    },
    {
     "name": "stderr",
     "output_type": "stream",
     "text": [
      "\u001b[90m [bd369af6] \u001b[39m\u001b[92m+ Tables v1.7.0\u001b[39m\n",
      " \u001b[90m [62fd8b95] \u001b[39m\u001b[92m+ TensorCore v0.1.1\u001b[39m\n",
      " \u001b[90m [731e570b] \u001b[39m\u001b[92m+ TiffImages v0.5.4\u001b[39m\n",
      " \u001b[90m [3bb67fe8] \u001b[39m\u001b[92m+ TranscodingStreams v0.9.6\u001b[39m\n",
      " \u001b[90m [1cfade01] \u001b[39m\u001b[92m+ UnicodeFun v0.4.1\u001b[39m\n",
      " \u001b[90m [efce3f68] \u001b[39m\u001b[92m+ WoodburyMatrices v0.5.5\u001b[39m\n",
      " \u001b[90m [6e34b625] \u001b[39m\u001b[92m+ Bzip2_jll v1.0.8+0\u001b[39m\n",
      " \u001b[90m [83423d85] \u001b[39m\u001b[92m+ Cairo_jll v1.16.1+1\u001b[39m\n",
      " \u001b[90m [5ae413db] \u001b[39m\u001b[92m+ EarCut_jll v2.2.3+0\u001b[39m\n",
      " \u001b[90m [2e619515] \u001b[39m\u001b[92m+ Expat_jll v2.4.8+0\u001b[39m\n",
      " \u001b[90m [b22a6f82] \u001b[39m\u001b[92m+ FFMPEG_jll v4.4.0+0\u001b[39m\n",
      " \u001b[90m [f5851436] \u001b[39m\u001b[92m+ FFTW_jll v3.3.10+0\u001b[39m\n",
      " \u001b[90m [a3f928ae] \u001b[39m\u001b[92m+ Fontconfig_jll v2.13.93+0\u001b[39m\n",
      " \u001b[90m [d7e528f0] \u001b[39m\u001b[92m+ FreeType2_jll v2.10.4+0\u001b[39m\n",
      " \u001b[90m [559328eb] \u001b[39m\u001b[92m+ FriBidi_jll v1.0.10+0\u001b[39m\n",
      " \u001b[90m [78b55507] \u001b[39m\u001b[92m+ Gettext_jll v0.21.0+0\u001b[39m\n",
      " \u001b[90m [7746bdde] \u001b[39m\u001b[92m+ Glib_jll v2.68.3+2\u001b[39m\n",
      " \u001b[90m [3b182d85] \u001b[39m\u001b[92m+ Graphite2_jll v1.3.14+0\u001b[39m\n",
      " \u001b[90m [2e76f6c2] \u001b[39m\u001b[92m+ HarfBuzz_jll v2.8.1+1\u001b[39m\n",
      " \u001b[90m [905a6f67] \u001b[39m\u001b[92m+ Imath_jll v3.1.2+0\u001b[39m\n",
      " \u001b[90m [1d5cc7b8] \u001b[39m\u001b[92m+ IntelOpenMP_jll v2018.0.3+2\u001b[39m\n",
      " \u001b[90m [aacddb02] \u001b[39m\u001b[92m+ JpegTurbo_jll v2.1.2+0\u001b[39m\n",
      " \u001b[90m [c1c5ebd0] \u001b[39m\u001b[92m+ LAME_jll v3.100.1+0\u001b[39m\n",
      " \u001b[90m [dd4b983a] \u001b[39m\u001b[92m+ LZO_jll v2.10.1+0\u001b[39m\n",
      " \u001b[90m [e9f186c6] \u001b[39m\u001b[92m+ Libffi_jll v3.2.2+1\u001b[39m\n",
      " \u001b[90m [d4300ac3] \u001b[39m\u001b[92m+ Libgcrypt_jll v1.8.7+0\u001b[39m\n",
      " \u001b[90m [7add5ba3] \u001b[39m\u001b[92m+ Libgpg_error_jll v1.42.0+0\u001b[39m\n",
      " \u001b[90m [94ce4f54] \u001b[39m\u001b[92m+ Libiconv_jll v1.16.1+1\u001b[39m\n",
      " \u001b[90m [4b2f31a3] \u001b[39m\u001b[92m+ Libmount_jll v2.35.0+0\u001b[39m\n",
      " \u001b[90m [38a345b3] \u001b[39m\u001b[92m+ Libuuid_jll v2.36.0+0\u001b[39m\n",
      " \u001b[90m [856f044c] \u001b[39m\u001b[92m+ MKL_jll v2022.0.0+0\u001b[39m\n",
      " \u001b[90m [e7412a2a] \u001b[39m\u001b[92m+ Ogg_jll v1.3.5+1\u001b[39m\n",
      " \u001b[90m [18a262bb] \u001b[39m\u001b[92m+ OpenEXR_jll v3.1.1+0\u001b[39m\n",
      " \u001b[90m [458c3c95] \u001b[39m\u001b[92m+ OpenSSL_jll v1.1.14+0\u001b[39m\n",
      " \u001b[90m [efe28fd5] \u001b[39m\u001b[92m+ OpenSpecFun_jll v0.5.5+0\u001b[39m\n",
      " \u001b[90m [91d4177d] \u001b[39m\u001b[92m+ Opus_jll v1.3.2+0\u001b[39m\n",
      " \u001b[90m [2f80f16e] \u001b[39m\u001b[92m+ PCRE_jll v8.44.0+0\u001b[39m\n",
      " \u001b[90m [36c8627f] \u001b[39m\u001b[92m+ Pango_jll v1.50.3+0\u001b[39m\n",
      " \u001b[90m [30392449] \u001b[39m\u001b[92m+ Pixman_jll v0.40.1+0\u001b[39m\n",
      " \u001b[90m [f50d1b31] \u001b[39m\u001b[92m+ Rmath_jll v0.3.0+0\u001b[39m\n",
      " \u001b[90m [02c8fc9c] \u001b[39m\u001b[92m+ XML2_jll v2.9.12+0\u001b[39m\n",
      " \u001b[90m [aed1982a] \u001b[39m\u001b[92m+ XSLT_jll v1.1.34+0\u001b[39m\n",
      " \u001b[90m [4f6342f7] \u001b[39m\u001b[92m+ Xorg_libX11_jll v1.6.9+4\u001b[39m\n",
      " \u001b[90m [0c0b7dd1] \u001b[39m\u001b[92m+ Xorg_libXau_jll v1.0.9+4\u001b[39m\n",
      " \u001b[90m [a3789734] \u001b[39m\u001b[92m+ Xorg_libXdmcp_jll v1.1.3+4\u001b[39m\n",
      " \u001b[90m [1082639a] \u001b[39m\u001b[92m+ Xorg_libXext_jll v1.3.4+4\u001b[39m\n",
      " \u001b[90m [ea2f1a96] \u001b[39m\u001b[92m+ Xorg_libXrender_jll v0.9.10+4\u001b[39m\n",
      " \u001b[90m [14d82f49] \u001b[39m\u001b[92m+ Xorg_libpthread_stubs_jll v0.1.0+3\u001b[39m\n",
      " \u001b[90m [c7cfdc94] \u001b[39m\u001b[92m+ Xorg_libxcb_jll v1.13.0+3\u001b[39m\n",
      " \u001b[90m [c5fb5394] \u001b[39m\u001b[92m+ Xorg_xtrans_jll v1.4.0+3\u001b[39m\n",
      " \u001b[90m [9a68df92] \u001b[39m\u001b[92m+ isoband_jll v0.2.3+0\u001b[39m\n",
      " \u001b[90m [0ac62f75] \u001b[39m\u001b[92m+ libass_jll v0.15.1+0\u001b[39m\n",
      " \u001b[90m [f638f0a6] \u001b[39m\u001b[92m+ libfdk_aac_jll v2.0.2+0\u001b[39m\n",
      " \u001b[90m [b53b4c65] \u001b[39m\u001b[92m+ libpng_jll v1.6.38+0\u001b[39m\n",
      " \u001b[90m [075b6546] \u001b[39m\u001b[92m+ libsixel_jll v1.8.6+1\u001b[39m\n",
      " \u001b[90m [f27f6e37] \u001b[39m\u001b[92m+ libvorbis_jll v1.3.7+1\u001b[39m\n",
      " \u001b[90m [1270edf5] \u001b[39m\u001b[92m+ x264_jll v2021.5.5+0\u001b[39m\n",
      " \u001b[90m [dfaa095f] \u001b[39m\u001b[92m+ x265_jll v3.5.0+0\u001b[39m\n",
      " \u001b[90m [4af54fe1] \u001b[39m\u001b[92m+ LazyArtifacts\u001b[39m\n",
      " \u001b[90m [4607b0f0] \u001b[39m\u001b[92m+ SuiteSparse\u001b[39m\n",
      " \u001b[90m [05823500] \u001b[39m\u001b[92m+ OpenLibm_jll\u001b[39m\n",
      "\u001b[32m\u001b[1m   Resolving\u001b[22m\u001b[39m package versions...\n",
      "\u001b[32m\u001b[1m    Updating\u001b[22m\u001b[39m `C:\\Users\\Administrator.WIN-2EPKD7D6018\\AppData\\Local\\Temp\\jl_8804Av\\Project.toml`\n",
      " \u001b[90m [a09fc81d] \u001b[39m\u001b[92m+ ImageCore v0.9.3\u001b[39m\n",
      "\u001b[32m\u001b[1m  No Changes\u001b[22m\u001b[39m to `C:\\Users\\Administrator.WIN-2EPKD7D6018\\AppData\\Local\\Temp\\jl_8804Av\\Manifest.toml`\n",
      "\u001b[32m\u001b[1m   Resolving\u001b[22m\u001b[39m package versions...\n",
      "\u001b[32m\u001b[1m    Updating\u001b[22m\u001b[39m `C:\\Users\\Administrator.WIN-2EPKD7D6018\\AppData\\Local\\Temp\\jl_8804Av\\Project.toml`\n",
      " \u001b[90m [2e981812] \u001b[39m\u001b[92m+ DataLoaders v0.1.3\u001b[39m\n",
      " \u001b[90m [9920b226] \u001b[39m\u001b[95m↓ MLDataPattern v0.5.5 ⇒ v0.5.4\u001b[39m\n",
      " \u001b[90m [a3a9e032] \u001b[39m\u001b[93m↑ NIfTI v0.4.0 ⇒ v0.5.7\u001b[39m\n",
      "\u001b[32m\u001b[1m    Updating\u001b[22m\u001b[39m `C:\\Users\\Administrator.WIN-2EPKD7D6018\\AppData\\Local\\Temp\\jl_8804Av\\Manifest.toml`\n",
      " \u001b[90m [944b1d66] \u001b[39m\u001b[92m+ CodecZlib v0.7.0\u001b[39m\n",
      " \u001b[90m [2e981812] \u001b[39m\u001b[92m+ DataLoaders v0.1.3\u001b[39m\n",
      " \u001b[90m [92fee26a] \u001b[39m\u001b[91m- GZip v0.5.1\u001b[39m\n",
      " \u001b[90m [7f8f8fb0] \u001b[39m\u001b[95m↓ LearnBase v0.4.1 ⇒ v0.3.0\u001b[39m\n",
      " \u001b[90m [9920b226] \u001b[39m\u001b[95m↓ MLDataPattern v0.5.5 ⇒ v0.5.4\u001b[39m\n",
      " \u001b[90m [dbb5928d] \u001b[39m\u001b[95m↓ MappedArrays v0.4.1 ⇒ v0.3.0\u001b[39m\n",
      " \u001b[90m [a3a9e032] \u001b[39m\u001b[93m↑ NIfTI v0.4.0 ⇒ v0.5.7\u001b[39m\n",
      " \u001b[90m [d96e819e] \u001b[39m\u001b[92m+ Parameters v0.12.3\u001b[39m\n",
      " \u001b[90m [3cdcf5f2] \u001b[39m\u001b[92m+ RecipesBase v1.2.1\u001b[39m\n",
      " \u001b[90m [b189fb0b] \u001b[39m\u001b[92m+ ThreadPools v1.2.1\u001b[39m\n",
      " \u001b[90m [3a884ed6] \u001b[39m\u001b[92m+ UnPack v1.0.2\u001b[39m\n",
      "\u001b[32m\u001b[1m   Resolving\u001b[22m\u001b[39m package versions...\n",
      "\u001b[32m\u001b[1m    Updating\u001b[22m\u001b[39m `C:\\Users\\Administrator.WIN-2EPKD7D6018\\AppData\\Local\\Temp\\jl_8804Av\\Project.toml`\n",
      " \u001b[90m [052768ef] \u001b[39m\u001b[92m+ CUDA v3.9.0\u001b[39m\n",
      "\u001b[32m\u001b[1m    Updating\u001b[22m\u001b[39m `C:\\Users\\Administrator.WIN-2EPKD7D6018\\AppData\\Local\\Temp\\jl_8804Av\\Manifest.toml`\n",
      " \u001b[90m [ab4f0b2a] \u001b[39m\u001b[92m+ BFloat16s v0.2.0\u001b[39m\n",
      " \u001b[90m [052768ef] \u001b[39m\u001b[92m+ CUDA v3.9.0\u001b[39m\n",
      " \u001b[90m [e2ba6199] \u001b[39m\u001b[92m+ ExprTools v0.1.8\u001b[39m\n",
      " \u001b[90m [0c68f7d7] \u001b[39m\u001b[92m+ GPUArrays v8.3.2\u001b[39m\n",
      " \u001b[90m [61eb1bfa] \u001b[39m\u001b[92m+ GPUCompiler v0.14.1\u001b[39m\n",
      " \u001b[90m [929cbde3] \u001b[39m\u001b[92m+ LLVM v4.9.1\u001b[39m\n",
      " \u001b[90m [74087812] \u001b[39m\u001b[92m+ Random123 v1.5.0\u001b[39m\n",
      " \u001b[90m [e6cf234a] \u001b[39m\u001b[92m+ RandomNumbers v1.5.3\u001b[39m\n",
      " \u001b[90m [a759f4b9] \u001b[39m\u001b[92m+ TimerOutputs v0.5.16\u001b[39m\n",
      " \u001b[90m [dad2f222] \u001b[39m\u001b[92m+ LLVMExtra_jll v0.0.14+2\u001b[39m\n",
      "\u001b[32m\u001b[1m   Resolving\u001b[22m\u001b[39m package versions...\n",
      "\u001b[32m\u001b[1m    Updating\u001b[22m\u001b[39m `C:\\Users\\Administrator.WIN-2EPKD7D6018\\AppData\\Local\\Temp\\jl_8804Av\\Project.toml`\n",
      " \u001b[90m [5d0beca9] \u001b[39m\u001b[92m+ FastAI v0.4.0\u001b[39m\n",
      "\u001b[32m\u001b[1m    Updating\u001b[22m\u001b[39m `C:\\Users\\Administrator.WIN-2EPKD7D6018\\AppData\\Local\\Temp\\jl_8804Av\\Manifest.toml`\n",
      " \u001b[90m [ec485272] \u001b[39m\u001b[92m+ ArnoldiMethod v0.2.0\u001b[39m\n",
      " \u001b[90m [fbb218c0] \u001b[39m\u001b[92m+ BSON v0.3.5\u001b[39m\n",
      " \u001b[90m [b99e7846] \u001b[39m\u001b[92m+ BinaryProvider v0.5.10\u001b[39m\n",
      " \u001b[90m [336ed68f] \u001b[39m\u001b[92m+ CSV v0.10.4\u001b[39m\n",
      " \u001b[90m [49dc2e85] \u001b[39m\u001b[92m+ Calculus v0.5.1\u001b[39m\n",
      " \u001b[90m [082447d4] \u001b[39m\u001b[92m+ ChainRules v1.28.1\u001b[39m\n",
      " \u001b[90m [60508b50] \u001b[39m\u001b[92m+ ColorBlendModes v0.2.4\u001b[39m\n",
      " \u001b[90m [bbf7d656] \u001b[39m\u001b[92m+ CommonSubexpressions v0.3.0\u001b[39m\n",
      " \u001b[90m [187b0558] \u001b[39m\u001b[92m+ ConstructionBase v1.3.0\u001b[39m\n",
      " \u001b[90m [150eb455] \u001b[39m\u001b[92m+ CoordinateTransformations v0.6.2\u001b[39m\n",
      " \u001b[90m [a8cc5b0e] \u001b[39m\u001b[92m+ Crayons v4.1.1\u001b[39m\n",
      " \u001b[90m [88a5189c] \u001b[39m\u001b[92m+ DataAugmentation v0.2.7\u001b[39m\n",
      " \u001b[90m [124859b0] \u001b[39m\u001b[92m+ DataDeps v0.7.7\u001b[39m\n",
      " \u001b[90m [a93c6f00] \u001b[39m\u001b[92m+ DataFrames v1.3.3\u001b[39m\n",
      " \u001b[90m [163ba53b] \u001b[39m\u001b[92m+ DiffResults v1.0.3\u001b[39m\n",
      " \u001b[90m [b552c78f] \u001b[39m\u001b[92m+ DiffRules v1.10.0\u001b[39m\n",
      " \u001b[90m [b4f34e82] \u001b[39m\u001b[92m+ Distances v0.10.7\u001b[39m\n",
      " \u001b[90m [fa6b7ba4] \u001b[39m\u001b[92m+ DualNumbers v0.6.8\u001b[39m\n",
      " \u001b[90m [792122b4] \u001b[39m\u001b[92m+ EarlyStopping v0.3.0\u001b[39m\n",
      " \u001b[90m [5d0beca9] \u001b[39m\u001b[92m+ FastAI v0.4.0\u001b[39m\n",
      " \u001b[90m [48062228] \u001b[39m\u001b[92m+ FilePathsBase v0.9.18\u001b[39m\n",
      " \u001b[90m [587475ba] \u001b[39m\u001b[92m+ Flux v0.12.10\u001b[39m\n",
      " \u001b[90m [7bf95e4d] \u001b[39m\u001b[92m+ FluxTraining v0.2.4\u001b[39m\n",
      " \u001b[90m [f6369f11] \u001b[39m\u001b[92m+ ForwardDiff v0.10.25\u001b[39m\n",
      " \u001b[90m [d9f16b24] \u001b[39m\u001b[92m+ Functors v0.2.8\u001b[39m\n",
      " \u001b[90m [86223c79] \u001b[39m\u001b[92m+ Graphs v1.6.0\u001b[39m\n",
      " \u001b[90m [cd3eb016] \u001b[39m\u001b[92m+ HTTP v0.9.17\u001b[39m\n",
      " \u001b[90m [7869d1d1] \u001b[39m\u001b[92m+ IRTools v0.4.5\u001b[39m\n",
      " \u001b[90m [bbac6d45] \u001b[39m\u001b[92m+ IdentityRanges v0.3.1\u001b[39m\n",
      " \u001b[90m [c817782e] \u001b[39m\u001b[92m+ ImageBase v0.1.5\u001b[39m\n",
      " \u001b[90m [4381153b] \u001b[39m\u001b[92m+ ImageDraw v0.2.5\u001b[39m\n",
      " \u001b[90m [d8c32880] \u001b[39m\u001b[92m+ ImageInTerminal v0.4.8\u001b[39m\n",
      " \u001b[90m [02fcd773] \u001b[39m\u001b[92m+ ImageTransformations v0.8.13\u001b[39m\n",
      " \u001b[90m [83e8ac13] \u001b[39m\u001b[92m+ IniFile v0.5.1\u001b[39m\n",
      " \u001b[90m [842dd82b] \u001b[39m\u001b[92m+ InlineStrings v1.1.2\u001b[39m\n",
      " \u001b[90m [bd334432] \u001b[39m\u001b[92m+ InlineTest v0.2.0\u001b[39m\n",
      " \u001b[90m [41ab1584] \u001b[39m\u001b[92m+ InvertedIndices v1.1.0\u001b[39m\n",
      " \u001b[90m [033835bb] \u001b[39m\u001b[92m+ JLD2 v0.4.22\u001b[39m\n",
      " \u001b[90m [e5e0dc1b] \u001b[39m\u001b[92m+ Juno v0.8.4\u001b[39m\n",
      " \u001b[90m [1914dd2f] \u001b[39m\u001b[92m+ MacroTools v0.5.9\u001b[39m\n",
      " \u001b[90m [299715c1] \u001b[39m\u001b[92m+ MarchingCubes v0.1.2\u001b[39m\n",
      " \u001b[90m [739be429] \u001b[39m\u001b[92m+ MbedTLS v1.0.3\u001b[39m\n",
      " \u001b[90m [e89f7d12] \u001b[39m\u001b[92m+ Media v0.5.0\u001b[39m\n",
      " \u001b[90m [872c559c] \u001b[39m\u001b[92m+ NNlib v0.8.4\u001b[39m\n",
      " \u001b[90m [a00861dc] \u001b[39m\u001b[92m+ NNlibCUDA v0.2.2\u001b[39m\n",
      " \u001b[90m [a15396b6] \u001b[39m\u001b[92m+ OnlineStats v1.5.13\u001b[39m\n",
      " \u001b[90m [925886fa] \u001b[39m\u001b[92m+ OnlineStatsBase v1.4.9\u001b[39m\n",
      " \u001b[90m [2dfb63ee] \u001b[39m\u001b[92m+ PooledArrays v1.4.1\u001b[39m\n",
      " \u001b[90m [08abe8d2] \u001b[39m\u001b[92m+ PrettyTables v1.3.1\u001b[39m\n",
      " \u001b[90m [3349acd9] \u001b[39m\u001b[92m+ ProtoBuf v0.11.5\u001b[39m\n",
      " \u001b[90m [94ee1d12] \u001b[39m\u001b[92m+ Quaternions v0.5.6\u001b[39m\n",
      " \u001b[90m [c1ae055f] \u001b[39m\u001b[92m+ RealDot v0.1.0\u001b[39m\n",
      " \u001b[90m [6038ab10] \u001b[39m\u001b[92m+ Rotations v1.3.0\u001b[39m\n",
      " \u001b[90m [91c51154] \u001b[39m\u001b[92m+ SentinelArrays v1.3.12\u001b[39m\n",
      " \u001b[90m [efcf1570] \u001b[39m\u001b[92m+ Setfield v0.8.2\u001b[39m\n",
      " \u001b[90m [605ecd9f] \u001b[39m\u001b[92m+ ShowCases v0.1.0\u001b[39m\n",
      " \u001b[90m [699a6c99] \u001b[39m\u001b[92m+ SimpleTraits v0.9.4\u001b[39m\n",
      " \u001b[90m [899adc3e] \u001b[39m\u001b[92m+ TensorBoardLogger v0.1.19\u001b[39m\n",
      " \u001b[90m [5c2747f8] \u001b[39m\u001b[92m+ URIs v1.3.0\u001b[39m\n",
      " \u001b[90m [b8865327] \u001b[39m\u001b[92m+ UnicodePlots v2.10.3\u001b[39m\n",
      " \u001b[90m [1986cc42] \u001b[39m\u001b[92m+ Unitful v1.11.0\u001b[39m\n",
      " \u001b[90m [98cad3c8] \u001b[39m\u001b[92m+ ValueHistories v0.5.4\u001b[39m\n",
      " \u001b[90m [ea10d353] \u001b[39m\u001b[92m+ WeakRefStrings v1.4.2\u001b[39m\n",
      " \u001b[90m [a5390f91] \u001b[39m\u001b[92m+ ZipFile v0.9.4\u001b[39m\n",
      " \u001b[90m [e88e6eb3] \u001b[39m\u001b[92m+ Zygote v0.6.38\u001b[39m\n",
      " \u001b[90m [700de1a5] \u001b[39m\u001b[92m+ ZygoteRules v0.2.2\u001b[39m\n",
      " \u001b[90m [c7845625] \u001b[39m\u001b[92m+ protoc_jll v3.19.4+0\u001b[39m\n",
      " \u001b[90m [8bf52ea8] \u001b[39m\u001b[92m+ CRC32c\u001b[39m\n",
      " \u001b[90m [9fa8497b] \u001b[39m\u001b[92m+ Future\u001b[39m\n",
      " \u001b[90m [9abbd945] \u001b[39m\u001b[92m+ Profile\u001b[39m\n",
      "\u001b[32m\u001b[1m   Resolving\u001b[22m\u001b[39m package versions...\n",
      "\u001b[32m\u001b[1m    Updating\u001b[22m\u001b[39m `C:\\Users\\Administrator.WIN-2EPKD7D6018\\AppData\\Local\\Temp\\jl_8804Av\\Project.toml`\n",
      " \u001b[90m [a09fc81d] \u001b[39m\u001b[95m↓ ImageCore v0.9.3 ⇒ v0.8.22\u001b[39m\n",
      " \u001b[90m [916415d5] \u001b[39m\u001b[92m+ Images v0.24.1\u001b[39m\n",
      "\u001b[32m\u001b[1m    Updating\u001b[22m\u001b[39m `C:\\Users\\Administrator.WIN-2EPKD7D6018\\AppData\\Local\\Temp\\jl_8804Av\\Manifest.toml`\n",
      " \u001b[90m [39de3d68] \u001b[39m\u001b[92m+ AxisArrays v0.4.5\u001b[39m\n"
     ]
    },
    {
     "name": "stderr",
     "output_type": "stream",
     "text": [
      " \u001b[90m [aafaddc9] \u001b[39m\u001b[92m+ CatIndices v0.2.2\u001b[39m\n",
      " \u001b[90m [ed09eef8] \u001b[39m\u001b[92m+ ComputationalResources v0.3.2\u001b[39m\n",
      " \u001b[90m [dc8bdbbb] \u001b[39m\u001b[92m+ CustomUnitRanges v1.0.2\u001b[39m\n",
      " \u001b[90m [4f61f5a4] \u001b[39m\u001b[92m+ FFTViews v0.3.2\u001b[39m\n",
      " \u001b[90m [2803e5a7] \u001b[39m\u001b[92m+ ImageAxes v0.6.9\u001b[39m\n",
      " \u001b[90m [c817782e] \u001b[39m\u001b[91m- ImageBase v0.1.5\u001b[39m\n",
      " \u001b[90m [f332f351] \u001b[39m\u001b[92m+ ImageContrastAdjustment v0.3.7\u001b[39m\n",
      " \u001b[90m [a09fc81d] \u001b[39m\u001b[95m↓ ImageCore v0.9.3 ⇒ v0.8.22\u001b[39m\n",
      " \u001b[90m [51556ac3] \u001b[39m\u001b[92m+ ImageDistances v0.2.13\u001b[39m\n",
      " \u001b[90m [6a3955dd] \u001b[39m\u001b[92m+ ImageFiltering v0.6.21\u001b[39m\n",
      " \u001b[90m [82e4d734] \u001b[39m\u001b[95m↓ ImageIO v0.6.1 ⇒ v0.5.9\u001b[39m\n",
      " \u001b[90m [d8c32880] \u001b[39m\u001b[95m↓ ImageInTerminal v0.4.8 ⇒ v0.4.6\u001b[39m\n",
      " \u001b[90m [6218d12a] \u001b[39m\u001b[92m+ ImageMagick v1.2.1\u001b[39m\n",
      " \u001b[90m [bc367c6b] \u001b[39m\u001b[92m+ ImageMetadata v0.9.5\u001b[39m\n",
      " \u001b[90m [787d08f9] \u001b[39m\u001b[92m+ ImageMorphology v0.2.11\u001b[39m\n",
      " \u001b[90m [2996bd0c] \u001b[39m\u001b[92m+ ImageQualityIndexes v0.2.2\u001b[39m\n",
      " \u001b[90m [4e3cecfd] \u001b[39m\u001b[92m+ ImageShow v0.3.1\u001b[39m\n",
      " \u001b[90m [916415d5] \u001b[39m\u001b[92m+ Images v0.24.1\u001b[39m\n",
      " \u001b[90m [9b13fd28] \u001b[39m\u001b[95m↓ IndirectArrays v1.0.0 ⇒ v0.5.1\u001b[39m\n",
      " \u001b[90m [b835a17e] \u001b[39m\u001b[91m- JpegTurbo v0.1.1\u001b[39m\n",
      " \u001b[90m [f09324ee] \u001b[39m\u001b[95m↓ Netpbm v1.0.2 ⇒ v1.0.1\u001b[39m\n",
      " \u001b[90m [4b34888f] \u001b[39m\u001b[91m- QOI v1.0.0\u001b[39m\n",
      " \u001b[90m [b3c3ace0] \u001b[39m\u001b[92m+ RangeArrays v0.3.2\u001b[39m\n",
      " \u001b[90m [45858cf5] \u001b[39m\u001b[91m- Sixel v0.1.2\u001b[39m\n",
      " \u001b[90m [06e1c1a7] \u001b[39m\u001b[92m+ TiledIteration v0.3.1\u001b[39m\n",
      " \u001b[90m [61579ee1] \u001b[39m\u001b[92m+ Ghostscript_jll v9.55.0+0\u001b[39m\n",
      " \u001b[90m [c73af94c] \u001b[39m\u001b[92m+ ImageMagick_jll v6.9.12+2\u001b[39m\n",
      " \u001b[90m [88015f11] \u001b[39m\u001b[92m+ LERC_jll v3.0.0+1\u001b[39m\n",
      " \u001b[90m [89763e89] \u001b[39m\u001b[92m+ Libtiff_jll v4.3.0+1\u001b[39m\n",
      " \u001b[90m [3161d3a3] \u001b[39m\u001b[92m+ Zstd_jll v1.5.2+0\u001b[39m\n",
      " \u001b[90m [075b6546] \u001b[39m\u001b[91m- libsixel_jll v1.8.6+1\u001b[39m\n",
      "\u001b[32m\u001b[1m   Resolving\u001b[22m\u001b[39m package versions...\n",
      "\u001b[32m\u001b[1m    Updating\u001b[22m\u001b[39m `C:\\Users\\Administrator.WIN-2EPKD7D6018\\AppData\\Local\\Temp\\jl_8804Av\\Project.toml`\n",
      " \u001b[90m [48062228] \u001b[39m\u001b[92m+ FilePathsBase v0.9.18\u001b[39m\n",
      "\u001b[32m\u001b[1m  No Changes\u001b[22m\u001b[39m to `C:\\Users\\Administrator.WIN-2EPKD7D6018\\AppData\\Local\\Temp\\jl_8804Av\\Manifest.toml`\n",
      "\u001b[32m\u001b[1m   Resolving\u001b[22m\u001b[39m package versions...\n",
      "\u001b[32m\u001b[1m    Updating\u001b[22m\u001b[39m `C:\\Users\\Administrator.WIN-2EPKD7D6018\\AppData\\Local\\Temp\\jl_8804Av\\Project.toml`\n",
      " \u001b[90m [53c48c17] \u001b[39m\u001b[92m+ FixedPointNumbers v0.8.4\u001b[39m\n",
      "\u001b[32m\u001b[1m  No Changes\u001b[22m\u001b[39m to `C:\\Users\\Administrator.WIN-2EPKD7D6018\\AppData\\Local\\Temp\\jl_8804Av\\Manifest.toml`\n",
      "\u001b[32m\u001b[1m   Resolving\u001b[22m\u001b[39m package versions...\n",
      "\u001b[32m\u001b[1m    Updating\u001b[22m\u001b[39m `C:\\Users\\Administrator.WIN-2EPKD7D6018\\AppData\\Local\\Temp\\jl_8804Av\\Project.toml`\n",
      " \u001b[90m [5ae59095] \u001b[39m\u001b[92m+ Colors v0.12.8\u001b[39m\n",
      "\u001b[32m\u001b[1m  No Changes\u001b[22m\u001b[39m to `C:\\Users\\Administrator.WIN-2EPKD7D6018\\AppData\\Local\\Temp\\jl_8804Av\\Manifest.toml`\n",
      "\u001b[32m\u001b[1m   Resolving\u001b[22m\u001b[39m package versions...\n",
      "\u001b[32m\u001b[1m    Updating\u001b[22m\u001b[39m `C:\\Users\\Administrator.WIN-2EPKD7D6018\\AppData\\Local\\Temp\\jl_8804Av\\Project.toml`\n",
      " \u001b[90m [49802e3a] \u001b[39m\u001b[92m+ ProgressBars v1.4.1\u001b[39m\n",
      "\u001b[32m\u001b[1m    Updating\u001b[22m\u001b[39m `C:\\Users\\Administrator.WIN-2EPKD7D6018\\AppData\\Local\\Temp\\jl_8804Av\\Manifest.toml`\n",
      " \u001b[90m [49802e3a] \u001b[39m\u001b[92m+ ProgressBars v1.4.1\u001b[39m\n",
      "\u001b[32m\u001b[1m   Resolving\u001b[22m\u001b[39m package versions...\n",
      "\u001b[32m\u001b[1m    Updating\u001b[22m\u001b[39m `C:\\Users\\Administrator.WIN-2EPKD7D6018\\AppData\\Local\\Temp\\jl_8804Av\\Project.toml`\n",
      " \u001b[90m [37e2e46d] \u001b[39m\u001b[92m+ LinearAlgebra\u001b[39m\n",
      "\u001b[32m\u001b[1m  No Changes\u001b[22m\u001b[39m to `C:\\Users\\Administrator.WIN-2EPKD7D6018\\AppData\\Local\\Temp\\jl_8804Av\\Manifest.toml`\n",
      "\u001b[32m\u001b[1m   Resolving\u001b[22m\u001b[39m package versions...\n",
      "\u001b[32m\u001b[1m    Updating\u001b[22m\u001b[39m `C:\\Users\\Administrator.WIN-2EPKD7D6018\\AppData\\Local\\Temp\\jl_8804Av\\Project.toml`\n",
      " \u001b[90m [90137ffa] \u001b[39m\u001b[92m+ StaticArrays v1.4.3\u001b[39m\n",
      "\u001b[32m\u001b[1m  No Changes\u001b[22m\u001b[39m to `C:\\Users\\Administrator.WIN-2EPKD7D6018\\AppData\\Local\\Temp\\jl_8804Av\\Manifest.toml`\n"
     ]
    }
   ],
   "source": [
    "using Pkg\n",
    "\n",
    "Pkg.activate(mktempdir())\n",
    "Pkg.Registry.update()\n",
    "Pkg.add(\"PlutoUI\")\n",
    "Pkg.add(\"Tar\")\n",
    "Pkg.add(\"MLDataPattern\")\n",
    "Pkg.add(\"Glob\")\n",
    "Pkg.add(\"NIfTI\")\n",
    "Pkg.add(\"CairoMakie\")\n",
    "Pkg.add(\"ImageCore\")\n",
    "Pkg.add(\"DataLoaders\")\n",
    "Pkg.add(\"CUDA\")\n",
    "Pkg.add(\"FastAI\")\n",
    "Pkg.add(\"Images\")\n",
    "Pkg.add(\"FilePathsBase\")\n",
    "Pkg.add(\"FixedPointNumbers\")\n",
    "Pkg.add(\"Colors\")\n",
    "Pkg.add(\"ProgressBars\")\n",
    "Pkg.add(\"LinearAlgebra\")\n",
    "Pkg.add(\"StaticArrays\")\n",
    "        "
   ]
  },
  {
   "cell_type": "code",
   "execution_count": 3,
   "metadata": {},
   "outputs": [
    {
     "name": "stderr",
     "output_type": "stream",
     "text": [
      "WARNING: using Makie.Label in module FastAI conflicts with an existing identifier.\n"
     ]
    }
   ],
   "source": [
    "using PlutoUI\n",
    "using Colors: Gray\n",
    "using FixedPointNumbers: N0f8\n",
    "using Tar\n",
    "using MLDataPattern\n",
    "using Glob\n",
    "using NIfTI\n",
    "using CairoMakie\n",
    "using ImageCore\n",
    "using DataLoaders\n",
    "using CUDA\n",
    "using FastAI\n",
    "using FastAI: DataAugmentation\n",
    "using Images\n",
    "using FilePathsBase\n",
    "using ProgressBars\n",
    "using LinearAlgebra\n",
    "using StaticArrays"
   ]
  },
  {
   "cell_type": "code",
   "execution_count": 4,
   "metadata": {},
   "outputs": [
    {
     "data": {
      "text/html": [
       "<script>const getParentCell = el => el.closest(\"pluto-cell\")\n",
       "\n",
       "const getHeaders = () => {\n",
       "\tconst depth = Math.max(1, Math.min(6, 3)) // should be in range 1:6\n",
       "\tconst range = Array.from({length: depth}, (x, i) => i+1) // [1, ..., depth]\n",
       "\t\n",
       "\tconst selector = range.map(i => `pluto-notebook pluto-cell h${i}`).join(\",\")\n",
       "\treturn Array.from(document.querySelectorAll(selector))\n",
       "}\n",
       "\n",
       "const indent = true\n",
       "const aside = true\n",
       "\n",
       "const clickHandler = (event) => {\n",
       "\tconst path = (event.path || event.composedPath())\n",
       "\tconst toc = path.find(elem => elem?.classList?.contains?.(\"toc-toggle\"))\n",
       "\tif (toc) {\n",
       "\t\tevent.stopImmediatePropagation()\n",
       "\t\ttoc.closest(\".plutoui-toc\").classList.toggle(\"hide\")\n",
       "\t}\n",
       "}\n",
       "\n",
       "document.addEventListener(\"click\", clickHandler)\n",
       "\n",
       "\n",
       "const render = (el) => html`${el.map(h => {\n",
       "\tconst parent_cell = getParentCell(h)\n",
       "\n",
       "\tconst a = html`<a \n",
       "\t\tclass=\"${h.nodeName}\" \n",
       "\t\thref=\"#${parent_cell.id}\"\n",
       "\t>${h.innerText}</a>`\n",
       "\t/* a.onmouseover=()=>{\n",
       "\t\tparent_cell.firstElementChild.classList.add(\n",
       "\t\t\t'highlight-pluto-cell-shoulder'\n",
       "\t\t)\n",
       "\t}\n",
       "\ta.onmouseout=() => {\n",
       "\t\tparent_cell.firstElementChild.classList.remove(\n",
       "\t\t\t'highlight-pluto-cell-shoulder'\n",
       "\t\t)\n",
       "\t} */\n",
       "\ta.onclick=(e) => {\n",
       "\t\te.preventDefault();\n",
       "\t\th.scrollIntoView({\n",
       "\t\t\tbehavior: 'smooth', \n",
       "\t\t\tblock: 'start'\n",
       "\t\t})\n",
       "\t}\n",
       "\n",
       "\treturn html`<div class=\"toc-row\">${a}</div>`\n",
       "})}`\n",
       "\n",
       "const tocNode = html`<nav class=\"plutoui-toc\">\n",
       "\t<header>\n",
       "     <span class=\"toc-toggle open-toc\">📖</span>\n",
       "     <span class=\"toc-toggle closed-toc\">📕</span>\n",
       "\tTable of Contents</header>\n",
       "\t<section></section>\n",
       "</nav>`\n",
       "\n",
       "tocNode.classList.toggle(\"aside\", aside)\n",
       "tocNode.classList.toggle(\"indent\", indent)\n",
       "\n",
       "const updateCallback = () => {\n",
       "\ttocNode.querySelector(\"section\").replaceWith(\n",
       "\t\thtml`<section>${render(getHeaders())}</section>`\n",
       "\t)\n",
       "}\n",
       "updateCallback()\n",
       "setTimeout(updateCallback, 100)\n",
       "setTimeout(updateCallback, 1000)\n",
       "setTimeout(updateCallback, 5000)\n",
       "\n",
       "const notebook = document.querySelector(\"pluto-notebook\")\n",
       "\n",
       "\n",
       "// We have a mutationobserver for each cell:\n",
       "const observers = {\n",
       "\tcurrent: [],\n",
       "}\n",
       "\n",
       "const createCellObservers = () => {\n",
       "\tobservers.current.forEach((o) => o.disconnect())\n",
       "\tobservers.current = Array.from(notebook.querySelectorAll(\"pluto-cell\")).map(el => {\n",
       "\t\tconst o = new MutationObserver(updateCallback)\n",
       "\t\to.observe(el, {attributeFilter: [\"class\"]})\n",
       "\t\treturn o\n",
       "\t})\n",
       "}\n",
       "createCellObservers()\n",
       "\n",
       "// And one for the notebook's child list, which updates our cell observers:\n",
       "const notebookObserver = new MutationObserver(() => {\n",
       "\tupdateCallback()\n",
       "\tcreateCellObservers()\n",
       "})\n",
       "notebookObserver.observe(notebook, {childList: true})\n",
       "\n",
       "// And finally, an observer for the document.body classList, to make sure that the toc also works when if is loaded during notebook initialization\n",
       "const bodyClassObserver = new MutationObserver(updateCallback)\n",
       "bodyClassObserver.observe(document.body, {attributeFilter: [\"class\"]})\n",
       "\n",
       "// Hide/show the ToC when the screen gets small\n",
       "let m = matchMedia(\"(max-width: 1000px)\")\n",
       "let match_listener = () => \n",
       "\ttocNode.classList.toggle(\"hide\", m.matches)\n",
       "match_listener()\n",
       "m.addListener(match_listener)\n",
       "\n",
       "invalidation.then(() => {\n",
       "\tnotebookObserver.disconnect()\n",
       "\tbodyClassObserver.disconnect()\n",
       "\tobservers.current.forEach((o) => o.disconnect())\n",
       "\tdocument.removeEventListener(\"click\", clickHandler)\n",
       "\tm.removeListener(match_listener)\n",
       "})\n",
       "\n",
       "return tocNode\n",
       "</script><style>\n",
       ".plutoui-toc {\n",
       "\t--main-bg-color: unset;\n",
       "\t--pluto-output-color: hsl(0, 0%, 36%);\n",
       "\t--pluto-output-h-color: hsl(0, 0%, 21%);\n",
       "}\n",
       "\n",
       "@media (prefers-color-scheme: dark) {\n",
       "\t.plutoui-toc {\n",
       "\t\t--main-bg-color: hsl(0deg 0% 21%);\n",
       "\t\t--pluto-output-color: hsl(0, 0%, 90%);\n",
       "\t\t--pluto-output-h-color: hsl(0, 0%, 97%);\n",
       "\t}\n",
       "}\n",
       "\n",
       ".plutoui-toc.aside {\n",
       "\tcolor: var(--pluto-output-color);\n",
       "\tposition:fixed;\n",
       "\tright: 1rem;\n",
       "\ttop: 5rem;\n",
       "\twidth: min(80vw, 300px);\n",
       "\tpadding: 10px;\n",
       "\tborder: 3px solid rgba(0, 0, 0, 0.15);\n",
       "\tborder-radius: 10px;\n",
       "\tbox-shadow: 0 0 11px 0px #00000010;\n",
       "\t/* That is, viewport minus top minus Live Docs */\n",
       "\tmax-height: calc(100vh - 5rem - 56px);\n",
       "\toverflow: auto;\n",
       "\tz-index: 40;\n",
       "\tbackground-color: var(--main-bg-color);\n",
       "\ttransition: transform 300ms cubic-bezier(0.18, 0.89, 0.45, 1.12);\n",
       "}\n",
       "\n",
       ".plutoui-toc.aside.hide {\n",
       "\ttransform: translateX(calc(100% - 28px));\n",
       "}\n",
       "\n",
       ".plutoui-toc.aside.hide .open-toc,\n",
       ".plutoui-toc.aside:not(.hide) .closed-toc,\n",
       ".plutoui-toc:not(.aside) .closed-toc {\n",
       "\tdisplay: none;\n",
       "}\n",
       "\n",
       "@media (prefers-reduced-motion) {\n",
       "  .plutoui-toc.aside {\n",
       "    transition-duration: 0s;\n",
       "  }\n",
       "}\n",
       "\n",
       ".toc-toggle {\n",
       "\tcursor: pointer;\n",
       "\tpadding: 1em;\n",
       "\tmargin: -1em;\n",
       "    margin-right: -0.7em;\n",
       "}\n",
       "\n",
       ".plutoui-toc header {\n",
       "\tdisplay: block;\n",
       "\tfont-size: 1.5em;\n",
       "\tmargin-top: -0.1em;\n",
       "\tmargin-bottom: 0.4em;\n",
       "\tpadding-bottom: 0.4em;\n",
       "\tmargin-left: 0;\n",
       "\tmargin-right: 0;\n",
       "\tfont-weight: bold;\n",
       "\tborder-bottom: 2px solid rgba(0, 0, 0, 0.15);\n",
       "}\n",
       "\n",
       ".plutoui-toc section .toc-row {\n",
       "\twhite-space: nowrap;\n",
       "\toverflow: hidden;\n",
       "\ttext-overflow: ellipsis;\n",
       "\tpadding-bottom: 2px;\n",
       "}\n",
       "\n",
       ".highlight-pluto-cell-shoulder {\n",
       "\tbackground: rgba(0, 0, 0, 0.05);\n",
       "\tbackground-clip: padding-box;\n",
       "}\n",
       "\n",
       ".plutoui-toc section a {\n",
       "\ttext-decoration: none;\n",
       "\tfont-weight: normal;\n",
       "\tcolor: var(--pluto-output-color);\n",
       "}\n",
       ".plutoui-toc section a:hover {\n",
       "\tcolor: var(--pluto-output-h-color);\n",
       "}\n",
       "\n",
       ".plutoui-toc.indent section a.H1 {\n",
       "\tfont-weight: 700;\n",
       "\tline-height: 1em;\n",
       "}\n",
       "\n",
       ".plutoui-toc.indent section a.H1 {\n",
       "\tpadding-left: 0px;\n",
       "}\n",
       ".plutoui-toc.indent section a.H2 {\n",
       "\tpadding-left: 10px;\n",
       "}\n",
       ".plutoui-toc.indent section a.H3 {\n",
       "\tpadding-left: 20px;\n",
       "}\n",
       ".plutoui-toc.indent section a.H4 {\n",
       "\tpadding-left: 30px;\n",
       "}\n",
       ".plutoui-toc.indent section a.H5 {\n",
       "\tpadding-left: 40px;\n",
       "}\n",
       ".plutoui-toc.indent section a.H6 {\n",
       "\tpadding-left: 50px;\n",
       "}\n",
       "</style>"
      ],
      "text/plain": [
       "TableOfContents(\"Table of Contents\", true, 3, true)"
      ]
     },
     "metadata": {},
     "output_type": "display_data"
    }
   ],
   "source": [
    "TableOfContents()"
   ]
  },
  {
   "cell_type": "markdown",
   "metadata": {},
   "source": [
    "## Load data\n",
    "Part of the [Medical Decathlon Dataset](http://medicaldecathlon.com/)"
   ]
  },
  {
   "cell_type": "code",
   "execution_count": 5,
   "metadata": {},
   "outputs": [
    {
     "data": {
      "text/plain": [
       "\"G:\\\\molloi-lab\\\\project-distance-transforms\\\\Task02_Heart\""
      ]
     },
     "metadata": {},
     "output_type": "display_data"
    }
   ],
   "source": [
    "data_dir = raw\"G:\\molloi-lab\\project-distance-transforms\\Task02_Heart\""
   ]
  },
  {
   "cell_type": "code",
   "execution_count": 6,
   "metadata": {},
   "outputs": [
    {
     "data": {
      "text/plain": [
       "loadfn_image (generic function with 1 method)"
      ]
     },
     "metadata": {},
     "output_type": "display_data"
    }
   ],
   "source": [
    "function loadfn_label(p)\n",
    "    a = NIfTI.niread(string(p)).raw\n",
    "    convert_a = convert(Array{UInt8}, a)\n",
    "    convert_a = convert_a .+ 1\n",
    "    return convert_a\n",
    "end\n",
    "\n",
    "function loadfn_image(p)\n",
    "    a = NIfTI.niread(string(p)).raw\n",
    "    convert_a = convert(Array{Float32}, a)\n",
    "    convert_a = convert_a / max(convert_a...)\n",
    "    return convert_a\n",
    "end"
   ]
  },
  {
   "cell_type": "code",
   "execution_count": 7,
   "metadata": {},
   "outputs": [
    {
     "data": {
      "text/plain": [
       "(mapobs(loadfn_image, [\"G:\\\\molloi-lab\\\\project-distance-transforms\\\\Task02_Heart\\\\imagesTr\\\\la_003.ni…]), mapobs(loadfn_label, [\"G:\\\\molloi-lab\\\\project-distance-transforms\\\\Task02_Heart\\\\labelsTr\\\\la_003.ni…]))"
      ]
     },
     "metadata": {},
     "output_type": "display_data"
    }
   ],
   "source": [
    "images(dir) = mapobs(loadfn_image, Glob.glob(\"*.nii*\", dir))\n",
    "masks(dir) =  mapobs(loadfn_label, Glob.glob(\"*.nii*\", dir))\n",
    "data = (\n",
    "    images(joinpath(data_dir, \"imagesTr\")),\n",
    "    masks(joinpath(data_dir, \"labelsTr\")),\n",
    ")"
   ]
  },
  {
   "cell_type": "code",
   "execution_count": 8,
   "metadata": {},
   "outputs": [],
   "source": [
    "image, mask = sample = getobs(data, 1);"
   ]
  },
  {
   "cell_type": "code",
   "execution_count": 9,
   "metadata": {},
   "outputs": [
    {
     "name": "stderr",
     "output_type": "stream",
     "text": [
      "┌ Info: 20\n",
      "└ @ Main g:\\molloi-lab\\project-distance-transforms\\julia_traning_simpler_FastAi.ipynb:1\n"
     ]
    }
   ],
   "source": [
    "@info nobs(images(joinpath(data_dir, \"imagesTr\")))"
   ]
  },
  {
   "cell_type": "code",
   "execution_count": 10,
   "metadata": {},
   "outputs": [
    {
     "data": {
      "text/plain": [
       "(320, 320, 110)"
      ]
     },
     "metadata": {},
     "output_type": "display_data"
    }
   ],
   "source": [
    "im_size = (320, 320, 110)"
   ]
  },
  {
   "cell_type": "code",
   "execution_count": 11,
   "metadata": {},
   "outputs": [
    {
     "data": {
      "text/plain": [
       "Float32"
      ]
     },
     "metadata": {},
     "output_type": "display_data"
    }
   ],
   "source": [
    "eltype(image)"
   ]
  },
  {
   "cell_type": "code",
   "execution_count": 12,
   "metadata": {},
   "outputs": [],
   "source": [
    "stats_image = Array{eltype(image)}(undef, im_size..., nobs(images(joinpath(data_dir, \"imagesTr\"))))\n",
    "for i = 1:nobs(images(joinpath(data_dir, \"imagesTr\")))\n",
    "    iimg = getobs(images(joinpath(data_dir, \"imagesTr\")), i)\n",
    "    img = imresize(iimg, im_size)\n",
    "    stats_image[:,:,:,i] = img\n",
    "end"
   ]
  },
  {
   "cell_type": "code",
   "execution_count": 13,
   "metadata": {},
   "outputs": [
    {
     "data": {
      "text/plain": [
       "(Float32[0.090970196], Float32[0.13716033])"
      ]
     },
     "metadata": {},
     "output_type": "display_data"
    }
   ],
   "source": [
    "a, b = FastAI.Vision.imagedatasetstats(stats_image, Gray{N0f8}, progressfn = identity) \n",
    "mean, std = SVector{1, Float32}(a), SVector{1, Float32}(b)"
   ]
  },
  {
   "cell_type": "code",
   "execution_count": 14,
   "metadata": {},
   "outputs": [],
   "source": []
  },
  {
   "cell_type": "code",
   "execution_count": 15,
   "metadata": {},
   "outputs": [
    {
     "data": {
      "text/plain": [
       "((DataSubset(::FastAI.Datasets.MappedData{typeof(loadfn_image), Vector{String}}, ::UnitRange{Int64}, ObsDim.Undefined())\n",
       " 16 observations, DataSubset(::FastAI.Datasets.MappedData{typeof(loadfn_label), Vector{String}}, ::UnitRange{Int64}, ObsDim.Undefined())\n",
       " 16 observations), (DataSubset(::FastAI.Datasets.MappedData{typeof(loadfn_image), Vector{String}}, ::UnitRange{Int64}, ObsDim.Undefined())\n",
       " 4 observations, DataSubset(::FastAI.Datasets.MappedData{typeof(loadfn_label), Vector{String}}, ::UnitRange{Int64}, ObsDim.Undefined())\n",
       " 4 observations))"
      ]
     },
     "metadata": {},
     "output_type": "display_data"
    }
   ],
   "source": [
    "train_files, val_files = MLDataPattern.splitobs(data, 0.8)"
   ]
  },
  {
   "cell_type": "code",
   "execution_count": 16,
   "metadata": {},
   "outputs": [],
   "source": [
    "image, mask = sample = getobs(data, 1);"
   ]
  },
  {
   "cell_type": "code",
   "execution_count": 17,
   "metadata": {},
   "outputs": [
    {
     "data": {
      "text/html": [
       "<input type='range' min='1' step='1' max='130' value='50' oninput='this.nextElementSibling.value=this.value'><output>50</output>"
      ],
      "text/plain": [
       "PlutoUI.BuiltinsNotebook.Slider{Int64}(1:130, 50, true)"
      ]
     },
     "metadata": {},
     "output_type": "display_data"
    }
   ],
   "source": [
    "@bind a PlutoUI.Slider(1:size(image, 3), default=50, show_value=true)"
   ]
  },
  {
   "cell_type": "code",
   "execution_count": 18,
   "metadata": {},
   "outputs": [
    {
     "data": {
      "image/png": "[encoded data removed]",
      "text/plain": [
       "Scene (800px, 600px):\n",
       "  18 Plots:\n",
       "    ├ Combined{Makie.poly, Tuple{Vector{Vector{Point{2, Float32}}}}}\n",
       "    ├ LineSegments{Tuple{Vector{Point{2, Float32}}}}\n",
       "    ├ LineSegments{Tuple{Vector{Point{2, Float32}}}}\n",
       "    ├ LineSegments{Tuple{Vector{Point{2, Float32}}}}\n",
       "    ├ LineSegments{Tuple{Vector{Point{2, Float32}}}}\n",
       "    ├ LineSegments{Tuple{Vector{Point{2, Float32}}}}\n",
       "    ├ LineSegments{Tuple{Vector{Point{2, Float32}}}}\n",
       "    ├ MakieCore.Text{Tuple{String}}\n",
       "    ├ Lines{Tuple{Vector{Point{2, Float32}}}}\n",
       "    ├ MakieCore.Text{Tuple{Vector{Tuple{AbstractString, Point{2, Float32}}}}}\n",
       "    ├ LineSegments{Tuple{Vector{Point{2, Float32}}}}\n",
       "    ├ LineSegments{Tuple{Vector{Point{2, Float32}}}}\n",
       "    ├ MakieCore.Text{Tuple{String}}\n",
       "    ├ Lines{Tuple{Vector{Point{2, Float32}}}}\n",
       "    ├ MakieCore.Text{Tuple{Vector{Tuple{AbstractString, Point{2, Float32}}}}}\n",
       "    ├ Lines{Tuple{Vector{Point{2, Float32}}}}\n",
       "    ├ Lines{Tuple{Vector{Point{2, Float32}}}}\n",
       "    └ MakieCore.Text{Tuple{String}}\n",
       "  1 Child Scene:\n",
       "    └ Scene (730px, 541px)"
      ]
     },
     "metadata": {},
     "output_type": "display_data"
    }
   ],
   "source": [
    "heatmap(image[:, :, a], colormap=:grays)"
   ]
  },
  {
   "cell_type": "code",
   "execution_count": 19,
   "metadata": {},
   "outputs": [
    {
     "data": {
      "image/png": "[encoded data removed]",
      "text/plain": [
       "Scene (800px, 600px):\n",
       "  18 Plots:\n",
       "    ├ Combined{Makie.poly, Tuple{Vector{Vector{Point{2, Float32}}}}}\n",
       "    ├ LineSegments{Tuple{Vector{Point{2, Float32}}}}\n",
       "    ├ LineSegments{Tuple{Vector{Point{2, Float32}}}}\n",
       "    ├ LineSegments{Tuple{Vector{Point{2, Float32}}}}\n",
       "    ├ LineSegments{Tuple{Vector{Point{2, Float32}}}}\n",
       "    ├ LineSegments{Tuple{Vector{Point{2, Float32}}}}\n",
       "    ├ LineSegments{Tuple{Vector{Point{2, Float32}}}}\n",
       "    ├ MakieCore.Text{Tuple{String}}\n",
       "    ├ Lines{Tuple{Vector{Point{2, Float32}}}}\n",
       "    ├ MakieCore.Text{Tuple{Vector{Tuple{AbstractString, Point{2, Float32}}}}}\n",
       "    ├ LineSegments{Tuple{Vector{Point{2, Float32}}}}\n",
       "    ├ LineSegments{Tuple{Vector{Point{2, Float32}}}}\n",
       "    ├ MakieCore.Text{Tuple{String}}\n",
       "    ├ Lines{Tuple{Vector{Point{2, Float32}}}}\n",
       "    ├ MakieCore.Text{Tuple{Vector{Tuple{AbstractString, Point{2, Float32}}}}}\n",
       "    ├ Lines{Tuple{Vector{Point{2, Float32}}}}\n",
       "    ├ Lines{Tuple{Vector{Point{2, Float32}}}}\n",
       "    └ MakieCore.Text{Tuple{String}}\n",
       "  1 Child Scene:\n",
       "    └ Scene (730px, 541px)"
      ]
     },
     "metadata": {},
     "output_type": "display_data"
    }
   ],
   "source": [
    "heatmap(mask[:, :, a], colormap=:grays)"
   ]
  },
  {
   "cell_type": "markdown",
   "metadata": {},
   "source": [
    "## Create learning task"
   ]
  },
  {
   "cell_type": "code",
   "execution_count": 20,
   "metadata": {},
   "outputs": [
    {
     "data": {
      "text/plain": [
       "(96, 96, 96)"
      ]
     },
     "metadata": {},
     "output_type": "display_data"
    }
   ],
   "source": [
    "image_size = (96, 96, 96)"
   ]
  },
  {
   "cell_type": "code",
   "execution_count": 21,
   "metadata": {},
   "outputs": [
    {
     "data": {
      "text/plain": [
       "presizeimage (generic function with 1 method)"
      ]
     },
     "metadata": {},
     "output_type": "display_data"
    }
   ],
   "source": [
    "function presizeimage(image, sz)\n",
    "    ratio = maximum(sz ./ size(image))\n",
    "    newsz = round.(Int, size(image) .* ratio)\n",
    "    σ = 0.25 .* ( 1 ./ (ratio, ratio))\n",
    "    k = KernelFactors.gaussian(σ)\n",
    "    return imresize(imfilter(image, k, NA()), newsz)\n",
    "end"
   ]
  },
  {
   "cell_type": "code",
   "execution_count": 22,
   "metadata": {},
   "outputs": [
    {
     "data": {
      "text/plain": [
       "presizeimage (generic function with 1 method)"
      ]
     },
     "metadata": {},
     "output_type": "display_data"
    }
   ],
   "source": [
    "presizeimage"
   ]
  },
  {
   "cell_type": "code",
   "execution_count": 23,
   "metadata": {},
   "outputs": [
    {
     "data": {
      "text/plain": [
       "SupervisedTask(FastAI.Vision.Image{3} -> Mask{3, Int64})"
      ]
     },
     "metadata": {},
     "output_type": "display_data"
    },
    {
     "name": "stderr",
     "output_type": "stream",
     "text": [
      "WARNING: both Makie and Vision export \"Image\"; uses of it in module FastAI must be qualified\n"
     ]
    }
   ],
   "source": [
    "task = SupervisedTask(\n",
    "    (FastAI.Vision.Image{3}(), Mask{3}(1:2)),\n",
    "    (\n",
    "        ProjectiveTransforms((image_size)),\n",
    "        ImagePreprocessing(means = mean, stds = std, C = Gray{N0f8}),\n",
    "        OneHot()\n",
    "    )\n",
    ")"
   ]
  },
  {
   "cell_type": "code",
   "execution_count": 24,
   "metadata": {},
   "outputs": [
    {
     "data": {
      "text/latex": [
       "\\textbf{\\texttt{SupervisedTask} summary}\n",
       "\n",
       "Learning task for the supervised task with input \\texttt{FastAI.Vision.Image\\{3\\}} and target \\texttt{Mask\\{3, Int64\\}}. Compatible with \\texttt{model}s that take in \\texttt{Bounded\\{3, FastAI.Vision.ImageTensor\\{3\\}\\}} and output \\texttt{Bounded\\{3, FastAI.OneHotTensor\\{3, Int64\\}\\}}.\n",
       "\n",
       "Encoding a sample (\\texttt{encodesample(task, context, sample)}) is done through the following encodings:\n",
       "\n",
       "\\begin{tabular}\n",
       "{r | r | r | r}\n",
       "Encoding & Name & \\texttt{blocks.input} & \\texttt{blocks.target} \\\\\n",
       "\\hline\n",
       " & \\texttt{(input, target)} & \\texttt{FastAI.Vision.Image\\{3\\}} & \\texttt{Mask\\{3, Int64\\}} \\\\\n",
       "\\texttt{ProjectiveTransforms} &  & \\textbf{\\texttt{Bounded\\{3, FastAI.Vision.Image\\{3\\}\\}}} & \\textbf{\\texttt{Bounded\\{3, Mask\\{3, Int64\\}\\}}} \\\\\n",
       "\\texttt{ImagePreprocessing} &  & \\textbf{\\texttt{Bounded\\{3, FastAI.Vision.ImageTensor\\{3\\}\\}}} &  \\\\\n",
       "\\texttt{OneHot} & \\texttt{(x, y)} &  & \\textbf{\\texttt{Bounded\\{3, FastAI.OneHotTensor\\{3, Int64\\}\\}}} \\\\\n",
       "\\end{tabular}\n"
      ],
      "text/markdown": [
       "**`SupervisedTask` summary**\n",
       "\n",
       "Learning task for the supervised task with input `FastAI.Vision.Image{3}` and target `Mask{3, Int64}`. Compatible with `model`s that take in `Bounded{3, FastAI.Vision.ImageTensor{3}}` and output `Bounded{3, FastAI.OneHotTensor{3, Int64}}`.\n",
       "\n",
       "Encoding a sample (`encodesample(task, context, sample)`) is done through the following encodings:\n",
       "\n",
       "|               Encoding |              Name |                                 `blocks.input` |                                 `blocks.target` |\n",
       "| ----------------------:| -----------------:| ----------------------------------------------:| -----------------------------------------------:|\n",
       "|                        | `(input, target)` |                       `FastAI.Vision.Image{3}` |                                `Mask{3, Int64}` |\n",
       "| `ProjectiveTransforms` |                   |       **`Bounded{3, FastAI.Vision.Image{3}}`** |                **`Bounded{3, Mask{3, Int64}}`** |\n",
       "|   `ImagePreprocessing` |                   | **`Bounded{3, FastAI.Vision.ImageTensor{3}}`** |                                                 |\n",
       "|               `OneHot` |          `(x, y)` |                                                | **`Bounded{3, FastAI.OneHotTensor{3, Int64}}`** |\n"
      ],
      "text/plain": [
       "  \u001b[1m\u001b[36mSupervisedTask\u001b[39m summary\u001b[22m\n",
       "\n",
       "  Learning task for the supervised task with input \u001b[36mFastAI.Vision.Image{3}\u001b[39m and\n",
       "  target \u001b[36mMask{3, Int64}\u001b[39m. Compatible with \u001b[36mmodel\u001b[39ms that take in \u001b[36mBounded{3,\n",
       "  FastAI.Vision.ImageTensor{3}}\u001b[39m and output \u001b[36mBounded{3, FastAI.OneHotTensor{3,\n",
       "  Int64}}\u001b[39m.\n",
       "\n",
       "  Encoding a sample (\u001b[36mencodesample(task, context, sample)\u001b[39m) is done through the\n",
       "  following encodings:\n",
       "\n",
       "              Encoding            Name                             \u001b[36mblocks.input\u001b[39m                             \u001b[36mblocks.target\u001b[39m\n",
       "  –––––––––––––––––––– ––––––––––––––– –––––––––––––––––––––––––––––––––––––––– –––––––––––––––––––––––––––––––––––––––––\n",
       "                       \u001b[36m(input, target)\u001b[39m                   \u001b[36mFastAI.Vision.Image{3}\u001b[39m                            \u001b[36mMask{3, Int64}\u001b[39m\n",
       "  \u001b[36mProjectiveTransforms\u001b[39m                       \u001b[1m\u001b[36mBounded{3, FastAI.Vision.Image{3}}\u001b[39m\u001b[22m                \u001b[1m\u001b[36mBounded{3, Mask{3, Int64}}\u001b[39m\u001b[22m\n",
       "    \u001b[36mImagePreprocessing\u001b[39m                 \u001b[1m\u001b[36mBounded{3, FastAI.Vision.ImageTensor{3}}\u001b[39m\u001b[22m                                          \n",
       "                \u001b[36mOneHot\u001b[39m          \u001b[36m(x, y)\u001b[39m                                          \u001b[1m\u001b[36mBounded{3, FastAI.OneHotTensor{3, Int64}}\u001b[39m\u001b[22m"
      ]
     },
     "metadata": {},
     "output_type": "display_data"
    }
   ],
   "source": [
    "describetask(task)"
   ]
  },
  {
   "cell_type": "markdown",
   "metadata": {},
   "source": [
    "## Visualize\n",
    "Notice the random cropping"
   ]
  },
  {
   "cell_type": "code",
   "execution_count": 25,
   "metadata": {},
   "outputs": [],
   "source": [
    "xs, ys = FastAI.makebatch(task, data, 1:3);"
   ]
  },
  {
   "cell_type": "code",
   "execution_count": 26,
   "metadata": {},
   "outputs": [
    {
     "data": {
      "text/html": [
       "<input type='range' min='1' step='1' max='96' value='50' oninput='this.nextElementSibling.value=this.value'><output>50</output>"
      ],
      "text/plain": [
       "PlutoUI.BuiltinsNotebook.Slider{Int64}(1:96, 50, true)"
      ]
     },
     "metadata": {},
     "output_type": "display_data"
    }
   ],
   "source": [
    "@bind b PlutoUI.Slider(1:size(xs, 3), default=50, show_value=true)"
   ]
  },
  {
   "cell_type": "code",
   "execution_count": 27,
   "metadata": {},
   "outputs": [
    {
     "data": {
      "image/png": "[encoded data removed]",
      "text/plain": [
       "Scene (800px, 600px):\n",
       "  18 Plots:\n",
       "    ├ Combined{Makie.poly, Tuple{Vector{Vector{Point{2, Float32}}}}}\n",
       "    ├ LineSegments{Tuple{Vector{Point{2, Float32}}}}\n",
       "    ├ LineSegments{Tuple{Vector{Point{2, Float32}}}}\n",
       "    ├ LineSegments{Tuple{Vector{Point{2, Float32}}}}\n",
       "    ├ LineSegments{Tuple{Vector{Point{2, Float32}}}}\n",
       "    ├ LineSegments{Tuple{Vector{Point{2, Float32}}}}\n",
       "    ├ LineSegments{Tuple{Vector{Point{2, Float32}}}}\n",
       "    ├ MakieCore.Text{Tuple{String}}\n",
       "    ├ Lines{Tuple{Vector{Point{2, Float32}}}}\n",
       "    ├ MakieCore.Text{Tuple{Vector{Tuple{AbstractString, Point{2, Float32}}}}}\n",
       "    ├ LineSegments{Tuple{Vector{Point{2, Float32}}}}\n",
       "    ├ LineSegments{Tuple{Vector{Point{2, Float32}}}}\n",
       "    ├ MakieCore.Text{Tuple{String}}\n",
       "    ├ Lines{Tuple{Vector{Point{2, Float32}}}}\n",
       "    ├ MakieCore.Text{Tuple{Vector{Tuple{AbstractString, Point{2, Float32}}}}}\n",
       "    ├ Lines{Tuple{Vector{Point{2, Float32}}}}\n",
       "    ├ Lines{Tuple{Vector{Point{2, Float32}}}}\n",
       "    └ MakieCore.Text{Tuple{String}}\n",
       "  1 Child Scene:\n",
       "    └ Scene (740px, 541px)"
      ]
     },
     "metadata": {},
     "output_type": "display_data"
    }
   ],
   "source": [
    "heatmap(xs[:, :, b, 1, 2], colormap=:grays)"
   ]
  },
  {
   "cell_type": "code",
   "execution_count": 28,
   "metadata": {},
   "outputs": [
    {
     "data": {
      "image/png": "[encoded data removed]",
      "text/plain": [
       "Scene (800px, 600px):\n",
       "  18 Plots:\n",
       "    ├ Combined{Makie.poly, Tuple{Vector{Vector{Point{2, Float32}}}}}\n",
       "    ├ LineSegments{Tuple{Vector{Point{2, Float32}}}}\n",
       "    ├ LineSegments{Tuple{Vector{Point{2, Float32}}}}\n",
       "    ├ LineSegments{Tuple{Vector{Point{2, Float32}}}}\n",
       "    ├ LineSegments{Tuple{Vector{Point{2, Float32}}}}\n",
       "    ├ LineSegments{Tuple{Vector{Point{2, Float32}}}}\n",
       "    ├ LineSegments{Tuple{Vector{Point{2, Float32}}}}\n",
       "    ├ MakieCore.Text{Tuple{String}}\n",
       "    ├ Lines{Tuple{Vector{Point{2, Float32}}}}\n",
       "    ├ MakieCore.Text{Tuple{Vector{Tuple{AbstractString, Point{2, Float32}}}}}\n",
       "    ├ LineSegments{Tuple{Vector{Point{2, Float32}}}}\n",
       "    ├ LineSegments{Tuple{Vector{Point{2, Float32}}}}\n",
       "    ├ MakieCore.Text{Tuple{String}}\n",
       "    ├ Lines{Tuple{Vector{Point{2, Float32}}}}\n",
       "    ├ MakieCore.Text{Tuple{Vector{Tuple{AbstractString, Point{2, Float32}}}}}\n",
       "    ├ Lines{Tuple{Vector{Point{2, Float32}}}}\n",
       "    ├ Lines{Tuple{Vector{Point{2, Float32}}}}\n",
       "    └ MakieCore.Text{Tuple{String}}\n",
       "  1 Child Scene:\n",
       "    └ Scene (740px, 541px)"
      ]
     },
     "metadata": {},
     "output_type": "display_data"
    }
   ],
   "source": [
    "heatmap(ys[:, :, b, 2, 2], colormap=:grays)"
   ]
  },
  {
   "cell_type": "markdown",
   "metadata": {},
   "source": [
    "## Dataloader"
   ]
  },
  {
   "cell_type": "code",
   "execution_count": 29,
   "metadata": {},
   "outputs": [
    {
     "data": {
      "text/plain": [
       "(DataLoaders.GetObsParallel{DataLoaders.BatchViewCollated{FastAI.TaskDataset{Tuple{DataSubset{FastAI.Datasets.MappedData{typeof(loadfn_image), Vector{String}}, SubArray{Int64, 1, Vector{Int64}, Tuple{UnitRange{Int64}}, true}, LearnBase.ObsDim.Undefined}, DataSubset{FastAI.Datasets.MappedData{typeof(loadfn_label), Vector{String}}, SubArray{Int64, 1, Vector{Int64}, Tuple{UnitRange{Int64}}, true}, LearnBase.ObsDim.Undefined}}, SupervisedTask{NamedTuple{(:input, :target, :sample, :encodedsample, :x, :y, :ŷ, :pred), Tuple{FastAI.Vision.Image{3}, Mask{3, Int64}, Tuple{FastAI.Vision.Image{3}, Mask{3, Int64}}, Tuple{Bounded{3, FastAI.Vision.ImageTensor{3}}, Bounded{3, FastAI.OneHotTensor{3, Int64}}}, Bounded{3, FastAI.Vision.ImageTensor{3}}, Bounded{3, FastAI.OneHotTensor{3, Int64}}, Bounded{3, FastAI.OneHotTensor{3, Int64}}, Bounded{3, Mask{3, Int64}}}}, Tuple{ProjectiveTransforms{3, NamedTuple{(:training, :validation, :inference), Tuple{DataAugmentation.BufferedThreadsafe, DataAugmentation.BufferedThreadsafe, DataAugmentation.Sequence{Tuple{DataAugmentation.CroppedProjectiveTransform{DataAugmentation.ScaleKeepAspect{3}, DataAugmentation.PadDivisible}, DataAugmentation.PinOrigin}}}}}, ImagePreprocessing{N0f8, 1, Gray{N0f8}, Float32}, OneHot{DataType}}}, Training}}}(batchviewcollated() with 16 batches of size 1, false), DataLoaders.GetObsParallel{DataLoaders.BatchViewCollated{FastAI.TaskDataset{Tuple{DataSubset{FastAI.Datasets.MappedData{typeof(loadfn_image), Vector{String}}, SubArray{Int64, 1, Vector{Int64}, Tuple{UnitRange{Int64}}, true}, LearnBase.ObsDim.Undefined}, DataSubset{FastAI.Datasets.MappedData{typeof(loadfn_label), Vector{String}}, SubArray{Int64, 1, Vector{Int64}, Tuple{UnitRange{Int64}}, true}, LearnBase.ObsDim.Undefined}}, SupervisedTask{NamedTuple{(:input, :target, :sample, :encodedsample, :x, :y, :ŷ, :pred), Tuple{FastAI.Vision.Image{3}, Mask{3, Int64}, Tuple{FastAI.Vision.Image{3}, Mask{3, Int64}}, Tuple{Bounded{3, FastAI.Vision.ImageTensor{3}}, Bounded{3, FastAI.OneHotTensor{3, Int64}}}, Bounded{3, FastAI.Vision.ImageTensor{3}}, Bounded{3, FastAI.OneHotTensor{3, Int64}}, Bounded{3, FastAI.OneHotTensor{3, Int64}}, Bounded{3, Mask{3, Int64}}}}, Tuple{ProjectiveTransforms{3, NamedTuple{(:training, :validation, :inference), Tuple{DataAugmentation.BufferedThreadsafe, DataAugmentation.BufferedThreadsafe, DataAugmentation.Sequence{Tuple{DataAugmentation.CroppedProjectiveTransform{DataAugmentation.ScaleKeepAspect{3}, DataAugmentation.PadDivisible}, DataAugmentation.PinOrigin}}}}}, ImagePreprocessing{N0f8, 1, Gray{N0f8}, Float32}, OneHot{DataType}}}, Validation}}}(batchviewcollated() with 2 batches of size 2, false))"
      ]
     },
     "metadata": {},
     "output_type": "display_data"
    }
   ],
   "source": [
    "traindl, validdl = taskdataloaders(data, task, 1)"
   ]
  },
  {
   "cell_type": "markdown",
   "metadata": {},
   "source": [
    "## Model"
   ]
  },
  {
   "cell_type": "code",
   "execution_count": 30,
   "metadata": {},
   "outputs": [
    {
     "data": {
      "text/plain": [
       "#21 (generic function with 1 method)"
      ]
     },
     "metadata": {},
     "output_type": "display_data"
    }
   ],
   "source": [
    "conv = (stride, in, out) -> Conv((3, 3, 3), in=>out, stride=stride, pad=(1, 1, 1))\n",
    "tran = (stride, in, out) -> ConvTranspose((4, 4, 4), in=>out, stride=stride, pad=1)\n",
    "\n",
    "conv1 = (in, out) -> Chain(conv(1, in, out), BatchNorm(out), x -> leakyrelu.(x))\n",
    "conv2 = (in, out) -> Chain(conv(2, in, out), BatchNorm(out), x -> leakyrelu.(x))\n",
    "tran2 = (in, out) -> Chain(tran(2, in, out), BatchNorm(out), x -> leakyrelu.(x))"
   ]
  },
  {
   "cell_type": "code",
   "execution_count": 31,
   "metadata": {},
   "outputs": [
    {
     "data": {
      "text/plain": [
       "unet3D (generic function with 1 method)"
      ]
     },
     "metadata": {},
     "output_type": "display_data"
    }
   ],
   "source": [
    "function unet3D(in_chs, lbl_chs)\n",
    "    # Contracting layers\n",
    "    l1 = Chain(conv1(in_chs, 4))\n",
    "    l2 = Chain(l1, conv1(4, 4), conv2(4, 16))\n",
    "    l3 = Chain(l2, conv1(16, 16), conv2(16, 32))\n",
    "    l4 = Chain(l3, conv1(32, 32), conv2(32, 64))\n",
    "    l5 = Chain(l4, conv1(64, 64), conv2(64, 128))\n",
    "\n",
    "    # Expanding layers\n",
    "    l6 = Chain(l5, tran2(128, 64), conv1(64, 64))\n",
    "    l7 = Chain(Parallel(+, l6, l4), tran2(64, 32), conv1(32, 32))       # Residual connection between l6 & l4\n",
    "    l8 = Chain(Parallel(+, l7, l3), tran2(32, 16), conv1(16, 16))       # Residual connection between l7 & l3\n",
    "    l9 = Chain(Parallel(+, l8, l2), tran2(16, 4), conv1(4, 4))          # Residual connection between l8 & l2\n",
    "    l10 = Chain(l9, conv1(4, lbl_chs))\n",
    "end"
   ]
  },
  {
   "cell_type": "code",
   "execution_count": 32,
   "metadata": {},
   "outputs": [],
   "source": [
    "model = unet3D(1, 2) |> gpu;"
   ]
  },
  {
   "cell_type": "markdown",
   "metadata": {},
   "source": [
    "## Helper functions"
   ]
  },
  {
   "cell_type": "code",
   "execution_count": 33,
   "metadata": {},
   "outputs": [
    {
     "data": {
      "text/plain": [
       "as_discrete (generic function with 1 method)"
      ]
     },
     "metadata": {},
     "output_type": "display_data"
    }
   ],
   "source": [
    "function dice_metric(ŷ, y)\n",
    "    dice = 2 * sum(ŷ .& y) / (sum(ŷ) + sum(y))\n",
    "    return dice\n",
    "end\n",
    "\n",
    "function as_discrete(array, logit_threshold)\n",
    "    array = array .>= logit_threshold\n",
    "    return array\n",
    "end"
   ]
  },
  {
   "cell_type": "markdown",
   "metadata": {},
   "source": [
    "## Loss functions"
   ]
  },
  {
   "cell_type": "code",
   "execution_count": 34,
   "metadata": {},
   "outputs": [
    {
     "data": {
      "text/plain": [
       "hd_loss (generic function with 1 method)"
      ]
     },
     "metadata": {},
     "output_type": "display_data"
    }
   ],
   "source": [
    "function dice_loss(ŷ, y)\n",
    "    ϵ = 1e-5\n",
    "    return loss = 1 - ((2 * sum(ŷ .* y) + ϵ) / (sum(ŷ .* ŷ) + sum(y .* y) + ϵ))\n",
    "end\n",
    "\n",
    "function hd_loss(ŷ, y, ŷ_dtm, y_dtm)\n",
    "    M = (ŷ .- y) .^ 2 .* (ŷ_dtm .^ 2 .+ y_dtm .^ 2)\n",
    "    return loss = mean(M)\n",
    "end"
   ]
  },
  {
   "cell_type": "markdown",
   "metadata": {},
   "source": [
    "## Training"
   ]
  },
  {
   "cell_type": "code",
   "execution_count": 35,
   "metadata": {},
   "outputs": [
    {
     "data": {
      "text/plain": [
       "ADAM(0.01, (0.9, 0.999), 1.0e-8, IdDict{Any, Any}())"
      ]
     },
     "metadata": {},
     "output_type": "display_data"
    }
   ],
   "source": [
    "ps = Flux.params(model);\n",
    "loss_function = dice_loss\n",
    "optimizer = Flux.ADAM(0.01)"
   ]
  },
  {
   "cell_type": "code",
   "execution_count": 36,
   "metadata": {},
   "outputs": [
    {
     "data": {
      "text/plain": [
       "Any[]"
      ]
     },
     "metadata": {},
     "output_type": "display_data"
    }
   ],
   "source": [
    "max_epochs = 2\n",
    "val_interval = 1\n",
    "epoch_loss_values = []\n",
    "val_epoch_loss_values = []\n",
    "dice_metric_values = []"
   ]
  },
  {
   "cell_type": "code",
   "execution_count": 37,
   "metadata": {},
   "outputs": [
    {
     "name": "stderr",
     "output_type": "stream",
     "text": [
      "┌ Info: (96, 96, 96, 1, 2)\n",
      "└ @ Main g:\\molloi-lab\\project-distance-transforms\\julia_traning_simpler_FastAi.ipynb:2\n",
      "┌ Info: (96, 96, 96, 2, 2)\n",
      "└ @ Main g:\\molloi-lab\\project-distance-transforms\\julia_traning_simpler_FastAi.ipynb:3\n",
      "┌ Info: (96, 96, 96, 1, 2)\n",
      "└ @ Main g:\\molloi-lab\\project-distance-transforms\\julia_traning_simpler_FastAi.ipynb:2\n",
      "┌ Info: (96, 96, 96, 2, 2)\n",
      "└ @ Main g:\\molloi-lab\\project-distance-transforms\\julia_traning_simpler_FastAi.ipynb:3\n"
     ]
    }
   ],
   "source": [
    "for (xs, ys) in validdl\n",
    "    @info size(xs)\n",
    "    @info size(ys)\n",
    "end\n",
    "\n",
    "# for (xs, ys) in traindl\n",
    "#     @info size(xs)\n",
    "#     @info size(ys)\n",
    "# end"
   ]
  },
  {
   "cell_type": "code",
   "execution_count": 38,
   "metadata": {},
   "outputs": [],
   "source": [
    "for epoch in 1:max_epochs\n",
    "    step = 0\n",
    "    @show epoch\n",
    "\n",
    "    # Loop through training data\n",
    "    for (xs, ys) in traindl\n",
    "        xs, ys =  ys |> gpu, xs |> gpu\n",
    "        step += 1\n",
    "        @show step\n",
    "        gs = Flux.gradient(ps) do\n",
    "            ŷs = model(xs)\n",
    "            loss = loss_function(ŷs[:, :, :, 2, :], ys[:, :, :, 2, :])\n",
    "            return loss\n",
    "        end\n",
    "        Flux.update!(optimizer, ps, gs)\n",
    "    end\n",
    "\n",
    "    # Loop through validation data\n",
    "    if (epoch + 1) % val_interval == 0\n",
    "        val_step = 0\n",
    "        for (val_xs, val_ys) in validdl\n",
    "            val_xs, val_ys = val_xs |> gpu, val_ys |> gpu\n",
    "            val_step += 1\n",
    "            @show val_step\n",
    "\n",
    "            local val_ŷs = model(val_xs)\n",
    "            local val_loss = loss_function(val_ŷs[:, :, :, 2, :], val_ys[:, :, :, 2, :])\n",
    "            val_ŷs, val_ys = as_discrete(val_ŷs, 0.5), as_discrete(val_ys, 0.5)\n",
    "        end\n",
    "    end\n",
    "end"
   ]
  },
  {
   "cell_type": "code",
   "execution_count": null,
   "metadata": {},
   "outputs": [],
   "source": []
  },
  {
   "cell_type": "code",
   "execution_count": null,
   "metadata": {},
   "outputs": [],
   "source": []
  },
  {
   "cell_type": "code",
   "execution_count": null,
   "metadata": {},
   "outputs": [],
   "source": []
  },
  {
   "cell_type": "code",
   "execution_count": null,
   "metadata": {},
   "outputs": [],
   "source": []
  },
  {
   "cell_type": "code",
   "execution_count": null,
   "metadata": {},
   "outputs": [],
   "source": []
  }
 ],
 "metadata": {
  "kernelspec": {
   "display_name": "Julia 1.7.2",
   "language": "julia",
   "name": "julia-1.7"
  },
  "language_info": {
   "file_extension": ".jl",
   "mimetype": "application/julia",
   "name": "julia",
   "version": "1.7.2"
  },
  "orig_nbformat": 4
 },
 "nbformat": 4,
 "nbformat_minor": 2
}
