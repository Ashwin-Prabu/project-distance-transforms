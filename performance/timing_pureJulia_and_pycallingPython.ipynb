{
 "cells": [
  {
   "cell_type": "code",
   "execution_count": 1,
   "metadata": {},
   "outputs": [],
   "source": [
    "#\n",
    "#\tWenbo Li 03/29/2022\n",
    "#\n",
    "#\tenv:\tJulia 1.7.2,    Python 3.9.5,   Pytorch 1.10.2,   CUDA 11.3,   \n",
    "#       \tcuDNN 8.2.0,    AMD Ryzen-3950X(numThreads=32),    Nvidia RTX-2080Ti,  Windows 10"
   ]
  },
  {
   "cell_type": "markdown",
   "metadata": {},
   "source": [
    "# Setting up environment"
   ]
  },
  {
   "cell_type": "code",
   "execution_count": 2,
   "metadata": {},
   "outputs": [],
   "source": [
    "using PyCall\n",
    "torch = pyimport(\"torch\")\n",
    "np = pyimport(\"numpy\")\n",
    "py\"\"\"\n",
    "import torch\n",
    "import numpy as np\n",
    "from scipy.ndimage import distance_transform_edt as distance\n",
    "from scipy.ndimage import _nd_image\n",
    "\"\"\"\n",
    "device = torch.device(\"cuda:0\");\n",
    "println(device)\n",
    "\n",
    "let\n",
    "\tusing Pkg\n",
    "\tPkg.activate(mktempdir())\n",
    "\tPkg.Registry.update()\n",
    "\tPkg.add(\"BenchmarkTools\")\n",
    "\tPkg.add(\"Plots\")\n",
    "\tPkg.add(\"PlutoUI\")\n",
    "\tPkg.add(\"DataFrames\")\n",
    "\tPkg.add(\"CSV\")\n",
    "\tPkg.add(\"CUDA\")\n",
    "\tPkg.add(url=\"https://github.com/Dale-Black/DistanceTransforms.jl\")\n",
    "\tPkg.add(url=\"https://github.com/Dale-Black/Losers.jl\");\n",
    "end\n",
    "\n",
    "using PlutoUI\n",
    "using BenchmarkTools\n",
    "using Plots\n",
    "using DataFrames\n",
    "using CSV\n",
    "using CUDA\n",
    "using DistanceTransforms\n",
    "using Losers;"
   ]
  },
  {
   "cell_type": "code",
   "execution_count": null,
   "metadata": {},
   "outputs": [],
   "source": [
    "# init arrays\n",
    "hd_mean_cpu_python = []\n",
    "hd_std_cpu_python = []\n",
    "\n",
    "hd_mean_cpu_julia = []\n",
    "hd_std_cpu_julia = []\n",
    "\n",
    "hd_mean_gpu_python = []\n",
    "hd_std_gpu_python = []\n",
    "\n",
    "hd_mean_gpu_julia = []\n",
    "hd_std_gpu_julia = []\n",
    "\n",
    "dice_mean_cpu_python = []\n",
    "dice_std_cpu_python = []\n",
    "\n",
    "dice_mean_cpu_julia = []\n",
    "dice_std_cpu_julia = []\n",
    "\n",
    "dice_mean_gpu_python = []\n",
    "dice_std_gpu_python = []\n",
    "\n",
    "dice_mean_gpu_julia = []\n",
    "dice_std_gpu_julia = []\n",
    "\n",
    "edt_mean_cpu_python = []\n",
    "edt_std_cpu_python = []\n",
    "\n",
    "edt_mean_cpu_julia = []\n",
    "edt_std_cpu_julia = []\n",
    "\n",
    "sedt_mean_cpu_julia = []\n",
    "sedt_std_cpu_julia = []\n",
    "\n",
    "sedtP_mean_cpu_julia = []\n",
    "sedtP_std_cpu_julia = []\n",
    "\n",
    "sedtGPU_mean_gpu_julia = []\n",
    "sedtGPU_std_gpu_julia = []\n",
    "\n",
    "finish_size=1000;"
   ]
  },
  {
   "cell_type": "markdown",
   "metadata": {},
   "source": [
    "# 1.1 Hausdorff Loss"
   ]
  },
  {
   "cell_type": "code",
   "execution_count": null,
   "metadata": {},
   "outputs": [],
   "source": [
    "#define hd_loss for python\n",
    "py\"\"\"\n",
    "def hd_loss(seg_soft, gt, seg_dtm, gt_dtm):\n",
    "    delta_s = (seg_soft - gt) ** 2\n",
    "    s_dtm = seg_dtm ** 2\n",
    "    g_dtm = gt_dtm ** 2\n",
    "    dtm = s_dtm + g_dtm\n",
    "    multipled = torch.einsum('xy, xy->xy', delta_s, dtm)\n",
    "    hd_loss = multipled.mean()\n",
    "    return hd_loss\n",
    "\"\"\""
   ]
  },
  {
   "cell_type": "code",
   "execution_count": null,
   "metadata": {},
   "outputs": [],
   "source": [
    "#Hausdorff Loss Python CPU\n",
    "for n in 2:100:finish_size\n",
    "\tx1= torch.randint(0,2,(n,n))\n",
    "\ttfm1 = torch.from_numpy(py\"distance\"(x1))\n",
    "\thd1 = @benchmark py\"hd_loss\"($x1, $x1, $tfm1, $tfm1)\n",
    "    push!(hd_mean_cpu_python, BenchmarkTools.mean(hd1).time)\n",
    "\tpush!(hd_std_cpu_python, BenchmarkTools.std(hd1).time)\n",
    "end"
   ]
  },
  {
   "cell_type": "code",
   "execution_count": 32,
   "metadata": {},
   "outputs": [],
   "source": [
    "#Hausdorff Loss Julia CPU\n",
    "for n in 2:100:finish_size\n",
    "    x2 = DistanceTransforms.boolean_indicator(rand([0, 1], n, n))\n",
    "\ttfm2 = DistanceTransforms.SquaredEuclidean(x2)\n",
    "\tx2_dtm = DistanceTransforms.transform(x2, tfm2)\n",
    "\thd2 = @benchmark hausdorff($x2, $x2, $x2_dtm, $x2_dtm)\n",
    "\t\t\n",
    "\tpush!(hd_mean_cpu_julia, BenchmarkTools.mean(hd2).time)\n",
    "\tpush!(hd_std_cpu_julia, BenchmarkTools.std(hd2).time)\n",
    "end"
   ]
  },
  {
   "cell_type": "code",
   "execution_count": null,
   "metadata": {},
   "outputs": [],
   "source": [
    "#Hausdorff Loss Python GPU\n",
    "for n in 2:100:finish_size\n",
    "    x4 = torch.randint(0,2,(n,n)).to(device)\n",
    "    tfm4 = torch.from_numpy(py\"distance\"(x4.cpu().numpy())).to(device)\n",
    "\thd4 = @benchmark py\"hd_loss\"($x4, $x4, $tfm4, $tfm4)\n",
    "    \n",
    "    push!(hd_mean_gpu_python, BenchmarkTools.mean(hd4).time)\n",
    "\tpush!(hd_std_gpu_python, BenchmarkTools.std(hd4).time)\n",
    "end"
   ]
  },
  {
   "cell_type": "code",
   "execution_count": null,
   "metadata": {},
   "outputs": [],
   "source": [
    "#Hausdorff Loss Julia GPU\n",
    "for n in 2:100:finish_size\n",
    "    x3 = DistanceTransforms.boolean_indicator(CUDA.rand(n, n))\n",
    "\tdt3 = CuArray{Float32}(undef, size(x3))\n",
    "\tv3 = CUDA.ones(Int64, size(x3))\n",
    "\tz3 = CUDA.zeros(Float32, size(x3) .+ 1)\n",
    "\ttfm3 = DistanceTransforms.SquaredEuclidean(x3, dt3, v3, z3)\n",
    "\tx3_dtm = DistanceTransforms.transform!(x3, tfm3)\n",
    "\thd3 = @benchmark hausdorff($x3, $x3, $x3_dtm, $x3_dtm)\n",
    "\t\t\n",
    "\tpush!(hd_mean_gpu_julia, BenchmarkTools.mean(hd3).time)\n",
    "\tpush!(hd_std_gpu_julia, BenchmarkTools.std(hd3).time)\n",
    "end"
   ]
  },
  {
   "cell_type": "markdown",
   "metadata": {},
   "source": [
    "# 1.2 DICE Loss"
   ]
  },
  {
   "cell_type": "code",
   "execution_count": null,
   "metadata": {},
   "outputs": [],
   "source": [
    "#define dice_loss for python\n",
    "py\"\"\"\n",
    "def dice_loss(score, target):\n",
    "    target = target.float()\n",
    "    smooth = 1e-5\n",
    "    intersect = torch.sum(score * target)\n",
    "    y_sum = torch.sum(target * target)\n",
    "    z_sum = torch.sum(score * score)\n",
    "    loss = (2 * intersect + smooth) / (z_sum + y_sum + smooth)\n",
    "    loss = 1 - loss\n",
    "    return loss\n",
    "\"\"\""
   ]
  },
  {
   "cell_type": "code",
   "execution_count": null,
   "metadata": {},
   "outputs": [],
   "source": [
    "#Dice Loss Python CPU\n",
    "for n in 2:100:finish_size\n",
    "    x1 = torch.randint(0,2,(n,n))\n",
    "    dice1 = @benchmark py\"dice_loss\"($x1, $x1)\n",
    "    \n",
    "    push!(dice_mean_cpu_python, BenchmarkTools.mean(dice1).time)\n",
    "\tpush!(dice_std_cpu_python, BenchmarkTools.std(dice1).time)\n",
    "end"
   ]
  },
  {
   "cell_type": "code",
   "execution_count": null,
   "metadata": {},
   "outputs": [],
   "source": [
    "#Dice Loss Julia CPU\n",
    "for n in 2:100:finish_size\n",
    "    x2 = rand([0, 1], n, n)\n",
    "\tdice2 = @benchmark dice($x2, $x2)\n",
    "\t\t\n",
    "\tpush!(dice_mean_cpu_julia, BenchmarkTools.mean(dice2).time)\n",
    "\tpush!(dice_std_cpu_julia, BenchmarkTools.std(dice2).time)\n",
    "end"
   ]
  },
  {
   "cell_type": "code",
   "execution_count": null,
   "metadata": {},
   "outputs": [],
   "source": [
    "#Dice Loss Python GPU\n",
    "for n in 2:100:finish_size\n",
    "    x3 = torch.randint(0,2,(n,n)).to(device)\n",
    "    dice3 = @benchmark py\"dice_loss\"($x3, $x3)\n",
    "    \n",
    "    push!(dice_mean_gpu_python, BenchmarkTools.mean(dice3).time)\n",
    "\tpush!(dice_std_gpu_python, BenchmarkTools.std(dice3).time)\n",
    "end"
   ]
  },
  {
   "cell_type": "code",
   "execution_count": null,
   "metadata": {},
   "outputs": [],
   "source": [
    "#Dice Loss Julia GPU\n",
    "for n in 2:100:finish_size\n",
    "    x4 = rand([0, 1], n, n)\n",
    "\tx4 = CuArray(x4)\n",
    "\tdice4 = @benchmark dice($x4, $x4)\n",
    "\t\t\n",
    "\tpush!(dice_mean_gpu_julia, BenchmarkTools.mean(dice4).time)\n",
    "\tpush!(dice_std_gpu_julia, BenchmarkTools.std(dice4).time)\n",
    "end"
   ]
  },
  {
   "cell_type": "markdown",
   "metadata": {},
   "source": [
    "# 2.1 Euclidean DT"
   ]
  },
  {
   "cell_type": "code",
   "execution_count": null,
   "metadata": {},
   "outputs": [],
   "source": [
    "#Euclidean DT python CPU\n",
    "for n in 2:100:finish_size\n",
    "    x1 = torch.randint(0,2,(n,n))\n",
    "    edt1 = @benchmark torch.from_numpy(py\"distance\"($x1))\n",
    "    \n",
    "    push!(edt_mean_cpu_python, BenchmarkTools.mean(edt1).time)\n",
    "\tpush!(edt_std_cpu_python, BenchmarkTools.std(edt1).time)\n",
    "end"
   ]
  },
  {
   "cell_type": "code",
   "execution_count": null,
   "metadata": {},
   "outputs": [],
   "source": [
    "#Euclidean DT julia CPU\n",
    "for n in 2:100:finish_size\n",
    "    x2 = Bool.(rand([0, 1], n, n))\n",
    "    edt2 = @benchmark euclidean($x2)\n",
    "\n",
    "    push!(edt_mean_cpu_julia, BenchmarkTools.mean(edt2).time)\n",
    "    push!(edt_std_cpu_julia, BenchmarkTools.std(edt2).time)\n",
    "end"
   ]
  },
  {
   "cell_type": "markdown",
   "metadata": {},
   "source": [
    "# 2.2 Squared Euclidean DT"
   ]
  },
  {
   "cell_type": "code",
   "execution_count": null,
   "metadata": {},
   "outputs": [],
   "source": [
    "#Squared Euclidean DT julia CPU\n",
    "for n in 2:100:finish_size\n",
    "    x3 = DistanceTransforms.boolean_indicator(rand([0, 1], n, n))\n",
    "    tfm3 = DistanceTransforms.SquaredEuclidean(x3)\n",
    "    sedt = @benchmark DistanceTransforms.transform($x3, $tfm3)\n",
    "    \n",
    "    push!(sedt_mean_cpu_julia, BenchmarkTools.mean(sedt).time)\n",
    "    push!(sedt_std_cpu_julia, BenchmarkTools.std(sedt).time)\n",
    "end"
   ]
  },
  {
   "cell_type": "markdown",
   "metadata": {},
   "source": [
    "# 2.3 Squared Euclidean Threaded DT"
   ]
  },
  {
   "cell_type": "code",
   "execution_count": null,
   "metadata": {},
   "outputs": [],
   "source": [
    "#Squared Euclidean Threaded DT julia CPU\n",
    "for n in 2:100:finish_size\n",
    "    x4 = DistanceTransforms.boolean_indicator(rand([0, 1], n, n))\n",
    "    tfm4 = DistanceTransforms.SquaredEuclidean(x4)\n",
    "    nthreads = Threads.nthreads()\n",
    "    print(\"num of nthreads: \")\n",
    "    print(nthreads)\n",
    "    sedtP = @benchmark DistanceTransforms.transform!($x4, $tfm4, $nthreads)\n",
    "    \n",
    "    push!(sedtP_mean_cpu_julia, BenchmarkTools.mean(sedtP).time)\n",
    "    push!(sedtP_std_cpu_julia, BenchmarkTools.std(sedtP).time)\n",
    "end"
   ]
  },
  {
   "cell_type": "markdown",
   "metadata": {},
   "source": [
    "# 2.4 Squared Euclidean GPU DT"
   ]
  },
  {
   "cell_type": "code",
   "execution_count": null,
   "metadata": {},
   "outputs": [],
   "source": [
    "#Squared Euclidean GPU DT julia GPU\n",
    "for n in 2:100:finish_size\n",
    "    x5 = DistanceTransforms.boolean_indicator(CUDA.rand(n, n))\n",
    "    dt5 = CuArray{Float32}(undef, size(x5))\n",
    "    v5 = CUDA.ones(Int64, size(x5))\n",
    "    z5 = CUDA.zeros(Float32, size(x5) .+ 1)\n",
    "    tfm5 = DistanceTransforms.SquaredEuclidean(x5, dt5, v5, z5)\n",
    "    sedtGPU = @benchmark DistanceTransforms.transform!($x5, $tfm5)\n",
    "\n",
    "\tpush!(sedtGPU_mean_gpu_julia, BenchmarkTools.mean(sedtGPU).time)\n",
    "\tpush!(sedtGPU_std_gpu_julia, BenchmarkTools.std(sedtGPU).time)\n",
    "end"
   ]
  },
  {
   "cell_type": "markdown",
   "metadata": {},
   "source": [
    "# Saving as csv"
   ]
  },
  {
   "cell_type": "code",
   "execution_count": null,
   "metadata": {},
   "outputs": [],
   "source": [
    "df = DataFrame(\n",
    "\thd_mean_cpu_python = hd_mean_cpu_python,\n",
    "\thd_mean_cpu_julia = hd_mean_cpu_julia,\n",
    "\thd_mean_gpu_python = hd_mean_gpu_python,\n",
    "\thd_mean_gpu_julia = hd_mean_gpu_julia,\n",
    "\tdice_mean_cpu_python = dice_mean_cpu_python,\n",
    "\tdice_mean_cpu_julia=dice_mean_cpu_julia,\n",
    "\tdice_mean_gpu_python=dice_mean_gpu_python,\n",
    "\tdice_mean_gpu_julia=dice_mean_gpu_julia,\n",
    "\tedt_mean_cpu_python=edt_mean_cpu_python,\n",
    "\tedt_mean_cpu_julia=edt_mean_cpu_julia,\n",
    "\tsedt_mean_cpu_julia=sedt_mean_cpu_julia,\n",
    "\tsedtP_mean_cpu_julia=sedtP_mean_cpu_julia,\n",
    "\tsedtGPU_mean_gpu_julia=sedtGPU_mean_gpu_julia,\n",
    "\n",
    "\n",
    "\thd_std_cpu_python = hd_std_cpu_python,\n",
    "\thd_std_cpu_julia = hd_std_cpu_julia,\n",
    "\thd_std_gpu_python = hd_std_gpu_python,\n",
    "\thd_std_gpu_julia = hd_std_gpu_julia,\n",
    "\tdice_std_cpu_python = dice_std_cpu_python,\n",
    "\tdice_std_cpu_julia=dice_std_cpu_julia,\n",
    "\tdice_std_gpu_python=dice_std_gpu_python,\n",
    "\tdice_std_gpu_julia=dice_std_gpu_julia,\n",
    "\tedt_std_cpu_python=edt_std_cpu_python,\n",
    "\tedt_std_cpu_julia=edt_std_cpu_julia,\n",
    "\tsedt_std_cpu_julia=sedt_std_cpu_julia,\n",
    "\tsedtP_std_cpu_julia=sedtP_std_cpu_julia,\n",
    "\tsedtGPU_std_gpu_julia=sedtGPU_std_gpu_julia\n",
    "\t)\n",
    "\n",
    "\tpath = raw\"G:\\molloi-lab\\project-distance-transforms\\performance\\pureJulia_pyCallingPython_Losses_DTs_ver1.csv\"\n",
    "\tCSV.write(path, df)"
   ]
  },
  {
   "cell_type": "code",
   "execution_count": null,
   "metadata": {},
   "outputs": [],
   "source": []
  },
  {
   "cell_type": "code",
   "execution_count": null,
   "metadata": {},
   "outputs": [],
   "source": []
  }
 ],
 "metadata": {
  "kernelspec": {
   "display_name": "Julia 1.7.2",
   "language": "julia",
   "name": "julia-1.7"
  },
  "language_info": {
   "file_extension": ".jl",
   "mimetype": "application/julia",
   "name": "julia",
   "version": "1.7.2"
  }
 },
 "nbformat": 4,
 "nbformat_minor": 4
}
